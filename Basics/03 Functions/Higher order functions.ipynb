{
 "cells": [
  {
   "cell_type": "code",
   "execution_count": 3,
   "id": "688f1f52",
   "metadata": {},
   "outputs": [],
   "source": [
    "def add(n1, n2):\n",
    "    return n1 + n2\n",
    "\n",
    "def subtract(n1, n2):\n",
    "    return n1-n2\n",
    "\n",
    "def multiply(n1,n2):\n",
    "    return n1*n2\n",
    "\n",
    "def divide(n1,n2):\n",
    "    return n1/n2\n",
    "\n",
    "def calculator(n1, n2, operation):\n",
    "    return operation(n1,2)\n"
   ]
  },
  {
   "cell_type": "code",
   "execution_count": 4,
   "id": "27a55d48",
   "metadata": {},
   "outputs": [
    {
     "name": "stdout",
     "output_type": "stream",
     "text": [
      "7\n",
      "3\n",
      "10\n",
      "2.5\n"
     ]
    }
   ],
   "source": [
    "result_sum = calculator(5, 1, add)\n",
    "print(result_sum)\n",
    "\n",
    "result_res = calculator(5, 1, subtract)\n",
    "print(result_res)\n",
    "\n",
    "result_mult = calculator(5, 1, multiply)\n",
    "print(result_mult)\n",
    "\n",
    "result_dev = calculator(5, 1, divide)\n",
    "print(result_dev)\n"
   ]
  },
  {
   "cell_type": "code",
   "execution_count": null,
   "id": "4c19734e",
   "metadata": {},
   "outputs": [],
   "source": []
  }
 ],
 "metadata": {
  "kernelspec": {
   "display_name": "Python 3 (ipykernel)",
   "language": "python",
   "name": "python3"
  },
  "language_info": {
   "codemirror_mode": {
    "name": "ipython",
    "version": 3
   },
   "file_extension": ".py",
   "mimetype": "text/x-python",
   "name": "python",
   "nbconvert_exporter": "python",
   "pygments_lexer": "ipython3",
   "version": "3.11.5"
  }
 },
 "nbformat": 4,
 "nbformat_minor": 5
}
