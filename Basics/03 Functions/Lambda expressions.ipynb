{
 "cells": [
  {
   "cell_type": "markdown",
   "id": "53b67fde",
   "metadata": {},
   "source": [
    "<h1>Lambda Expressions</h1>\n",
    "\n",
    "<h2>1. Introduction</h2>\n",
    "In Python, you can use lambda expressions to create anonymous functions, that is, functions that don't have a name. They are very helpful for creating quick functions that aren't really needed later in your code.\n",
    "\n",
    "Consider the next funtion tha doubles the input values\n",
    "\n",
    "```\n",
    "def double_fnc(value):\n",
    "    return 2 * value\n",
    "```\n",
    "\n",
    "That function can be replaced by the *lambda expression* \n",
    "```\n",
    "double = lambda x: x * 2\n",
    "```\n",
    "\n",
    "*lambda* expressions aren't ideal for complex functions, but can be very useful for short and symbolic functions\n",
    "\n",
    "<h2>2. Components of a Lambda Function</h2>\n",
    "1. The `lambda` keyword is used to indicate that this is a lambda expression.</br>\n",
    "2. Following `lambda` are one or more arguments for the anonymous function separated by commas, follower by a colon `:`. Similar to functions, the way the arguments are named in a lambda expressions is arbritary. </br>\n",
    "3. Last is an expression that is evaluated and returned in this function. This is a lot like an expression you might see as a returrn statement in a function."
   ]
  },
  {
   "cell_type": "markdown",
   "id": "bc2fce66",
   "metadata": {},
   "source": [
    "<h2>3. Quiz - Lambda Expressions </h2>\n",
    "\n",
    "<h3>3.1. Quiz - Lambda with Map </h3>\n",
    "\n",
    "`map()` is a higher-oredr built-in function that takes a function and iterable as inputs, and returns an iterator that applies the fucntion to each element of the iterable. The code below uses `map()` to find the mean of each list in `numbers` to create the list `averages`. Give it a test run to see what happens.\n",
    "\n",
    "- Rewrite the code to be more concise by replacing the `mean` function with a lambda expression defined within the call to `map()`"
   ]
  },
  {
   "cell_type": "code",
   "execution_count": 1,
   "id": "f8dec11f",
   "metadata": {},
   "outputs": [
    {
     "name": "stdout",
     "output_type": "stream",
     "text": [
      "[57.0, 58.2, 50.6, 27.2]\n"
     ]
    }
   ],
   "source": [
    "numbers = [\n",
    "              [34, 63, 88, 71, 29],\n",
    "              [90, 78, 51, 27, 45],\n",
    "              [63, 37, 85, 46, 22],\n",
    "              [51, 22, 34, 11, 18]\n",
    "           ]\n",
    "\n",
    "def mean(num_list):\n",
    "    return sum(num_list) / len(num_list)\n",
    "\n",
    "averages = list(map(mean, numbers))\n",
    "print(averages)"
   ]
  },
  {
   "cell_type": "code",
   "execution_count": 2,
   "id": "00fddadf",
   "metadata": {},
   "outputs": [
    {
     "name": "stdout",
     "output_type": "stream",
     "text": [
      "[57.0, 58.2, 50.6, 27.2]\n"
     ]
    }
   ],
   "source": [
    "numbers = [\n",
    "              [34, 63, 88, 71, 29],\n",
    "              [90, 78, 51, 27, 45],\n",
    "              [63, 37, 85, 46, 22],\n",
    "              [51, 22, 34, 11, 18]\n",
    "           ]\n",
    "\n",
    "averages = list(map(lambda row : sum(row)/len(row),numbers))\n",
    "print(averages)"
   ]
  },
  {
   "cell_type": "markdown",
   "id": "c5eaaf7e",
   "metadata": {},
   "source": [
    "<h3>3.1. Quiz - Lambda with Filter </h3>\n",
    "\n",
    "`filter()` is a high-order built-in function that takes a function and iterable as inputs and returns an iterator with the elements from the iterable for which the function returns `True`. The code below uses `filter()` to get the names in `cities` that are fewer than 10 characters long to create the list `short_cities`. Give it a test run to see what happens. \n",
    "\n",
    "- Rewrite this code to be mor concise by replacing the `is_short` function with a lambda expression defined within the call to `filter`\n"
   ]
  },
  {
   "cell_type": "code",
   "execution_count": 3,
   "id": "ea299dd1",
   "metadata": {},
   "outputs": [
    {
     "name": "stdout",
     "output_type": "stream",
     "text": [
      "['Chicago', 'Denver', 'Boston']\n"
     ]
    }
   ],
   "source": [
    "cities = [\"New York City\", \"Los Angeles\", \"Chicago\", \"Mountain View\", \"Denver\", \"Boston\"]\n",
    "\n",
    "def is_short(name):\n",
    "    return len(name) < 10\n",
    "\n",
    "short_cities = list(filter(is_short, cities))\n",
    "print(short_cities)"
   ]
  },
  {
   "cell_type": "code",
   "execution_count": 4,
   "id": "3b2de4bb",
   "metadata": {},
   "outputs": [
    {
     "name": "stdout",
     "output_type": "stream",
     "text": [
      "['Chicago', 'Denver', 'Boston']\n"
     ]
    }
   ],
   "source": [
    "cities = [\"New York City\", \"Los Angeles\", \"Chicago\", \"Mountain View\", \"Denver\", \"Boston\"]\n",
    "\n",
    "\n",
    "short_cities = list(filter(lambda name : len(name) < 10,cities))\n",
    "print(short_cities)"
   ]
  },
  {
   "cell_type": "code",
   "execution_count": null,
   "id": "600a79d5",
   "metadata": {},
   "outputs": [],
   "source": []
  }
 ],
 "metadata": {
  "kernelspec": {
   "display_name": "Python 3 (ipykernel)",
   "language": "python",
   "name": "python3"
  },
  "language_info": {
   "codemirror_mode": {
    "name": "ipython",
    "version": 3
   },
   "file_extension": ".py",
   "mimetype": "text/x-python",
   "name": "python",
   "nbconvert_exporter": "python",
   "pygments_lexer": "ipython3",
   "version": "3.11.5"
  }
 },
 "nbformat": 4,
 "nbformat_minor": 5
}
