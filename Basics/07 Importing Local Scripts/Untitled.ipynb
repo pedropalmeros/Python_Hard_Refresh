{
 "cells": [
  {
   "cell_type": "markdown",
   "id": "e1c67b44",
   "metadata": {},
   "source": [
    "# Iterables\n",
    "\n",
    "## 1. Introduction\n",
    "\n",
    "**Iterables** are objects that can return one of its elements at a time. *Lists* is one of the most common iterables you have used. \n",
    "\n",
    "**Iterator** an object that represents a stream of data\n",
    "\n",
    "Iterator is different than a list, because list is an Iterable but not an Iterator, since it is not a stream of data\n",
    "\n",
    "A **Generator** is used to create **Iterator**\n",
    "\n",
    "**Generator** is a simple way to create iterators using functions, however, it's not the only way to create iterators"
   ]
  },
  {
   "cell_type": "code",
   "execution_count": 1,
   "id": "f12700d7",
   "metadata": {},
   "outputs": [],
   "source": [
    "def my_range(x):\n",
    "    i = 0\n",
    "    while i < x: \n",
    "        yield i\n",
    "        i += 1"
   ]
  },
  {
   "cell_type": "markdown",
   "id": "55316284",
   "metadata": {},
   "source": [
    "In the previous cell, is generator function called `my_range` that produces a stream of numbers from `0` to `x-1`. Notice that instead of using the `return` keyword, this uses `yield`\n",
    "\n",
    "`yield` allows the function to return values one at a time and start where it left off each time it's called.\n",
    "\n",
    "This `yield` keyword is what differentiates a generator from a typical function.\n",
    "\n",
    "In the next cell is a `for` loop that is showing how to use `my_range` observe that is like the `range()` built-in function"
   ]
  },
  {
   "cell_type": "code",
   "execution_count": 2,
   "id": "44124374",
   "metadata": {},
   "outputs": [
    {
     "name": "stdout",
     "output_type": "stream",
     "text": [
      "0\n",
      "1\n",
      "2\n",
      "3\n"
     ]
    }
   ],
   "source": [
    "for n in my_range(4):\n",
    "    print(n)"
   ]
  },
  {
   "cell_type": "markdown",
   "id": "e52abf9d",
   "metadata": {},
   "source": []
  }
 ],
 "metadata": {
  "kernelspec": {
   "display_name": "Python 3 (ipykernel)",
   "language": "python",
   "name": "python3"
  },
  "language_info": {
   "codemirror_mode": {
    "name": "ipython",
    "version": 3
   },
   "file_extension": ".py",
   "mimetype": "text/x-python",
   "name": "python",
   "nbconvert_exporter": "python",
   "pygments_lexer": "ipython3",
   "version": "3.11.5"
  }
 },
 "nbformat": 4,
 "nbformat_minor": 5
}
