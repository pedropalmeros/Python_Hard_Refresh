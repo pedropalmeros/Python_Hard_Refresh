{
 "cells": [
  {
   "cell_type": "markdown",
   "id": "fe0b5d4a",
   "metadata": {},
   "source": [
    "# 1. Introduction \n",
    "\n",
    "You can use classes to represent many real-world situations. Once you write a class, you'll spend most of your time woking with instances created from that class. One of the first tasks you'll want to do is modify the attributes associated with a particular instance. HYou can modify the attributes of an instace directly or write methods that update attributes in specific ways. \n",
    "\n",
    "## 2. Car Class\n",
    "Conseider a class representing a car. "
   ]
  },
  {
   "cell_type": "code",
   "execution_count": 5,
   "id": "585a50c5",
   "metadata": {},
   "outputs": [
    {
     "name": "stdout",
     "output_type": "stream",
     "text": [
      "2019 Audi A4\n"
     ]
    }
   ],
   "source": [
    "class Car:\n",
    "    \"\"\"A simple attempt to represent a car.\"\"\"\n",
    "    def __init__(self, make, model, year):\n",
    "        \"\"\"Initialize attributes to describe a car.\"\"\"\n",
    "        self.make = make\n",
    "        self.model = model\n",
    "        self.year = year\n",
    "    \n",
    "    def get_descriptive_name(self):\n",
    "        \"\"\"Return a neatly formatted descritive name.\"\"\"\n",
    "        long_name = f\"{self.year} {self.make} {self.model}\"\n",
    "        return long_name.title()\n",
    "    \n",
    "my_new_car = Car('audi','a4', 2019)\n",
    "print(my_new_car.get_descriptive_name())\n",
    "         "
   ]
  },
  {
   "cell_type": "markdown",
   "id": "e396eeb8",
   "metadata": {},
   "source": [
    "## 3. Setting a Dafault Value for an attribute\n",
    "\n",
    "When an instace is created, attributes can be defined without being passed in as paramters. Tese attributes can be defined in the `__init__()` method, where they are assigned a default value. \n",
    "\n",
    "Consider the next cell in which a `odomoter_reading` is added to the `Car` class\n"
   ]
  },
  {
   "cell_type": "code",
   "execution_count": 7,
   "id": "8b66c057",
   "metadata": {},
   "outputs": [
    {
     "name": "stdout",
     "output_type": "stream",
     "text": [
      "2019 Audi A4\n",
      "This car has 0 miles on int. \n"
     ]
    }
   ],
   "source": [
    "class Car:\n",
    "    \"\"\"A simple attempt to represent a car.\"\"\"\n",
    "    def __init__(self, make, model, year):\n",
    "        \"\"\"Initialize attributes to describe a car.\"\"\"\n",
    "        self.make = make\n",
    "        self.model = model\n",
    "        self.year = year\n",
    "        self.odometer_reading = 0\n",
    "    \n",
    "    def get_descriptive_name(self):\n",
    "        \"\"\"Return a neatly formatted descritive name.\"\"\"\n",
    "        long_name = f\"{self.year} {self.make} {self.model}\"\n",
    "        return long_name.title()\n",
    "    \n",
    "    def read_odometer(self):\n",
    "        \"\"\"Print a statement showing the car's mileage.\"\"\"\n",
    "        print(f\"This car has {self.odometer_reading} miles on int. \")\n",
    "    \n",
    "my_new_car = Car('audi','a4', 2019)\n",
    "print(my_new_car.get_descriptive_name())\n",
    "my_new_car.read_odometer()"
   ]
  },
  {
   "cell_type": "markdown",
   "id": "9b4886ab",
   "metadata": {},
   "source": [
    "This time when Python calls the `__init__()` method to create a new instance, it stores the `make`, `model`, and `year` valuesas attributes like it did in the previous example. Then Python creates a new attribute called `odomter_reading` and sets its initial value to 0. Also the mtodh `read_odometer()`."
   ]
  },
  {
   "cell_type": "markdown",
   "id": "a3554f15",
   "metadata": {},
   "source": [
    "## 4. Modifiying Attribute Values\n",
    "\n",
    "you can change an attribute's value in three ways\" you can change the value directly through an instance, set the value through a method, or increment the value (add a certain amount to it) through a method. \n",
    "\n",
    "### 4.1 Modifying an Attribute's Value Directly\n",
    "\n",
    "The simplest way to modify the value of an attribute is to access the attribute directly through an instance. In the next cell hte value of the `odometer_reading` is set to 23 directlly:\n"
   ]
  },
  {
   "cell_type": "code",
   "execution_count": 8,
   "id": "1068d774",
   "metadata": {},
   "outputs": [
    {
     "name": "stdout",
     "output_type": "stream",
     "text": [
      "2019 Audi A4\n",
      "This car has 0 miles on int. \n",
      "This car has 23 miles on int. \n"
     ]
    }
   ],
   "source": [
    "class Car:\n",
    "    \"\"\"A simple attempt to represent a car.\"\"\"\n",
    "    def __init__(self, make, model, year):\n",
    "        \"\"\"Initialize attributes to describe a car.\"\"\"\n",
    "        self.make = make\n",
    "        self.model = model\n",
    "        self.year = year\n",
    "        self.odometer_reading = 0\n",
    "    \n",
    "    def get_descriptive_name(self):\n",
    "        \"\"\"Return a neatly formatted descritive name.\"\"\"\n",
    "        long_name = f\"{self.year} {self.make} {self.model}\"\n",
    "        return long_name.title()\n",
    "    \n",
    "    def read_odometer(self):\n",
    "        \"\"\"Print a statement showing the car's mileage.\"\"\"\n",
    "        print(f\"This car has {self.odometer_reading} miles on int. \")\n",
    "    \n",
    "my_new_car = Car('audi','a4', 2019)\n",
    "print(my_new_car.get_descriptive_name())\n",
    "my_new_car.read_odometer()\n",
    "my_new_car.odometer_reading = 23\n",
    "my_new_car.read_odometer()"
   ]
  },
  {
   "cell_type": "markdown",
   "id": "c66c12de",
   "metadata": {},
   "source": [
    "### 4.2 Modigying an Attribute's Value Through a Method.\n",
    "\n",
    "it can be helpful to have methods that update certain attributes for you. Intead of accessing the attrbitue directly, you pass the new value to a method that handles the updating internally. \n",
    "\n",
    "In the next cell is shown a snippet in which the only modification to `Car` class is the addtion of `update_odomter()` . This method takes in a mileage value and assgins it to `self.odometer_reading`"
   ]
  },
  {
   "cell_type": "code",
   "execution_count": 9,
   "id": "fe53cd44",
   "metadata": {},
   "outputs": [
    {
     "name": "stdout",
     "output_type": "stream",
     "text": [
      "2019 Audi A4\n",
      "This car has 23 miles on int. \n"
     ]
    }
   ],
   "source": [
    "class Car:\n",
    "    \"\"\"A simple attempt to represent a car.\"\"\"\n",
    "    def __init__(self, make, model, year):\n",
    "        \"\"\"Initialize attributes to describe a car.\"\"\"\n",
    "        self.make = make\n",
    "        self.model = model\n",
    "        self.year = year\n",
    "        self.odometer_reading = 0\n",
    "    \n",
    "    def get_descriptive_name(self):\n",
    "        \"\"\"Return a neatly formatted descritive name.\"\"\"\n",
    "        long_name = f\"{self.year} {self.make} {self.model}\"\n",
    "        return long_name.title()\n",
    "    \n",
    "    def read_odometer(self):\n",
    "        \"\"\"Print a statement showing the car's mileage.\"\"\"\n",
    "        print(f\"This car has {self.odometer_reading} miles on int. \")\n",
    "        \n",
    "    def update_odomter(self, mileage):\n",
    "        \"\"\"Set the odometer reading to the given value.\"\"\"\n",
    "        self.odometer_reading = mileage\n",
    "        \n",
    "my_new_car = Car('audi','a4', 2019)\n",
    "print(my_new_car.get_descriptive_name())\n",
    "my_new_car.update_odomter(23)\n",
    "my_new_car.read_odometer()"
   ]
  },
  {
   "cell_type": "markdown",
   "id": "45eb5562",
   "metadata": {},
   "source": [
    "The previous example is syntactically correct but the behavior is not logic, since the odometer should not receive negative values, hence, we can add lock and only make changes to the `odometer_reading` if the value sent is positive. \n"
   ]
  },
  {
   "cell_type": "code",
   "execution_count": 10,
   "id": "1ee3cbd2",
   "metadata": {},
   "outputs": [],
   "source": [
    "class Car:\n",
    "    \"\"\"A simple attempt to represent a car.\"\"\"\n",
    "    def __init__(self, make, model, year):\n",
    "        \"\"\"Initialize attributes to describe a car.\"\"\"\n",
    "        self.make = make\n",
    "        self.model = model\n",
    "        self.year = year\n",
    "        self.odometer_reading = 0\n",
    "    \n",
    "    def get_descriptive_name(self):\n",
    "        \"\"\"Return a neatly formatted descritive name.\"\"\"\n",
    "        long_name = f\"{self.year} {self.make} {self.model}\"\n",
    "        return long_name.title()\n",
    "    \n",
    "    def read_odometer(self):\n",
    "        \"\"\"Print a statement showing the car's mileage.\"\"\"\n",
    "        print(f\"This car has {self.odometer_reading} miles on int. \")\n",
    "        \n",
    "    def update_odomter(self, mileage):\n",
    "        \"\"\"Set the odometer reading to the given value.\"\"\"\n",
    "        if milieage >= 0:\n",
    "            self.odometer_reading = mileage\n",
    "        else:\n",
    "            print(\"You can't roll back an odometer\")\n",
    "            "
   ]
  },
  {
   "cell_type": "markdown",
   "id": "e498ac69",
   "metadata": {},
   "source": [
    "Now `update_odomter()` checks that the new reading makes senso before modifying the attribute. If the new mileage, `mileage`, is greater than or equal to the existing milieage, `self.odomter_reading`, you can update the odomter reading to the new milieage. if the new mileage is less than the existing milieage, you'll get a warning that you can't roll back an odometer. \n"
   ]
  },
  {
   "cell_type": "markdown",
   "id": "87d0dab3",
   "metadata": {},
   "source": [
    "### 4.3 Incrementing an Attribute's Value Through a Method. \n",
    "\n",
    "Sometimes you'll want to increment an attribute's value by a certain amount rather than set an etirely new value. Say we buy a sued car and put 100 miles on it between the time we bui it and the time we register it.  In the ext cell a method is added that allows us to pass this incremental amount and add that value to `odometer_reading`.\n"
   ]
  },
  {
   "cell_type": "code",
   "execution_count": 18,
   "id": "ad046406",
   "metadata": {},
   "outputs": [],
   "source": [
    "class Car:\n",
    "    \"\"\"A simple attempt to represent a car.\"\"\"\n",
    "    def __init__(self, make, model, year):\n",
    "        \"\"\"Initialize attributes to describe a car.\"\"\"\n",
    "        self.make = make\n",
    "        self.model = model\n",
    "        self.year = year\n",
    "        self.odometer_reading = 0\n",
    "    \n",
    "    def get_descriptive_name(self):\n",
    "        \"\"\"Return a neatly formatted descritive name.\"\"\"\n",
    "        long_name = f\"{self.year} {self.make} {self.model}\"\n",
    "        return long_name.title()\n",
    "    \n",
    "    def read_odometer(self):\n",
    "        \"\"\"Print a statement showing the car's mileage.\"\"\"\n",
    "        print(f\"This car has {self.odometer_reading} miles on int. \")\n",
    "        \n",
    "    def update_odometer(self, mileage):\n",
    "        \"\"\"Set the odometer reading to the given value.\"\"\"\n",
    "        if mileage >= 0:\n",
    "            self.odometer_reading = mileage\n",
    "        else:\n",
    "            print(\"You can't roll back an odometer\")\n",
    "    \n",
    "    def increment_odomter(self, miles):\n",
    "        if miles >= 0:\n",
    "            self.odomter_reading += miles\n",
    "        else: \n",
    "            print(\"You can't roll back an odomter\")"
   ]
  },
  {
   "cell_type": "code",
   "execution_count": 19,
   "id": "725c8d89",
   "metadata": {},
   "outputs": [
    {
     "name": "stdout",
     "output_type": "stream",
     "text": [
      "2015 Subary Outback\n",
      "This car has 23500 miles on int. \n"
     ]
    },
    {
     "ename": "AttributeError",
     "evalue": "'Car' object has no attribute 'odomter_reading'",
     "output_type": "error",
     "traceback": [
      "\u001b[1;31m---------------------------------------------------------------------------\u001b[0m",
      "\u001b[1;31mAttributeError\u001b[0m                            Traceback (most recent call last)",
      "Cell \u001b[1;32mIn[19], line 7\u001b[0m\n\u001b[0;32m      4\u001b[0m my_used_car\u001b[38;5;241m.\u001b[39mupdate_odometer(\u001b[38;5;241m23_500\u001b[39m)\n\u001b[0;32m      5\u001b[0m my_used_car\u001b[38;5;241m.\u001b[39mread_odometer()\n\u001b[1;32m----> 7\u001b[0m my_used_car\u001b[38;5;241m.\u001b[39mincrement_odomter(\u001b[38;5;241m100\u001b[39m)\n\u001b[0;32m      8\u001b[0m my_used_car\u001b[38;5;241m.\u001b[39mread_odomter\n",
      "Cell \u001b[1;32mIn[18], line 28\u001b[0m, in \u001b[0;36mCar.increment_odomter\u001b[1;34m(self, miles)\u001b[0m\n\u001b[0;32m     26\u001b[0m \u001b[38;5;28;01mdef\u001b[39;00m \u001b[38;5;21mincrement_odomter\u001b[39m(\u001b[38;5;28mself\u001b[39m, miles):\n\u001b[0;32m     27\u001b[0m     \u001b[38;5;28;01mif\u001b[39;00m miles \u001b[38;5;241m>\u001b[39m\u001b[38;5;241m=\u001b[39m \u001b[38;5;241m0\u001b[39m:\n\u001b[1;32m---> 28\u001b[0m         \u001b[38;5;28mself\u001b[39m\u001b[38;5;241m.\u001b[39modomter_reading \u001b[38;5;241m+\u001b[39m\u001b[38;5;241m=\u001b[39m miles\n\u001b[0;32m     29\u001b[0m     \u001b[38;5;28;01melse\u001b[39;00m: \n\u001b[0;32m     30\u001b[0m         \u001b[38;5;28mprint\u001b[39m(\u001b[38;5;124m\"\u001b[39m\u001b[38;5;124mYou can\u001b[39m\u001b[38;5;124m'\u001b[39m\u001b[38;5;124mt roll back an odomter\u001b[39m\u001b[38;5;124m\"\u001b[39m)\n",
      "\u001b[1;31mAttributeError\u001b[0m: 'Car' object has no attribute 'odomter_reading'"
     ]
    }
   ],
   "source": [
    "my_used_car = Car('subary', 'outback', 2015)\n",
    "print(my_used_car.get_descriptive_name())\n",
    "\n",
    "my_used_car.update_odometer(23_500)\n",
    "my_used_car.read_odometer()\n",
    "\n",
    "my_used_car.update_odometer(100)\n",
    "my_used_car.read_odomter"
   ]
  },
  {
   "cell_type": "code",
   "execution_count": null,
   "id": "bbab8395",
   "metadata": {},
   "outputs": [],
   "source": []
  }
 ],
 "metadata": {
  "kernelspec": {
   "display_name": "Python 3 (ipykernel)",
   "language": "python",
   "name": "python3"
  },
  "language_info": {
   "codemirror_mode": {
    "name": "ipython",
    "version": 3
   },
   "file_extension": ".py",
   "mimetype": "text/x-python",
   "name": "python",
   "nbconvert_exporter": "python",
   "pygments_lexer": "ipython3",
   "version": "3.11.5"
  }
 },
 "nbformat": 4,
 "nbformat_minor": 5
}
