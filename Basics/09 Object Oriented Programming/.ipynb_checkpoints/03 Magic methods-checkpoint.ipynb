{
 "cells": [
  {
   "cell_type": "markdown",
   "id": "0a923ed3",
   "metadata": {},
   "source": [
    "# Magic or Dunder Methods\n",
    "\n",
    "## Introduction\n",
    "\n",
    "Magic methods in Python are the special methods that start and end with the double underscores. They are also called dunder methods. Magic methods are not meant to be invoked directlhy by you, but the invocation happens internally from the class on certain action. For example, when you add two number using the `+` operator, internally the `__add__()` method will be called. \n",
    "\n",
    "In the next cell is shown how an operator overloading (like in C++) is performed by the `__add__()` magic method"
   ]
  },
  {
   "cell_type": "code",
   "execution_count": 15,
   "id": "1bb09af8",
   "metadata": {},
   "outputs": [
    {
     "name": "stdout",
     "output_type": "stream",
     "text": [
      "v3.x = 3\n",
      "v3.y = 3\n",
      "v3.z = 3\n"
     ]
    }
   ],
   "source": [
    "class Vector:\n",
    "    def __init__(self,x=0, y=0, z=0):\n",
    "        self.x = x\n",
    "        self.y = y\n",
    "        self.z = z\n",
    "    \n",
    "    def __add__(self,other):\n",
    "        result = Vector()\n",
    "        result.x = self.x + other.x\n",
    "        result.y = self.y + other.y\n",
    "        result.z = self.z + other.z\n",
    "        \n",
    "        return result\n",
    "    \n",
    "v1 = Vector(1,1,1)\n",
    "v2 = Vector(2,2,2)\n",
    "v3 = v1 + v2\n",
    "\n",
    "print(f\"v3.x = {v3.x}\")\n",
    "print(f\"v3.y = {v3.y}\")\n",
    "print(f\"v3.z = {v3.z}\")"
   ]
  },
  {
   "cell_type": "markdown",
   "id": "e209a1fe",
   "metadata": {},
   "source": [
    "Built-in classes in Python define many magic methods. Use `dir()` function to see the number of magi methods inherited by a class. For example, the following lists all the attributes and methods defined in the `int` class"
   ]
  },
  {
   "cell_type": "code",
   "execution_count": 16,
   "id": "f28631a4",
   "metadata": {},
   "outputs": [
    {
     "name": "stdout",
     "output_type": "stream",
     "text": [
      "['__abs__', '__add__', '__and__', '__bool__', '__ceil__', '__class__', '__delattr__', '__dir__', '__divmod__', '__doc__', '__eq__', '__float__', '__floor__', '__floordiv__', '__format__', '__ge__', '__getattribute__', '__getnewargs__', '__getstate__', '__gt__', '__hash__', '__index__', '__init__', '__init_subclass__', '__int__', '__invert__', '__le__', '__lshift__', '__lt__', '__mod__', '__mul__', '__ne__', '__neg__', '__new__', '__or__', '__pos__', '__pow__', '__radd__', '__rand__', '__rdivmod__', '__reduce__', '__reduce_ex__', '__repr__', '__rfloordiv__', '__rlshift__', '__rmod__', '__rmul__', '__ror__', '__round__', '__rpow__', '__rrshift__', '__rshift__', '__rsub__', '__rtruediv__', '__rxor__', '__setattr__', '__sizeof__', '__str__', '__sub__', '__subclasshook__', '__truediv__', '__trunc__', '__xor__', 'as_integer_ratio', 'bit_count', 'bit_length', 'conjugate', 'denominator', 'from_bytes', 'imag', 'numerator', 'real', 'to_bytes']\n"
     ]
    }
   ],
   "source": [
    "print(dir(int))\n"
   ]
  },
  {
   "cell_type": "code",
   "execution_count": null,
   "id": "a4428fa2",
   "metadata": {},
   "outputs": [],
   "source": []
  },
  {
   "cell_type": "code",
   "execution_count": null,
   "id": "fa7c7e1f",
   "metadata": {},
   "outputs": [],
   "source": []
  }
 ],
 "metadata": {
  "kernelspec": {
   "display_name": "Python 3 (ipykernel)",
   "language": "python",
   "name": "python3"
  },
  "language_info": {
   "codemirror_mode": {
    "name": "ipython",
    "version": 3
   },
   "file_extension": ".py",
   "mimetype": "text/x-python",
   "name": "python",
   "nbconvert_exporter": "python",
   "pygments_lexer": "ipython3",
   "version": "3.11.5"
  }
 },
 "nbformat": 4,
 "nbformat_minor": 5
}
