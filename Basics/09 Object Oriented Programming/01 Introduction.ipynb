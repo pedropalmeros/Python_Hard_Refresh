{
 "cells": [
  {
   "cell_type": "markdown",
   "id": "b85247db",
   "metadata": {},
   "source": [
    "# Object Oriented Programming\n",
    "\n",
    "## 1. Introduction\n",
    "\n",
    "In Object-Oriented programming you write *classes* that represent real-world things and situations, and you create *objects* based on these classes. When you write a class, you define the general behavior that a wholecategory of objects can have .\n",
    "\n",
    "Making an oject from a class is called *instantiation*, and you work iwth *instances* of a class. \n",
    "\n",
    "Understanding object-oriented programming will help you see the world as a programmer does. \n",
    "\n",
    "Classes also make life easier for you and the other programmers you'll work with as you take on increasingly complex challenges. \n",
    "\n",
    "Object-oriented programming has a few benefits over procedureal programming which is the programming style you most likely first learned.\n",
    "\n",
    "- Object-Oriented programming allows you to create large, modular pograms that can easily expand over time; \n",
    "- Object-Oriented programs hide the implementation from the end-user\n",
    "\n",
    "\n",
    "In OOP is focused on the invidividual characteristics of each object and what each object can do. An object has two essential parts, characteristics and actions.\n",
    "\n",
    "A way to thik about characteristics and actions in terms of English grammar. A chracteristic would be a noun. On the other hand, an action would be a verb. \n",
    "\n",
    "\n",
    "## 2. Class, Object, Method and Attribute\n",
    "\n",
    "- **Class** - a blueprint consisting of methods and attribures.\n",
    "- **Object** - an *instance* of a class. It can help to think of objects as something in real world like a yellow pencil, a small dog, a blue shirt, etc. However, objects can be more abstract. \n",
    "- **Attribute** - a descriptor or characteristic. Examples would be color, length, size, ets. These attributes can take on specific values. \n",
    "- **Method** - an action that a class or object could take. \n",
    "- **OOP** - a commonly used abbreviation for object-oriented programming. \n",
    "- **Encapsulation** One of the fundamental ideas behind object-oriented programming is called encapsulation: you can combine functions and data all into a single entity. In object-oriented programming, this single entity is called a class. Encapsulation allows you to hide implementation details.\n",
    "\n",
    "In english, you might hear an attribute describid as a *property, description, feature, quality, trait* or *characteristic*. A ll of these are saying the same thing. \n",
    "\n",
    "\n",
    "\n"
   ]
  },
  {
   "cell_type": "markdown",
   "id": "832e491d",
   "metadata": {},
   "source": [
    "## 3. OOP Syntax\n",
    "\n"
   ]
  },
  {
   "cell_type": "code",
   "execution_count": 1,
   "id": "7cb71063",
   "metadata": {},
   "outputs": [],
   "source": [
    "class Shirt:\n",
    "    def __init__(self, shirt_color, shirt_size, shirt_style, shirt_price):\n",
    "        self.color = shirt_color\n",
    "        self.size = shirt_size\n",
    "        self.style = shirt_style\n",
    "        self.price = shirt_price\n",
    "    \n",
    "    def change_price(self, new_price):\n",
    "        self.price = new_price\n",
    "    \n",
    "    def discount(self, discount):\n",
    "        return self.price * (1 - discount)\n",
    "    "
   ]
  },
  {
   "cell_type": "markdown",
   "id": "b371aa1d",
   "metadata": {},
   "source": [
    "A function that's part of a class is a *method*. The `__init__()` method is a special method that Python runs automatically whenever we create a new instance. this method hass two leading underscores and two trailing underscores, a convenion that helps prevent Python's default method names from conflicting with you method names. \n",
    "\n",
    "The `self` parameter is required in the method definition, and it must com first before the other parameters. It must be included in the defenition because when Python calls this method later, the method call will automatically pass the `self`, which is a referece to the instance itself; it gives the individual instance access to the attributes and methods in the class. \n",
    "\n",
    "Any Variable prefixed with `self` is a variable to every method in the class, and we'll also be able to access these variables through any instace created from the class. Variables that are accessible through instaces like this are called *attributes*.\n",
    "\n",
    "Those methods that don not need any additional information to run, we you define them to hace one paramter, the `self` paramter."
   ]
  },
  {
   "cell_type": "code",
   "execution_count": 1,
   "id": "af9026f1",
   "metadata": {},
   "outputs": [
    {
     "ename": "NameError",
     "evalue": "name 'Shirt' is not defined",
     "output_type": "error",
     "traceback": [
      "\u001b[1;31m---------------------------------------------------------------------------\u001b[0m",
      "\u001b[1;31mNameError\u001b[0m                                 Traceback (most recent call last)",
      "Cell \u001b[1;32mIn[1], line 1\u001b[0m\n\u001b[1;32m----> 1\u001b[0m Shirt(\u001b[38;5;124m'\u001b[39m\u001b[38;5;124mred\u001b[39m\u001b[38;5;124m'\u001b[39m,\u001b[38;5;124m'\u001b[39m\u001b[38;5;124mS\u001b[39m\u001b[38;5;124m'\u001b[39m,\u001b[38;5;124m'\u001b[39m\u001b[38;5;124mshort sleeve\u001b[39m\u001b[38;5;124m'\u001b[39m,\u001b[38;5;241m15\u001b[39m)\n",
      "\u001b[1;31mNameError\u001b[0m: name 'Shirt' is not defined"
     ]
    }
   ],
   "source": [
    "Shirt('red','S','short sleeve',15)"
   ]
  },
  {
   "cell_type": "code",
   "execution_count": null,
   "id": "ebe7d29c",
   "metadata": {},
   "outputs": [],
   "source": [
    "new_shirt = Shirt('red','S','short sleeve' , 15)"
   ]
  },
  {
   "cell_type": "code",
   "execution_count": 2,
   "id": "8914b736",
   "metadata": {},
   "outputs": [
    {
     "ename": "NameError",
     "evalue": "name 'new_shirt' is not defined",
     "output_type": "error",
     "traceback": [
      "\u001b[1;31m---------------------------------------------------------------------------\u001b[0m",
      "\u001b[1;31mNameError\u001b[0m                                 Traceback (most recent call last)",
      "Cell \u001b[1;32mIn[2], line 1\u001b[0m\n\u001b[1;32m----> 1\u001b[0m \u001b[38;5;28mprint\u001b[39m(new_shirt\u001b[38;5;241m.\u001b[39mcolor)\n\u001b[0;32m      2\u001b[0m \u001b[38;5;28mprint\u001b[39m(new_shirt\u001b[38;5;241m.\u001b[39msize)\n\u001b[0;32m      3\u001b[0m \u001b[38;5;28mprint\u001b[39m(new_shirt\u001b[38;5;241m.\u001b[39mstyle)\n",
      "\u001b[1;31mNameError\u001b[0m: name 'new_shirt' is not defined"
     ]
    }
   ],
   "source": [
    "print(new_shirt.color)\n",
    "print(new_shirt.size)\n",
    "print(new_shirt.style)\n",
    "print(new_shirt.price)"
   ]
  },
  {
   "cell_type": "code",
   "execution_count": 6,
   "id": "dfd8c94b",
   "metadata": {},
   "outputs": [
    {
     "name": "stdout",
     "output_type": "stream",
     "text": [
      "10\n"
     ]
    }
   ],
   "source": [
    "new_shirt.change_price(10)\n",
    "print(new_shirt.price)\n"
   ]
  },
  {
   "cell_type": "code",
   "execution_count": 7,
   "id": "85e852dc",
   "metadata": {},
   "outputs": [
    {
     "name": "stdout",
     "output_type": "stream",
     "text": [
      "8.0\n"
     ]
    }
   ],
   "source": [
    "print(new_shirt.discount(0.2))\n"
   ]
  },
  {
   "cell_type": "code",
   "execution_count": 8,
   "id": "593dfb9f",
   "metadata": {},
   "outputs": [],
   "source": [
    "tshirt_collection = []\n",
    "shirt_one = Shirt('orange', 'M', 'short sleeve', 25)\n",
    "shirt_two = Shirt('red', 'S', 'short sleeve', 15)\n",
    "shirt_three = Shirt('purple', 'XL', 'short sleeve', 10)\n",
    "\n",
    "\n",
    "tshirt_collection.append(shirt_one)\n",
    "tshirt_collection.append(shirt_two)\n",
    "tshirt_collection.append(shirt_three )"
   ]
  },
  {
   "cell_type": "code",
   "execution_count": 9,
   "id": "4c30d959",
   "metadata": {},
   "outputs": [
    {
     "name": "stdout",
     "output_type": "stream",
     "text": [
      "orange\n",
      "red\n",
      "purple\n"
     ]
    }
   ],
   "source": [
    "for i in range(len(tshirt_collection)):\n",
    "   print (tshirt_collection[i].color)"
   ]
  },
  {
   "cell_type": "markdown",
   "id": "751554db",
   "metadata": {},
   "source": []
  }
 ],
 "metadata": {
  "kernelspec": {
   "display_name": "Python 3 (ipykernel)",
   "language": "python",
   "name": "python3"
  },
  "language_info": {
   "codemirror_mode": {
    "name": "ipython",
    "version": 3
   },
   "file_extension": ".py",
   "mimetype": "text/x-python",
   "name": "python",
   "nbconvert_exporter": "python",
   "pygments_lexer": "ipython3",
   "version": "3.11.5"
  }
 },
 "nbformat": 4,
 "nbformat_minor": 5
}
