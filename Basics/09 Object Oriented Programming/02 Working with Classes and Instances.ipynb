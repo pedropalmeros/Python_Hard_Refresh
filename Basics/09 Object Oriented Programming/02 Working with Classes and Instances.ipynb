{
 "cells": [
  {
   "cell_type": "markdown",
   "id": "fe0b5d4a",
   "metadata": {},
   "source": [
    "# 1. Introduction \n",
    "\n",
    "You can use classes to represent many real-world situations. Once you write a class, you'll spend most of your time woking with instances created from that class. One of the first tasks you'll want to do is modify the attributes associated with a particular instance. HYou can modify the attributes of an instace directly or write methods that update attributes in specific ways. \n",
    "\n",
    "## 2. Car Class\n",
    "Conseider a class representing a car. "
   ]
  },
  {
   "cell_type": "code",
   "execution_count": 5,
   "id": "585a50c5",
   "metadata": {},
   "outputs": [
    {
     "name": "stdout",
     "output_type": "stream",
     "text": [
      "2019 Audi A4\n"
     ]
    }
   ],
   "source": [
    "class Car:\n",
    "    \"\"\"A simple attempt to represent a car.\"\"\"\n",
    "    def __init__(self, make, model, year):\n",
    "        \"\"\"Initialize attributes to describe a car.\"\"\"\n",
    "        self.make = make\n",
    "        self.model = model\n",
    "        self.year = year\n",
    "    \n",
    "    def get_descriptive_name(self):\n",
    "        \"\"\"Return a neatly formatted descritive name.\"\"\"\n",
    "        long_name = f\"{self.year} {self.make} {self.model}\"\n",
    "        return long_name.title()\n",
    "    \n",
    "my_new_car = Car('audi','a4', 2019)\n",
    "print(my_new_car.get_descriptive_name())\n",
    "         "
   ]
  },
  {
   "cell_type": "markdown",
   "id": "e396eeb8",
   "metadata": {},
   "source": [
    "## 3. Setting a Dafault Value for an attribute\n",
    "\n",
    "When an instace is created, attributes can be defined without being passed in as paramters. Tese attributes can be defined in the `__init__()` method, where they are assigned a default value. \n",
    "\n",
    "Consider the next cell in which a `odomoter_reading` is added to the `Car` class\n"
   ]
  },
  {
   "cell_type": "code",
   "execution_count": 7,
   "id": "8b66c057",
   "metadata": {},
   "outputs": [
    {
     "name": "stdout",
     "output_type": "stream",
     "text": [
      "2019 Audi A4\n",
      "This car has 0 miles on int. \n"
     ]
    }
   ],
   "source": [
    "class Car:\n",
    "    \"\"\"A simple attempt to represent a car.\"\"\"\n",
    "    def __init__(self, make, model, year):\n",
    "        \"\"\"Initialize attributes to describe a car.\"\"\"\n",
    "        self.make = make\n",
    "        self.model = model\n",
    "        self.year = year\n",
    "        self.odometer_reading = 0\n",
    "    \n",
    "    def get_descriptive_name(self):\n",
    "        \"\"\"Return a neatly formatted descritive name.\"\"\"\n",
    "        long_name = f\"{self.year} {self.make} {self.model}\"\n",
    "        return long_name.title()\n",
    "    \n",
    "    def read_odometer(self):\n",
    "        \"\"\"Print a statement showing the car's mileage.\"\"\"\n",
    "        print(f\"This car has {self.odometer_reading} miles on int. \")\n",
    "    \n",
    "my_new_car = Car('audi','a4', 2019)\n",
    "print(my_new_car.get_descriptive_name())\n",
    "my_new_car.read_odometer()"
   ]
  },
  {
   "cell_type": "markdown",
   "id": "9b4886ab",
   "metadata": {},
   "source": [
    "This time when Python calls the `__init__()` method to create a new instance, it stores the `make`, `model`, and `year` valuesas attributes like it did in the previous example. Then Python creates a new attribute called `odomter_reading` and sets its initial value to 0. Also the mtodh `read_odometer()`."
   ]
  },
  {
   "cell_type": "markdown",
   "id": "a3554f15",
   "metadata": {},
   "source": [
    "## 4. Modifiying Attribute Values\n",
    "\n",
    "you can change an attribute's value in three ways\" you can change the value directly through an instance, set the value through a method, or increment the value (add a certain amount to it) through a method. \n",
    "\n",
    "### 4.1 Modifying an Attribute's Value Directly\n",
    "\n",
    "The simplest way to modify the value of an attribute is to access the attribute directly through an instance. In the next cell hte value of the `odometer_reading` is set to 23 directlly:\n"
   ]
  },
  {
   "cell_type": "code",
   "execution_count": 8,
   "id": "1068d774",
   "metadata": {},
   "outputs": [
    {
     "name": "stdout",
     "output_type": "stream",
     "text": [
      "2019 Audi A4\n",
      "This car has 0 miles on int. \n",
      "This car has 23 miles on int. \n"
     ]
    }
   ],
   "source": [
    "class Car:\n",
    "    \"\"\"A simple attempt to represent a car.\"\"\"\n",
    "    def __init__(self, make, model, year):\n",
    "        \"\"\"Initialize attributes to describe a car.\"\"\"\n",
    "        self.make = make\n",
    "        self.model = model\n",
    "        self.year = year\n",
    "        self.odometer_reading = 0\n",
    "    \n",
    "    def get_descriptive_name(self):\n",
    "        \"\"\"Return a neatly formatted descritive name.\"\"\"\n",
    "        long_name = f\"{self.year} {self.make} {self.model}\"\n",
    "        return long_name.title()\n",
    "    \n",
    "    def read_odometer(self):\n",
    "        \"\"\"Print a statement showing the car's mileage.\"\"\"\n",
    "        print(f\"This car has {self.odometer_reading} miles on int. \")\n",
    "    \n",
    "my_new_car = Car('audi','a4', 2019)\n",
    "print(my_new_car.get_descriptive_name())\n",
    "my_new_car.read_odometer()\n",
    "my_new_car.odometer_reading = 23\n",
    "my_new_car.read_odometer()"
   ]
  },
  {
   "cell_type": "markdown",
   "id": "c66c12de",
   "metadata": {},
   "source": [
    "### 4.2 Modigying an Attribute's Value Through a Method.\n",
    "\n",
    "it can be helpful to have methods that update certain attributes for you. Intead of accessing the attrbitue directly, you pass the new value to a method that handles the updating internally. \n",
    "\n",
    "In the next cell is shown a snippet in which the only modification to `Car` class is the addtion of `update_odomter()` . This method takes in a mileage value and assgins it to `self.odometer_reading`"
   ]
  },
  {
   "cell_type": "code",
   "execution_count": 9,
   "id": "fe53cd44",
   "metadata": {},
   "outputs": [
    {
     "name": "stdout",
     "output_type": "stream",
     "text": [
      "2019 Audi A4\n",
      "This car has 23 miles on int. \n"
     ]
    }
   ],
   "source": [
    "class Car:\n",
    "    \"\"\"A simple attempt to represent a car.\"\"\"\n",
    "    def __init__(self, make, model, year):\n",
    "        \"\"\"Initialize attributes to describe a car.\"\"\"\n",
    "        self.make = make\n",
    "        self.model = model\n",
    "        self.year = year\n",
    "        self.odometer_reading = 0\n",
    "    \n",
    "    def get_descriptive_name(self):\n",
    "        \"\"\"Return a neatly formatted descritive name.\"\"\"\n",
    "        long_name = f\"{self.year} {self.make} {self.model}\"\n",
    "        return long_name.title()\n",
    "    \n",
    "    def read_odometer(self):\n",
    "        \"\"\"Print a statement showing the car's mileage.\"\"\"\n",
    "        print(f\"This car has {self.odometer_reading} miles on int. \")\n",
    "        \n",
    "    def update_odomter(self, mileage):\n",
    "        \"\"\"Set the odometer reading to the given value.\"\"\"\n",
    "        self.odometer_reading = mileage\n",
    "        \n",
    "my_new_car = Car('audi','a4', 2019)\n",
    "print(my_new_car.get_descriptive_name())\n",
    "my_new_car.update_odomter(23)\n",
    "my_new_car.read_odometer()"
   ]
  },
  {
   "cell_type": "markdown",
   "id": "45eb5562",
   "metadata": {},
   "source": [
    "The previous example is syntactically correct but the behavior is not logic, since the odometer should not receive negative values, hence, we can add lock and only make changes to the `odometer_reading` if the value sent is positive. \n"
   ]
  },
  {
   "cell_type": "code",
   "execution_count": 10,
   "id": "1ee3cbd2",
   "metadata": {},
   "outputs": [],
   "source": [
    "class Car:\n",
    "    \"\"\"A simple attempt to represent a car.\"\"\"\n",
    "    def __init__(self, make, model, year):\n",
    "        \"\"\"Initialize attributes to describe a car.\"\"\"\n",
    "        self.make = make\n",
    "        self.model = model\n",
    "        self.year = year\n",
    "        self.odometer_reading = 0\n",
    "    \n",
    "    def get_descriptive_name(self):\n",
    "        \"\"\"Return a neatly formatted descritive name.\"\"\"\n",
    "        long_name = f\"{self.year} {self.make} {self.model}\"\n",
    "        return long_name.title()\n",
    "    \n",
    "    def read_odometer(self):\n",
    "        \"\"\"Print a statement showing the car's mileage.\"\"\"\n",
    "        print(f\"This car has {self.odometer_reading} miles on int. \")\n",
    "        \n",
    "    def update_odomter(self, mileage):\n",
    "        \"\"\"Set the odometer reading to the given value.\"\"\"\n",
    "        if milieage >= 0:\n",
    "            self.odometer_reading = mileage\n",
    "        else:\n",
    "            print(\"You can't roll back an odometer\")\n",
    "            "
   ]
  },
  {
   "cell_type": "markdown",
   "id": "f231752e",
   "metadata": {},
   "source": [
    "Now `update_odomter()` checks that the new reading makes senso before modifying the attribute. If the new mileage, `mileage`, is greater than or equal to the existing milieage, `self.odomter_reading`, you can update the odomter reading to the new milieage. if the new mileage is less than the existing milieage, you'll get a warning that you can't roll back an odometer. \n"
   ]
  },
  {
   "cell_type": "markdown",
   "id": "44b2c8b8",
   "metadata": {},
   "source": [
    "### 4.3 Incrementing an Attribute's Value Through a Method. \n",
    "\n",
    "Sometimes you'll want to increment an attribute's value by a certain amount rather than set an etirely new value. Say we buy a sued car and put 100 miles on it between the time we bui it and the time we register it.  In the ext cell a method is added that allows us to pass this incremental amount and add that value to `odometer_reading`.\n"
   ]
  },
  {
   "cell_type": "code",
   "execution_count": 20,
   "id": "74fcc471",
   "metadata": {},
   "outputs": [],
   "source": [
    "class Car:\n",
    "    \"\"\"A simple attempt to represent a car.\"\"\"\n",
    "    def __init__(self, make, model, year):\n",
    "        \"\"\"Initialize attributes to describe a car.\"\"\"\n",
    "        self.make = make\n",
    "        self.model = model\n",
    "        self.year = year\n",
    "        self.odometer_reading = 0\n",
    "    \n",
    "    def get_descriptive_name(self):\n",
    "        \"\"\"Return a neatly formatted descritive name.\"\"\"\n",
    "        long_name = f\"{self.year} {self.make} {self.model}\"\n",
    "        return long_name.title()\n",
    "    \n",
    "    def read_odometer(self):\n",
    "        \"\"\"Print a statement showing the car's mileage.\"\"\"\n",
    "        print(f\"This car has {self.odometer_reading} miles on int. \")\n",
    "        \n",
    "    def update_odometer(self, mileage):\n",
    "        \"\"\"Set the odometer reading to the given value.\"\"\"\n",
    "        if mileage >= 0:\n",
    "            self.odometer_reading = mileage\n",
    "        else:\n",
    "            print(\"You can't roll back an odometer\")\n",
    "    \n",
    "    def increment_odomter(self, miles):\n",
    "        if miles >= 0:\n",
    "            self.odomter_reading += miles\n",
    "        else: \n",
    "            print(\"You can't roll back an odomter\")"
   ]
  },
  {
   "cell_type": "code",
   "execution_count": 22,
   "id": "fc64eb0a",
   "metadata": {},
   "outputs": [
    {
     "name": "stdout",
     "output_type": "stream",
     "text": [
      "2015 Subary Outback\n",
      "This car has 23500 miles on int. \n",
      "This car has 100 miles on int. \n"
     ]
    }
   ],
   "source": [
    "my_used_car = Car('subary', 'outback', 2015)\n",
    "print(my_used_car.get_descriptive_name())\n",
    "\n",
    "my_used_car.update_odometer(23_500)\n",
    "my_used_car.read_odometer()\n",
    "\n",
    "my_used_car.update_odometer(100)\n",
    "my_used_car.read_odometer()"
   ]
  },
  {
   "cell_type": "markdown",
   "id": "52f091ad",
   "metadata": {},
   "source": [
    "**You can use methods like this to control how users of your program update values such as an odometer reading,but anyone with access to the program can set the odometer reading to any value by accessing the attribute directly. Effective security thakes extreme attention to detail in addition to basic checks like those shown here.**"
   ]
  },
  {
   "cell_type": "code",
   "execution_count": null,
   "id": "16a90136",
   "metadata": {},
   "outputs": [],
   "source": []
  }
 ],
 "metadata": {
  "kernelspec": {
   "display_name": "Python 3 (ipykernel)",
   "language": "python",
   "name": "python3"
  },
  "language_info": {
   "codemirror_mode": {
    "name": "ipython",
    "version": 3
   },
   "file_extension": ".py",
   "mimetype": "text/x-python",
   "name": "python",
   "nbconvert_exporter": "python",
   "pygments_lexer": "ipython3",
   "version": "3.11.5"
  }
 },
 "nbformat": 4,
 "nbformat_minor": 5
}
