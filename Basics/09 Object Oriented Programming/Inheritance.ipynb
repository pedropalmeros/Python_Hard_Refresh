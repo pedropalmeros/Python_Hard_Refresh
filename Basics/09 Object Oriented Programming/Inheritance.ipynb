{
 "cells": [
  {
   "cell_type": "markdown",
   "id": "2fd3d74e",
   "metadata": {},
   "source": [
    "# Inheritance\n",
    "\n",
    "## 1. Introduction\n",
    "\n",
    "You don't always have to start from scratch when writing a class. if the class you're writing is a specialized version of another class you wrote, you can use *inheritace*. When one class *inherits* from another, it takes on the attributes and methods of the first class. The original class is called the *parent class*, and the new class is the *child class*. The child class can inherit any or of the attributes and methods foparent class, bt's alsee fttributes and methods of its own. \n",
    "\n",
    "## 2. The `__init__()` method for a Child Class\n",
    "\n",
    "When you're writting a new class based on an existing class, you'll often want to call the `__init__()` method from the parent class. This will initialize any attributes that were defined in the parent `__init__()` method and make them available in the child class. "
   ]
  },
  {
   "cell_type": "code",
   "execution_count": 12,
   "id": "975bb41a",
   "metadata": {},
   "outputs": [
    {
     "ename": "SyntaxError",
     "evalue": "expected ':' (1861221171.py, line 28)",
     "output_type": "error",
     "traceback": [
      "\u001b[1;36m  Cell \u001b[1;32mIn[12], line 28\u001b[1;36m\u001b[0m\n\u001b[1;33m    def fill_gas_tank(self, litters)\u001b[0m\n\u001b[1;37m                                    ^\u001b[0m\n\u001b[1;31mSyntaxError\u001b[0m\u001b[1;31m:\u001b[0m expected ':'\n"
     ]
    }
   ],
   "source": [
    "class Car():\n",
    "    \"\"\"A simple attempt to represent a car.\"\"\"\n",
    "    def __init__(self, make, model, year):\n",
    "        self.make = make\n",
    "        self.model = model\n",
    "        self.year = year \n",
    "        self.odometer_reading = 0\n",
    "        \n",
    "    def get_descriptive_name(self):\n",
    "        long_name = f\"{self.year} {self.make} {self.model}\"\n",
    "        return long_name.title()\n",
    "    \n",
    "    def read_odometer(self):\n",
    "        print(f\"This car has {self.odometer_reading} miles on it.\")\n",
    "        \n",
    "    def update_odometer(self, mileage):\n",
    "        if mileage >= self.odometer_reading:\n",
    "            self.odometer_reading = mileage\n",
    "        else:\n",
    "            print(\"You can't roll back an odometer.\")\n",
    "    \n",
    "    def increment_odometer(self, miles):\n",
    "        if miles >= 0: \n",
    "            self.odomeer_reading += miles\n",
    "        else:\n",
    "            print(\"You can't roll back an odometer.\")\n",
    "    \n",
    "    def fill_gas_tank(self, litters)\n",
    "        print(\"Filling the tank with {litters} lt.\")\n"
   ]
  },
  {
   "cell_type": "code",
   "execution_count": 9,
   "id": "b24e72f4",
   "metadata": {},
   "outputs": [
    {
     "name": "stdout",
     "output_type": "stream",
     "text": [
      "2019 Tesla Model S\n"
     ]
    }
   ],
   "source": [
    "class ElectricCar(Car):\n",
    "    '''Represent aspects of a car, specific to the elecric vehicles.'''\n",
    "    \n",
    "    def __init__(self,make,model,year):\n",
    "        '''Initialize attributes of the parent class.'''\n",
    "        super().__init__(make,model,year)\n",
    "\n",
    "my_tesla = ElectricCar('tesla','model s',2019)\n",
    "print(my_tesla.get_descriptive_name())"
   ]
  },
  {
   "cell_type": "markdown",
   "id": "ccbe53c4",
   "metadata": {},
   "source": [
    "When you create a child class, the parent class must be part of the curren file and must appear before the the child class in the file. \n",
    "\n",
    "The `super()` funcion is a special function that allows you to call a method from the parentclass. This line tells Python to call the `__init__()`.\n",
    "\n",
    "The name *super* comes from a convetion of calling the parent class a *superclass* and the child class *subclass*.\n",
    "\n",
    "## 3. Defining Attributes and methods for the Child Class\n",
    "\n",
    "Once you have a child class that inhertis from a parent class, you can add any new attributes and methods necessary to differentiate the child class from the parent class. \n",
    "\n",
    "\n"
   ]
  },
  {
   "cell_type": "code",
   "execution_count": 10,
   "id": "ccf764fb",
   "metadata": {},
   "outputs": [
    {
     "name": "stdout",
     "output_type": "stream",
     "text": [
      "2019 Tesla Model S\n",
      "This car has a 75 --KWh battery.\n"
     ]
    }
   ],
   "source": [
    "class ElectricCar(Car):\n",
    "    '''Represent aspects of a car, specific to the elecric vehicles.'''\n",
    "    \n",
    "    def __init__(self,make,model,year):\n",
    "        '''Initialize attributes of the parent class.'''\n",
    "        super().__init__(make,model,year)\n",
    "        self.battery_size = 75 #NEW ATTRIBUTE OF THE CLASS\n",
    "        \n",
    "    def describe_battery(self):\n",
    "        '''Print a statement describit the batery size.'''\n",
    "        print(f'This car has a {self.battery_size} --KWh battery.' )\n",
    "\n",
    "my_tesla = ElectricCar('tesla','model s',2019)\n",
    "print(my_tesla.get_descriptive_name())\n",
    "my_tesla.describe_battery()"
   ]
  },
  {
   "cell_type": "markdown",
   "id": "3499f32c",
   "metadata": {},
   "source": [
    "## 4. Overriding Methods from the Parent Class\n",
    "\n",
    "You can override any method from the parent class that doesn't fit what you're trying to model whit the child class. To do this, you define a method in the child class with the same name as the mdethod you want to override in he parent class. Python will disregard the parent class method and only pay attention to the method you defin in the child class.\n"
   ]
  },
  {
   "cell_type": "code",
   "execution_count": 19,
   "id": "f63845ba",
   "metadata": {},
   "outputs": [
    {
     "name": "stdout",
     "output_type": "stream",
     "text": [
      "2019 Tesla Model S\n",
      "This car has a 75 --KWh battery.\n",
      "I don't need to fill my tank\n"
     ]
    }
   ],
   "source": [
    "class ElectricCar(Car):\n",
    "    '''Represent aspects of a car, specific to the elecric vehicles.'''\n",
    "    \n",
    "    def __init__(self,make,model,year):\n",
    "        '''Initialize attributes of the parent class.'''\n",
    "        super().__init__(make,model,year)\n",
    "        self.battery_size = 75 #NEW ATTRIBUTE OF THE CLASS\n",
    "        \n",
    "    def describe_battery(self):\n",
    "        '''Print a statement describit the batery size.'''\n",
    "        print(f'This car has a {self.battery_size} --KWh battery.' )\n",
    "        \n",
    "    def fill_gas_tank(self):\n",
    "        print(\"I don't need to fill my tank\")\n",
    "        \n",
    "    \n",
    "\n",
    "my_tesla = ElectricCar('tesla','model s',2019)\n",
    "print(my_tesla.get_descriptive_name())\n",
    "my_tesla.describe_battery()\n",
    "my_tesla.fill_gas_tank()\n"
   ]
  },
  {
   "cell_type": "code",
   "execution_count": null,
   "id": "f5848b92",
   "metadata": {},
   "outputs": [],
   "source": []
  }
 ],
 "metadata": {
  "kernelspec": {
   "display_name": "Python 3 (ipykernel)",
   "language": "python",
   "name": "python3"
  },
  "language_info": {
   "codemirror_mode": {
    "name": "ipython",
    "version": 3
   },
   "file_extension": ".py",
   "mimetype": "text/x-python",
   "name": "python",
   "nbconvert_exporter": "python",
   "pygments_lexer": "ipython3",
   "version": "3.11.5"
  }
 },
 "nbformat": 4,
 "nbformat_minor": 5
}
