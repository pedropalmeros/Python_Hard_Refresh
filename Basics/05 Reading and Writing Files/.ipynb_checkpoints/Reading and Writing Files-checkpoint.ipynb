{
 "cells": [
  {
   "cell_type": "markdown",
   "id": "b0b7181d",
   "metadata": {},
   "source": [
    "<h1>Reading and Writing Files</h1>\n",
    "\n",
    "Reading from a file is particularly useful in data analysis applications, but it's also applicable to any situation in which you want to analyze or modify information sorted in a file. \n",
    "\n",
    "When you want to work with the information in a text file, the first step is to read the information into memory.\n",
    "\n",
    "For this case we will be using the next files:\n",
    "- `some_file.txt`\n",
    "- `pi_digits.txt`\n",
    "\n",
    "<h2>1. Reading a File </h2>\n",
    "\n",
    "\n",
    "There are several ways that we could open, read and modify the files. \n",
    "\n",
    "\n",
    "<h3>1.1 First approach (recomended)</h3>\n",
    "Consider the next cell \n"
   ]
  },
  {
   "cell_type": "code",
   "execution_count": 6,
   "id": "dbdd2c56",
   "metadata": {},
   "outputs": [
    {
     "name": "stdout",
     "output_type": "stream",
     "text": [
      "3.1415926535\n",
      "  8979323846\n",
      "  2643383279\n"
     ]
    }
   ],
   "source": [
    "with open('pi_digits.txt') as file_object:\n",
    "    contents = file_object.read()\n",
    "print(contents)"
   ]
  },
  {
   "cell_type": "markdown",
   "id": "dfc2530a",
   "metadata": {},
   "source": [
    "To do any work with a file, even just printing its contents, you first need to *open* the file to access it. The `open()` function needs one argument: the name of the file you want to open. Python looks for this file in the directory where the program that's currently being executed is stored.\n",
    "\n",
    "The `open()` function returns an object representing the file\n",
    "\n",
    "The keyword `with` closes the file once access to it is no longer needed. In the second approach the keyword `close()` is used, but in this first scenario is not used. You dould open and close the file by calling `open()` and `close()`, but if a bug in your program prevents the `close()` method from being executed, the file may nevver close. this may seem trivial, but improperly closed files can cause data to be lost or corrupted. An if you cal `close()` too early in your porogram you'll find yoursefl trying to work witha *closed* file.\n",
    "\n",
    "Once the file object representing *pi_digits.txt* is obtained, the `read()` method in the second line of the program is used to read the entire contents of the file and store itt as one long sring in `contents`"
   ]
  },
  {
   "cell_type": "markdown",
   "id": "b02b6ebf",
   "metadata": {},
   "source": [
    "\n",
    "\n",
    "<h3>1.2 Second approach approach</h3>\n",
    "\n",
    "Consider the next cell\n",
    "\n"
   ]
  },
  {
   "cell_type": "code",
   "execution_count": 8,
   "id": "1ea62ccd",
   "metadata": {},
   "outputs": [],
   "source": [
    "f = open('some_file.txt','r')\n",
    "file_data = f.read()\n",
    "f.close()"
   ]
  },
  {
   "cell_type": "markdown",
   "id": "57d17718",
   "metadata": {},
   "source": [
    "\n",
    "- First open the file using the built-in fuction, `open`. This requires a string that shows the path the file. The `open` function returns a file object, which is a Python object through wich Python interacts with the file itself. Here, we assign this object to the variable `f`. \n",
    "\n",
    "- There are optional parameters you can specify in the `open` function. One is the mode in which we open the file. Here, we use `r` or read only. This is actually the default value for the mode argument. \n",
    "\n",
    "- Use the `read` method to access the contents from the fil object. This `read` method takes the text contained in a file and puts it into a string. Here, we assign the string returned from this method into the variable `file_data`. \n",
    "\n",
    "- When finished with the file, use the `close` method to free up any systems resources taken up by the file."
   ]
  },
  {
   "cell_type": "markdown",
   "id": "c9c9efd9",
   "metadata": {},
   "source": [
    "### 1.3 Calling the `read` Method with an Integer\n",
    "\n",
    "In the code in previous cells, the call of `.read()` had no arguments passed to it. This defaults to reading all the remainder of the fil from its current position -the whole file. I you pass the `read` method an integer argument, it will read up to that number of characters, output all of them, and keep the *windwow* at hat position ready to read on. \n",
    "\n",
    "Let's see in an example that uses the following file, `camelot.txt`, which contains the next text\n",
    "```\n",
    "We're the knights of the round table\n",
    "We dance whenever we're able\n",
    "```"
   ]
  },
  {
   "cell_type": "code",
   "execution_count": 13,
   "id": "b7308dfb",
   "metadata": {},
   "outputs": [
    {
     "name": "stdout",
     "output_type": "stream",
     "text": [
      "We\n",
      "'re the \n",
      "knights of the round table\n",
      "We dance whenever we're able\n"
     ]
    }
   ],
   "source": [
    "with open(\"camelot.txt\") as song:\n",
    "    print(song.read(2)) # this will print 'We' and let the cursor just in the apostrophe\n",
    "    print(song.read(8)) # this will print \"'re the \" until the space before knights\n",
    "    print(song.read())  # this will print the reminder text"
   ]
  },
  {
   "cell_type": "markdown",
   "id": "a03eaedc",
   "metadata": {},
   "source": [
    "### 1.3 Reading Line by Line\n",
    "\n",
    "`\\n`s blocks of the text are newline characters. The newline character marks the end of a line, and tells a program (such as a text editor) to go down to the next line. However, looking at the stream of characters in the file, `\\n` is just another character.\n",
    "\n",
    "Fortunately, Python knows that these are spceial characters and you can ask it to read one line at a time.\n",
    "\n",
    "Conveniently, Python will loop over the lines of a file using the syntax `for line in file`. I can use this to create a list of lines in the file. Because each line still has its newline character attached, I remove this using `.strip()`\n"
   ]
  },
  {
   "cell_type": "code",
   "execution_count": 14,
   "id": "a0d4c029",
   "metadata": {},
   "outputs": [
    {
     "name": "stdout",
     "output_type": "stream",
     "text": [
      "[\"We're the knights of the round table\", \"We dance whenever we're able\"]\n"
     ]
    }
   ],
   "source": [
    "camelot_lines = []\n",
    "with open(\"camelot.txt\") as f:\n",
    "    for line in f:\n",
    "        camelot_lines.append(line.strip())\n",
    "print(camelot_lines)"
   ]
  },
  {
   "cell_type": "markdown",
   "id": "1c7332d3",
   "metadata": {},
   "source": [
    "### 1.4 Making a List of Lines from a file\n",
    "\n",
    "When you use `with`, the file object returned by `open()` is onlyavailable inside the `with` block that contains it. If you want to retain access to a file's contentsoutside the `with` block, you can store the fil'es lines in a list inside the block and then work with that list. You can process parts of the file immediately and postpone some processing for later in the program. \n",
    "\n",
    "\n"
   ]
  },
  {
   "cell_type": "code",
   "execution_count": 16,
   "id": "df384984",
   "metadata": {},
   "outputs": [
    {
     "name": "stdout",
     "output_type": "stream",
     "text": [
      "3.1415926535\n",
      "  8979323846\n",
      "  2643383279\n"
     ]
    }
   ],
   "source": [
    "filename = 'pi_digits.txt'\n",
    "\n",
    "with open(filename) as file_object:\n",
    "    lines = file_object.readlines()\n",
    "    \n",
    "for line in lines:\n",
    "    print(line.rstrip())"
   ]
  },
  {
   "cell_type": "markdown",
   "id": "93d3b33a",
   "metadata": {},
   "source": [
    "In the previous cell, in line 4, the `readlines()` method takes each line from the file and stores it in a list. This list is then assigned to lines, which we can continue to work with afterthe width block ends.  In line 7 the method `.rstrip()` is explained in the section 1.3\n",
    "\n",
    "**NOTE: When Python reads froma text file, it interprets all text in the file as a string. If you read ina numer and want to work with that value in a numerical context, you'll have to convert it to an integer using the "
   ]
  },
  {
   "cell_type": "markdown",
   "id": "44eb6ce8",
   "metadata": {},
   "source": [
    "<h2>2. Writing to a file </h2>\n",
    "\n",
    "One of the simplest ways to save dat is to wrtie it to a file. When you write text to a file, the output will still be available after you close the terminal containing your program's output. You can examine output after a program finishes running, and you can share the output files with others as well. You can also write programs that read the text back into memory and work with it again later. \n",
    "\n",
    "Consider the next cell"
   ]
  },
  {
   "cell_type": "code",
   "execution_count": 10,
   "id": "4bd87c9e",
   "metadata": {},
   "outputs": [],
   "source": [
    "with open('programming.txt','w') as file_obj:\n",
    "    file_obj.write(\"I love programming.\")"
   ]
  },
  {
   "cell_type": "markdown",
   "id": "ddb1a01f",
   "metadata": {},
   "source": [
    "The call to `open()` in line 1 has two arguments. The first argument is still the name of the file we want to open. the second argument is `'w'`, which tells Python that we want to open the file in *write mode*. You can open a file in **read mode (`'r'`)**, **write mode (`'w'`)**, or **append mode(`'a'`)**,or a mode that allows you **read and write to the file (`'r+'`)**. If you omitthe mode argument, Python opens the file in read-only mode by default. \n",
    "\n",
    "The `open()` function automatically creates the file you're writing to if it doesn't exists. However, be careful opeining a file in write mode (`'w'`) because if the file does exist, Python will erase the contents of the file before returning the file object.\n",
    "\n",
    "In line 2 the method `write()` is used on the file to write a string to the file. This program has no terminal output, but if you open the file *programming.txt* you'll see the line *I love programming*.\n",
    "\n",
    "**NOTE: Python can only write strings to a text file. If you want to store numerical data in a text file, you'll have to convert the data to string format first using the str() function.**\n",
    "\n",
    "**NOTE: The `write()` function doesn't add any newlines to the text you write. So if you write more than one line without including newline characters, your file may not lok the way you want it to**"
   ]
  },
  {
   "cell_type": "markdown",
   "id": "890eb1d2",
   "metadata": {},
   "source": [
    "<h2>3. Appending to a file</h2>\n",
    "\n",
    "If you want to add content to a file instead of writing over existing content, you can open the file in *append mode*. when you open a file in append mode, Python doesn't erase the contents of the file before returning the file object. Any lines you write to the file will be added at the end of the file. If the file doesn't exist yet, Python will create an empty file for you. \n"
   ]
  },
  {
   "cell_type": "markdown",
   "id": "04f176ce",
   "metadata": {},
   "source": [
    "## 4. Quiz - Flying Circus Cast List\n",
    "\n",
    "You're going to create a list of the actors who appeared in the television programme Monty Python's Flying Circus. \n",
    "\n",
    "Write a function called `create_cast_list` that takes a filename as input and returns a list of actors' names. It will be run on the file `flying_circus_casts.txt` (this information was collected from imdb.com). Each line of that file consists of an actor's name, a comma, and then some (messy) information about roles they played in the programme. You'll need to extract *only* the name and add it to a list. You might use the `.split()` method to process each line\n"
   ]
  },
  {
   "cell_type": "code",
   "execution_count": 10,
   "id": "93576afb",
   "metadata": {},
   "outputs": [
    {
     "name": "stdout",
     "output_type": "stream",
     "text": [
      "Graham Chapman\n",
      "Eric Idle\n",
      "Terry Jones\n",
      "Michael Palin\n",
      "Terry Gilliam\n",
      "John Cleese\n",
      "Carol Cleveland\n",
      "Ian Davidson\n",
      "John Hughman\n",
      "The Fred Tomlinson Singers\n",
      "Connie Booth\n",
      "Bob Raymond\n",
      "Lyn Ashley\n",
      "Rita Davies\n",
      "Stanley Mason\n",
      "David Ballantyne\n",
      "Donna Reading\n",
      "Peter Brett\n",
      "Maureen Flanagan\n",
      "Katya Wyeth\n",
      "Frank Lester\n",
      "Neil Innes\n",
      "Dick Vosburgh\n",
      "Sandra Richards\n",
      "Julia Breck\n",
      "Nicki Howorth\n",
      "Jimmy Hill\n",
      "Barry Cryer\n",
      "Jeannette Wild\n",
      "Marjorie Wilde\n",
      "Marie Anderson\n",
      "Caron Gardner\n",
      "Nosher Powell\n",
      "Carolae Donoghue\n",
      "Vincent Wong\n",
      "Helena Clayton\n",
      "Nigel Jones\n",
      "Roy Gunson\n",
      "Daphne Davey\n",
      "Stenson Falke\n",
      "Alexander Curry\n",
      "Frank Williams\n",
      "Ralph Wood\n",
      "Rosalind Bailey\n",
      "Marion Mould\n",
      "Sheila Sands\n",
      "Richard Baker\n",
      "Douglas Adams\n",
      "Ewa Aulin\n",
      "Reginald Bosanquet\n",
      "Barbara Lindley\n",
      "Roy Brent\n",
      "Jonas Card\n",
      "Tony Christopher\n",
      "Beulah Hughes\n",
      "Peter Kodak\n",
      "Lulu\n",
      "Jay Neill\n",
      "Graham Skidmore\n",
      "Ringo Starr\n",
      "Fred Tomlinson\n",
      "David Hamilton\n",
      "Suzy Mandel\n",
      "Peter Woods\n"
     ]
    }
   ],
   "source": [
    "def create_cast_list(filename):\n",
    "    cast_list = []\n",
    "    #use with to open the file filename\n",
    "    #use the for loop syntax to process each line\n",
    "    #and add the actor name to cast_list\n",
    "    file_info = []\n",
    "    with open(filename) as file:\n",
    "        \n",
    "        for line in file:\n",
    "            cast_list.append(line.split(',')[0])\n",
    "    return cast_list\n",
    "        \n",
    "\n",
    "    return cast_list\n",
    "\n",
    "cast_list = create_cast_list('flying_circus_cast.txt')\n",
    "for actor in cast_list:\n",
    "    print(actor)"
   ]
  },
  {
   "cell_type": "code",
   "execution_count": null,
   "id": "9f151a47",
   "metadata": {},
   "outputs": [],
   "source": []
  }
 ],
 "metadata": {
  "kernelspec": {
   "display_name": "Python 3 (ipykernel)",
   "language": "python",
   "name": "python3"
  },
  "language_info": {
   "codemirror_mode": {
    "name": "ipython",
    "version": 3
   },
   "file_extension": ".py",
   "mimetype": "text/x-python",
   "name": "python",
   "nbconvert_exporter": "python",
   "pygments_lexer": "ipython3",
   "version": "3.11.5"
  }
 },
 "nbformat": 4,
 "nbformat_minor": 5
}
