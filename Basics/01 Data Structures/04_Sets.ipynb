{
 "cells": [
  {
   "cell_type": "markdown",
   "id": "5a214a9b",
   "metadata": {},
   "source": [
    "<h1> Sets</h1>\n",
    "\n",
    "<h2>1. Introduction</h2>\n",
    "\n",
    "**Sets** Data type for mutable unordered collections of unique elements\n",
    "\n",
    "In the next cell observe that `India` is repeated twice. observe in the output that once the set has been created it only has `India` only once"
   ]
  },
  {
   "cell_type": "code",
   "execution_count": 2,
   "id": "cb296554",
   "metadata": {},
   "outputs": [
    {
     "name": "stdout",
     "output_type": "stream",
     "text": [
      "['Angola', 'Maldives', 'India', 'United States', 'India', 'Denmark', 'Sweden', 'Ghana']\n",
      "{'Angola', 'United States', 'Sweden', 'Maldives', 'Denmark', 'India', 'Ghana'}\n"
     ]
    }
   ],
   "source": [
    "countries = ['Angola', 'Maldives', 'India', 'United States', 'India', 'Denmark', 'Sweden', 'Ghana']\n",
    "\n",
    "country_set = set(countries)\n",
    "print(countries)\n",
    "print(country_set)"
   ]
  },
  {
   "cell_type": "markdown",
   "id": "fa808300",
   "metadata": {},
   "source": [
    "Sets support the `in` operator the same as list do. Yoou can add elements to sets using the `add` method, and remove elements using the `pop` method, similar to lists. Although when you pop an element from a set, a random element is removed. Remember that sets unlike lists, are unordered so there is no *last element*"
   ]
  },
  {
   "cell_type": "code",
   "execution_count": 3,
   "id": "80aa37a2",
   "metadata": {},
   "outputs": [
    {
     "name": "stdout",
     "output_type": "stream",
     "text": [
      "False\n",
      "{'banana', 'orange', 'apple', 'grapefruit', 'watermelon'}\n",
      "banana\n",
      "{'orange', 'apple', 'grapefruit', 'watermelon'}\n"
     ]
    }
   ],
   "source": [
    "fruit ={'apple', 'banana', 'orange', 'grapefruit'}\n",
    "\n",
    "print('watermelon' in fruit)\n",
    "\n",
    "fruit.add('watermelon')\n",
    "\n",
    "print(fruit)\n",
    "\n",
    "\n",
    "print(fruit.pop())\n",
    "print(fruit)"
   ]
  },
  {
   "cell_type": "markdown",
   "id": "12267e07",
   "metadata": {},
   "source": [
    "Other operations you can perform with sets include those of mathematical sets. Methods like union,"
   ]
  }
 ],
 "metadata": {
  "kernelspec": {
   "display_name": "Python 3 (ipykernel)",
   "language": "python",
   "name": "python3"
  },
  "language_info": {
   "codemirror_mode": {
    "name": "ipython",
    "version": 3
   },
   "file_extension": ".py",
   "mimetype": "text/x-python",
   "name": "python",
   "nbconvert_exporter": "python",
   "pygments_lexer": "ipython3",
   "version": "3.11.5"
  }
 },
 "nbformat": 4,
 "nbformat_minor": 5
}
