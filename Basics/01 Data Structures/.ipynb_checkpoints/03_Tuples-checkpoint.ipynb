{
 "cells": [
  {
   "cell_type": "markdown",
   "id": "c3723691",
   "metadata": {},
   "source": [
    "<h1>Tuples</h1>\n",
    "\n",
    "<h2> Introduction</h2>\n",
    "A tuple is another useful container. It's a data type for immutalbe ordered sequences of elements. They are often used to store related pieces of information. Consider this example involving latitude and longitude:\n"
   ]
  },
  {
   "cell_type": "code",
   "execution_count": 1,
   "id": "b00e71f1",
   "metadata": {},
   "outputs": [
    {
     "name": "stdout",
     "output_type": "stream",
     "text": [
      "Latitude:  13.4125\n",
      "Longitude:  103.866667\n"
     ]
    }
   ],
   "source": [
    "location = (13.4125, 103.866667)\n",
    "print(\"Latitude: \", location[0])\n",
    "print(\"Longitude: \", location[1])"
   ]
  },
  {
   "cell_type": "markdown",
   "id": "7a0cc20c",
   "metadata": {},
   "source": [
    "Tuples are similar to lists in the sense that they store an ordered collection of objects which can be accessed by ther indices. Unlike lists, tuples are immutable - you can not add an remove items from tuples, or sort them in plase. If something has to be changed in a tupble, it has to be done completely, in the previous cell if a data was wrong to correct the data all the tuple has to be redefined, not only a element of the tuple.\n"
   ]
  },
  {
   "cell_type": "code",
   "execution_count": 2,
   "id": "63e545f6",
   "metadata": {},
   "outputs": [
    {
     "name": "stdout",
     "output_type": "stream",
     "text": [
      "Latitude:  13.4125\n",
      "Longitude:  103.866667\n",
      "Latitude:  40.5\n",
      "Longitude:  90.0\n"
     ]
    }
   ],
   "source": [
    "location = (13.4125, 103.866667)\n",
    "print(\"Latitude: \", location[0])\n",
    "print(\"Longitude: \", location[1])\n",
    "\n",
    "location = (40.5, 90.0)\n",
    "print(\"Latitude: \", location[0])\n",
    "print(\"Longitude: \", location[1])"
   ]
  },
  {
   "cell_type": "markdown",
   "id": "2eb4b57e",
   "metadata": {},
   "source": [
    "Tuples an also be used to assign multiple variables in a compact way. \n"
   ]
  },
  {
   "cell_type": "code",
   "execution_count": 3,
   "id": "0b8caf23",
   "metadata": {},
   "outputs": [
    {
     "ename": "NameError",
     "evalue": "name 'dimensions' is not defined",
     "output_type": "error",
     "traceback": [
      "\u001b[1;31m---------------------------------------------------------------------------\u001b[0m",
      "\u001b[1;31mNameError\u001b[0m                                 Traceback (most recent call last)",
      "Cell \u001b[1;32mIn[3], line 2\u001b[0m\n\u001b[0;32m      1\u001b[0m dimensios \u001b[38;5;241m=\u001b[39m \u001b[38;5;241m52\u001b[39m, \u001b[38;5;241m40\u001b[39m, \u001b[38;5;241m100\u001b[39m\n\u001b[1;32m----> 2\u001b[0m length, width, height \u001b[38;5;241m=\u001b[39m dimensions\n\u001b[0;32m      3\u001b[0m \u001b[38;5;28mprint\u001b[39m(\u001b[38;5;124m\"\u001b[39m\u001b[38;5;124mThe dimensions are \u001b[39m\u001b[38;5;132;01m{}\u001b[39;00m\u001b[38;5;124m x \u001b[39m\u001b[38;5;132;01m{}\u001b[39;00m\u001b[38;5;124m x \u001b[39m\u001b[38;5;132;01m{}\u001b[39;00m\u001b[38;5;124m\"\u001b[39m\u001b[38;5;241m.\u001b[39m \u001b[38;5;28mformat\u001b[39m(length, width, height))\n",
      "\u001b[1;31mNameError\u001b[0m: name 'dimensions' is not defined"
     ]
    }
   ],
   "source": [
    "dimensios = 52, 40, 100\n",
    "length, width, height = dimensions\n",
    "print(\"The dimensions are {} x {} x {}\". format(length, width, height))"
   ]
  },
  {
   "cell_type": "code",
   "execution_count": null,
   "id": "102ca86d",
   "metadata": {},
   "outputs": [],
   "source": []
  }
 ],
 "metadata": {
  "kernelspec": {
   "display_name": "Python 3 (ipykernel)",
   "language": "python",
   "name": "python3"
  },
  "language_info": {
   "codemirror_mode": {
    "name": "ipython",
    "version": 3
   },
   "file_extension": ".py",
   "mimetype": "text/x-python",
   "name": "python",
   "nbconvert_exporter": "python",
   "pygments_lexer": "ipython3",
   "version": "3.11.5"
  }
 },
 "nbformat": 4,
 "nbformat_minor": 5
}
