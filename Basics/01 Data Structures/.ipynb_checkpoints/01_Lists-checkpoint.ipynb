{
 "cells": [
  {
   "cell_type": "markdown",
   "id": "2977b4ef",
   "metadata": {},
   "source": [
    "<h1> Lists </h1>\n",
    "\n",
    "<h2> 1. Introduction </h2>\n",
    "**Data structures** are contains that organize and group data types together in different ways. A **list** is one the most common and basic dada structure in Python</br>\n",
    "\n",
    "You saw here that you can create a list with square brackets. List can contain any mix and match of the data types you have seen so far\n"
   ]
  },
  {
   "cell_type": "code",
   "execution_count": 2,
   "id": "4c9e1cb2",
   "metadata": {},
   "outputs": [
    {
     "name": "stdout",
     "output_type": "stream",
     "text": [
      "January\n",
      "February\n",
      "March\n"
     ]
    }
   ],
   "source": [
    "months = ['January','February','March','April','Months','June', 'July', 'August', 'September', 'October','November', 'December']\n",
    "print(months[0])\n",
    "print(months[1])\n",
    "print(months[2])\n"
   ]
  },
  {
   "cell_type": "markdown",
   "id": "374ea054",
   "metadata": {},
   "source": [
    "All ordered containers like lists are indexed in python using a starting index of 0. Therefore tu upll the first value from the list you can access to it as `my_list[0]`\n",
    "\n",
    "You can access using negative index, and it will index the last item in the list or `n` element from the last to the begining"
   ]
  },
  {
   "cell_type": "code",
   "execution_count": 3,
   "id": "6369c9d0",
   "metadata": {},
   "outputs": [
    {
     "name": "stdout",
     "output_type": "stream",
     "text": [
      "December\n",
      "August\n"
     ]
    }
   ],
   "source": [
    "print(months[-1])\n",
    "print(months[-5])"
   ]
  },
  {
   "cell_type": "markdown",
   "id": "3af9b14a",
   "metadata": {},
   "source": [
    "<h2>Slicing a List </h2>"
   ]
  },
  {
   "cell_type": "markdown",
   "id": "25732bd6",
   "metadata": {},
   "source": [
    "**slicing**, means using indices to slice off parts of an object like a string or a list\n",
    "\n"
   ]
  },
  {
   "cell_type": "code",
   "execution_count": 4,
   "id": "e3861c11",
   "metadata": {},
   "outputs": [],
   "source": [
    "months = ['January','February','March','April','Months','June', 'July', 'August', 'September', 'October','November', 'December']\n"
   ]
  },
  {
   "cell_type": "markdown",
   "id": "d367e93d",
   "metadata": {},
   "source": [
    "the month list can be sliced as "
   ]
  },
  {
   "cell_type": "code",
   "execution_count": 5,
   "id": "8f749eba",
   "metadata": {},
   "outputs": [
    {
     "name": "stdout",
     "output_type": "stream",
     "text": [
      "['July', 'August', 'September']\n"
     ]
    }
   ],
   "source": [
    "q3 = months[6:9]\n",
    "print(q3)"
   ]
  },
  {
   "cell_type": "code",
   "execution_count": 7,
   "id": "304a96cc",
   "metadata": {},
   "outputs": [
    {
     "name": "stdout",
     "output_type": "stream",
     "text": [
      "['January', 'February', 'March', 'April', 'Months', 'June']\n"
     ]
    }
   ],
   "source": [
    "first_half = months[:6]\n",
    "print(first_half)"
   ]
  },
  {
   "cell_type": "code",
   "execution_count": 11,
   "id": "75a56794",
   "metadata": {},
   "outputs": [
    {
     "name": "stdout",
     "output_type": "stream",
     "text": [
      "['July', 'August', 'September', 'October', 'November', 'December']\n"
     ]
    }
   ],
   "source": [
    "second_half = months[6:]\n",
    "print(second_half)"
   ]
  },
  {
   "cell_type": "markdown",
   "id": "f2d0e4c1",
   "metadata": {},
   "source": []
  },
  {
   "cell_type": "markdown",
   "id": "1bcd2210",
   "metadata": {},
   "source": [
    "<h2> Length of a list</h2>\n",
    "\n",
    "With the built-in function `len(my_list)` we can obtain the number of inputs the list have. "
   ]
  },
  {
   "cell_type": "code",
   "execution_count": 10,
   "id": "a4e000a8",
   "metadata": {},
   "outputs": [
    {
     "name": "stdout",
     "output_type": "stream",
     "text": [
      "12\n"
     ]
    }
   ],
   "source": [
    "print(len(months))"
   ]
  },
  {
   "cell_type": "code",
   "execution_count": null,
   "id": "27223ca0",
   "metadata": {},
   "outputs": [],
   "source": []
  },
  {
   "cell_type": "code",
   "execution_count": null,
   "id": "45de02bb",
   "metadata": {},
   "outputs": [],
   "source": []
  }
 ],
 "metadata": {
  "kernelspec": {
   "display_name": "Python 3 (ipykernel)",
   "language": "python",
   "name": "python3"
  },
  "language_info": {
   "codemirror_mode": {
    "name": "ipython",
    "version": 3
   },
   "file_extension": ".py",
   "mimetype": "text/x-python",
   "name": "python",
   "nbconvert_exporter": "python",
   "pygments_lexer": "ipython3",
   "version": "3.11.5"
  }
 },
 "nbformat": 4,
 "nbformat_minor": 5
}
