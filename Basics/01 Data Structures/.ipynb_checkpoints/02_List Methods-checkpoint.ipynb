{
 "cells": [
  {
   "cell_type": "markdown",
   "id": "e96297a9",
   "metadata": {},
   "source": [
    "<h1>1. List methods</h1>"
   ]
  },
  {
   "cell_type": "markdown",
   "id": "c9be9fdc",
   "metadata": {},
   "source": [
    "<h2>1.1 Useful Functions for List I </h2>"
   ]
  },
  {
   "cell_type": "markdown",
   "id": "794aef76",
   "metadata": {},
   "source": [
    "1. `len()` returns how many elements are in alist\n",
    "2. `max()` returns the greatest element of the list. How the greatese element is determined depends on what type objects are in a list. The maximum element in a list of umbers i the largest number. The maximum elements in a list of strings is the element that would occur last if the list were sorted alphabetically. This works because the `max` function is undefined for lists that contain elements from different, incomparable types.\n",
    "3. `min()` returns the smallest element in a list. `min` is the opposite of `max`, which returns the largest element in a list.\n",
    "4. `sorted()` returns acopy of a list in order from smallest to largest, leaving the list unchanged."
   ]
  },
  {
   "cell_type": "markdown",
   "id": "f66530fc",
   "metadata": {},
   "source": [
    "<h2>1.2 Useful Functions for List II </h2>\n",
    "\n",
    "<h3> 1.2.1 join method</h3>\n",
    "Join is a string method that takes a list of strings as an arugment, and returns a string consisting of the list elements joined by a separator string.\n",
    "\n"
   ]
  },
  {
   "cell_type": "code",
   "execution_count": 5,
   "id": "fd90e729",
   "metadata": {},
   "outputs": [
    {
     "name": "stdout",
     "output_type": "stream",
     "text": [
      "fore\n",
      "aft\n",
      "starboard\n",
      "port\n"
     ]
    }
   ],
   "source": [
    "new_str = \"\\n\".join([\"fore\",\"aft\", \"starboard\", \"port\"])\n",
    "print(new_str)"
   ]
  },
  {
   "cell_type": "markdown",
   "id": "f0a9d707",
   "metadata": {},
   "source": [
    "In this example we use the string `\\n` as the separator so that there is a new line between each element. We can also use onther strings as separators with `.join`. In the next cell a hyphen is used"
   ]
  },
  {
   "cell_type": "code",
   "execution_count": 7,
   "id": "808aaf81",
   "metadata": {},
   "outputs": [
    {
     "name": "stdout",
     "output_type": "stream",
     "text": [
      "Garcia-O'Kelly\n"
     ]
    }
   ],
   "source": [
    "name = \"-\".join([\"Garcia\",\"O'Kelly\"])\n",
    "print(name)"
   ]
  },
  {
   "cell_type": "markdown",
   "id": "76c32493",
   "metadata": {},
   "source": [
    "<h3> 1.2.2 append method</h3>\n",
    "\n",
    "A helpful method called `append` adds an element to the end of a list"
   ]
  },
  {
   "cell_type": "code",
   "execution_count": 8,
   "id": "49ccf096",
   "metadata": {},
   "outputs": [
    {
     "name": "stdout",
     "output_type": "stream",
     "text": [
      "['a', 'b', 'c', 'd', 'z']\n"
     ]
    }
   ],
   "source": [
    "letters = ['a','b','c','d']\n",
    "letters.append('z')\n",
    "print(letters)"
   ]
  },
  {
   "cell_type": "code",
   "execution_count": null,
   "id": "bb191f21",
   "metadata": {},
   "outputs": [],
   "source": []
  },
  {
   "cell_type": "code",
   "execution_count": null,
   "id": "83fac307",
   "metadata": {},
   "outputs": [],
   "source": []
  }
 ],
 "metadata": {
  "kernelspec": {
   "display_name": "Python 3 (ipykernel)",
   "language": "python",
   "name": "python3"
  },
  "language_info": {
   "codemirror_mode": {
    "name": "ipython",
    "version": 3
   },
   "file_extension": ".py",
   "mimetype": "text/x-python",
   "name": "python",
   "nbconvert_exporter": "python",
   "pygments_lexer": "ipython3",
   "version": "3.11.5"
  }
 },
 "nbformat": 4,
 "nbformat_minor": 5
}
