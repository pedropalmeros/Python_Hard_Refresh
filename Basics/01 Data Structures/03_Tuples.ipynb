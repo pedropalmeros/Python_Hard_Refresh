{
 "cells": [
  {
   "cell_type": "markdown",
   "id": "531df58f",
   "metadata": {},
   "source": [
    "<h1>Tuples</h1>\n",
    "\n",
    "<h2> Introduction</h2>\n",
    "A tuple is another useful container. It's a data type for immutalbe ordered sequences of elements. They are often used to store related pieces of information. Consider this example involving latitude and longitude:\n"
   ]
  },
  {
   "cell_type": "code",
   "execution_count": 1,
   "id": "6e9af3ba",
   "metadata": {},
   "outputs": [
    {
     "name": "stdout",
     "output_type": "stream",
     "text": [
      "Latitude:  13.4125\n",
      "Longitude:  103.866667\n"
     ]
    }
   ],
   "source": [
    "location = (13.4125, 103.866667)\n",
    "print(\"Latitude: \", location[0])\n",
    "print(\"Longitude: \", location[1])"
   ]
  },
  {
   "cell_type": "markdown",
   "id": "8f313fda",
   "metadata": {},
   "source": [
    "Tuples are similar to lists in the sense that they store an ordered collection of objects which can be accessed by ther indices. Unlike lists, tuples are immutable - you can not add an remove items from tuples, or sort them in plase. If something has to be changed in a tupble, it has to be done completely, in the previous cell if a data was wrong to correct the data all the tuple has to be redefined, not only a element of the tuple.\n"
   ]
  },
  {
   "cell_type": "code",
   "execution_count": 2,
   "id": "cb83b60c",
   "metadata": {},
   "outputs": [
    {
     "name": "stdout",
     "output_type": "stream",
     "text": [
      "Latitude:  13.4125\n",
      "Longitude:  103.866667\n",
      "Latitude:  40.5\n",
      "Longitude:  90.0\n"
     ]
    }
   ],
   "source": [
    "location = (13.4125, 103.866667)\n",
    "print(\"Latitude: \", location[0])\n",
    "print(\"Longitude: \", location[1])\n",
    "\n",
    "location = (40.5, 90.0)\n",
    "print(\"Latitude: \", location[0])\n",
    "print(\"Longitude: \", location[1])"
   ]
  },
  {
   "cell_type": "markdown",
   "id": "ac92509b",
   "metadata": {},
   "source": [
    "Tuples an also be used to assign multiple variables in a compact way. \n"
   ]
  },
  {
   "cell_type": "code",
   "execution_count": 4,
   "id": "e35d38b3",
   "metadata": {},
   "outputs": [
    {
     "name": "stdout",
     "output_type": "stream",
     "text": [
      "The dimensions are 52 x 40 x 100\n"
     ]
    }
   ],
   "source": [
    "dimensions = 52, 40, 100\n",
    "length, width, height = dimensions\n",
    "print(\"The dimensions are {} x {} x {}\". format(length, width, height))"
   ]
  },
  {
   "cell_type": "markdown",
   "id": "316143ac",
   "metadata": {},
   "source": [
    "In the previous cell the parenthesis are optional when defining tupbles, and programmers frequently omit them if parenthesis don't clarify the code. </br>\n",
    "\n",
    "In the second line, three variables are assigned from the content of the tuple dimensions. this is a **tuple unpacking**. You can use tuple unpacking to assign the information from a tuple into multiple variables without having to access them one by one and make multiple assignments statements.\n",
    "\n",
    "If we won't need to use `dimensions` directly, we could shorten those two lines of code into a single line that assigns three variable in one go! "
   ]
  },
  {
   "cell_type": "code",
   "execution_count": 5,
   "id": "36ebeedb",
   "metadata": {},
   "outputs": [
    {
     "name": "stdout",
     "output_type": "stream",
     "text": [
      "The dimensions are 52 x 40 x100\n"
     ]
    }
   ],
   "source": [
    "length, width, height = 52, 40, 100\n",
    "print(\"The dimensions are {} x {} x{}\".format(length, width, height))"
   ]
  },
  {
   "cell_type": "code",
   "execution_count": null,
   "id": "fd6f8520",
   "metadata": {},
   "outputs": [],
   "source": []
  }
 ],
 "metadata": {
  "kernelspec": {
   "display_name": "Python 3 (ipykernel)",
   "language": "python",
   "name": "python3"
  },
  "language_info": {
   "codemirror_mode": {
    "name": "ipython",
    "version": 3
   },
   "file_extension": ".py",
   "mimetype": "text/x-python",
   "name": "python",
   "nbconvert_exporter": "python",
   "pygments_lexer": "ipython3",
   "version": "3.11.5"
  }
 },
 "nbformat": 4,
 "nbformat_minor": 5
}
