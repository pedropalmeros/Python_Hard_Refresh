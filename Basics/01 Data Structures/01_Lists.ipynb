{
 "cells": [
  {
   "cell_type": "markdown",
   "id": "9872f53a",
   "metadata": {},
   "source": [
    "<h1> Lists </h1>\n",
    "\n",
    "<h2> 1. Introduction </h2>\n",
    "**Data structures** are contains that organize and group data types together in different ways. A **list** is one the most common and basic dada structure in Python</br>\n",
    "\n",
    "You saw here that you can create a list with square brackets. List can contain any mix and match of the data types you have seen so far\n"
   ]
  },
  {
   "cell_type": "code",
   "execution_count": 14,
   "id": "c3099f1b",
   "metadata": {},
   "outputs": [
    {
     "name": "stdout",
     "output_type": "stream",
     "text": [
      "January\n",
      "February\n",
      "March\n"
     ]
    }
   ],
   "source": [
    "months = ['January','February','March','April','Months','June', 'July', 'August', 'September', 'October','November', 'December']\n",
    "print(months[0])\n",
    "print(months[1])\n",
    "print(months[2])\n"
   ]
  },
  {
   "cell_type": "markdown",
   "id": "3d980483",
   "metadata": {},
   "source": [
    "All ordered containers like lists are indexed in python using a starting index of 0. Therefore tu upll the first value from the list you can access to it as `my_list[0]`\n",
    "\n",
    "You can access using negative index, and it will index the last item in the list or `n` element from the last to the begining"
   ]
  },
  {
   "cell_type": "code",
   "execution_count": 15,
   "id": "2af4563f",
   "metadata": {},
   "outputs": [
    {
     "name": "stdout",
     "output_type": "stream",
     "text": [
      "December\n",
      "August\n"
     ]
    }
   ],
   "source": [
    "print(months[-1])\n",
    "print(months[-5])"
   ]
  },
  {
   "cell_type": "markdown",
   "id": "345ece37",
   "metadata": {},
   "source": [
    "<h2>2. Slicing a List </h2>"
   ]
  },
  {
   "cell_type": "markdown",
   "id": "d673d8a9",
   "metadata": {},
   "source": [
    "**slicing**, means using indices to slice off parts of an object like a string or a list\n",
    "\n"
   ]
  },
  {
   "cell_type": "code",
   "execution_count": 16,
   "id": "2a5996dd",
   "metadata": {},
   "outputs": [],
   "source": [
    "months = ['January','February','March','April','Months','June', 'July', 'August', 'September', 'October','November', 'December']\n"
   ]
  },
  {
   "cell_type": "markdown",
   "id": "7ba3e006",
   "metadata": {},
   "source": [
    "the month list can be sliced as "
   ]
  },
  {
   "cell_type": "code",
   "execution_count": 17,
   "id": "6421cb56",
   "metadata": {},
   "outputs": [
    {
     "name": "stdout",
     "output_type": "stream",
     "text": [
      "['July', 'August', 'September']\n"
     ]
    }
   ],
   "source": [
    "q3 = months[6:9]\n",
    "print(q3)"
   ]
  },
  {
   "cell_type": "code",
   "execution_count": 18,
   "id": "e456cc3e",
   "metadata": {},
   "outputs": [
    {
     "name": "stdout",
     "output_type": "stream",
     "text": [
      "['January', 'February', 'March', 'April', 'Months', 'June']\n"
     ]
    }
   ],
   "source": [
    "first_half = months[:6]\n",
    "print(first_half)"
   ]
  },
  {
   "cell_type": "code",
   "execution_count": 19,
   "id": "37297b12",
   "metadata": {},
   "outputs": [
    {
     "name": "stdout",
     "output_type": "stream",
     "text": [
      "['July', 'August', 'September', 'October', 'November', 'December']\n"
     ]
    }
   ],
   "source": [
    "second_half = months[6:]\n",
    "print(second_half)"
   ]
  },
  {
   "cell_type": "markdown",
   "id": "117234c3",
   "metadata": {},
   "source": [
    "<h3>1.1 Slice and Dice with Lists </h3>\n",
    "\n",
    "You saw that we can pull more than one value froma list at a time by using **slicing**. when using slicing, it is important to remember tat the **lower index is inclusive** and the **upper index is exclusive**. </br>\n"
   ]
  },
  {
   "cell_type": "code",
   "execution_count": 20,
   "id": "fcb7bc1c",
   "metadata": {},
   "outputs": [
    {
     "data": {
      "text/plain": [
       "[3.4]"
      ]
     },
     "execution_count": 20,
     "metadata": {},
     "output_type": "execute_result"
    }
   ],
   "source": [
    "list_of_random_things = [1, 3.4, 'a string', True]\n",
    "list_of_random_things[1:2]"
   ]
  },
  {
   "cell_type": "markdown",
   "id": "81e14dba",
   "metadata": {},
   "source": [
    "In the previous cell the output of the second line is `[3.4]` this is because the the slicing begins at 1 (lower index is inclusive) and ends in the index 1 (upper index is exclusive)"
   ]
  },
  {
   "cell_type": "code",
   "execution_count": 21,
   "id": "a85da7a4",
   "metadata": {},
   "outputs": [
    {
     "data": {
      "text/plain": [
       "[1, 3.4, 'a string', True]"
      ]
     },
     "execution_count": 21,
     "metadata": {},
     "output_type": "execute_result"
    }
   ],
   "source": [
    "list_of_random_things[:]"
   ]
  },
  {
   "cell_type": "markdown",
   "id": "4b5b6f79",
   "metadata": {},
   "source": [
    "<h3>1.2 Length of a list</h3></br>\n",
    "\n",
    "With the built-in function `len(my_list)` we can obtain the number of inputs the list have. "
   ]
  },
  {
   "cell_type": "code",
   "execution_count": 10,
   "id": "c5021405",
   "metadata": {},
   "outputs": [
    {
     "name": "stdout",
     "output_type": "stream",
     "text": [
      "12\n"
     ]
    }
   ],
   "source": [
    "print(len(months))"
   ]
  },
  {
   "cell_type": "markdown",
   "id": "37b93cd3",
   "metadata": {},
   "source": [
    "<h2> 2. Are you `in` or `not in` </h2>\n",
    "\n",
    "These commands `in` and `not in` return a bool of whether an element exists within our list, or fi one string is a substring of another"
   ]
  },
  {
   "cell_type": "code",
   "execution_count": 23,
   "id": "dc01f6f9",
   "metadata": {},
   "outputs": [
    {
     "data": {
      "text/plain": [
       "True"
      ]
     },
     "execution_count": 23,
     "metadata": {},
     "output_type": "execute_result"
    }
   ],
   "source": [
    "'this' in 'this is a string'"
   ]
  },
  {
   "cell_type": "code",
   "execution_count": 24,
   "id": "35833590",
   "metadata": {},
   "outputs": [
    {
     "data": {
      "text/plain": [
       "True"
      ]
     },
     "execution_count": 24,
     "metadata": {},
     "output_type": "execute_result"
    }
   ],
   "source": [
    "'in' in 'this is a string'"
   ]
  },
  {
   "cell_type": "code",
   "execution_count": 25,
   "id": "19f1dd00",
   "metadata": {},
   "outputs": [
    {
     "data": {
      "text/plain": [
       "False"
      ]
     },
     "execution_count": 25,
     "metadata": {},
     "output_type": "execute_result"
    }
   ],
   "source": [
    "'isa' in ' this is a string'"
   ]
  },
  {
   "cell_type": "code",
   "execution_count": 26,
   "id": "dd082927",
   "metadata": {},
   "outputs": [
    {
     "data": {
      "text/plain": [
       "False"
      ]
     },
     "execution_count": 26,
     "metadata": {},
     "output_type": "execute_result"
    }
   ],
   "source": [
    "5 not in [1,2,3,4,6]"
   ]
  },
  {
   "cell_type": "code",
   "execution_count": 27,
   "id": "a8a5df3c",
   "metadata": {},
   "outputs": [
    {
     "data": {
      "text/plain": [
       "False"
      ]
     },
     "execution_count": 27,
     "metadata": {},
     "output_type": "execute_result"
    }
   ],
   "source": [
    "5 in [1,2,3,4,6]"
   ]
  },
  {
   "cell_type": "markdown",
   "id": "29ae4873",
   "metadata": {},
   "source": [
    "<h2>3. Quiz List and Membership Operators<h2>\n",
    "\n",
    "<h3>3.1 Quiz: List Indexing</h3>\n",
    "    \n",
    "Use list indexing to deter hoy many days are in a prticular month based on the integer variable `month`, and store that value in the inger variable `num_days`. For example, if `month` is 8, `num_days` should be set to 31, since the eight month, August, has 31 days"
   ]
  },
  {
   "cell_type": "code",
   "execution_count": 4,
   "id": "b1f92b9a",
   "metadata": {},
   "outputs": [
    {
     "name": "stdout",
     "output_type": "stream",
     "text": [
      "31\n",
      "[31, 31, 30, 31, 30, 31, 31, 30, 31, 30, 31]\n"
     ]
    }
   ],
   "source": [
    "month = 8\n",
    "days_in_month = [31,28,31,30,31,30,31,31,30,31,30,31]\n",
    "\n",
    "num_days = days_in_month[month-1]\n",
    "\n",
    "print(num_days)\n",
    "del days_in_month[days_in_month.index(28)]\n",
    "print(days_in_month)"
   ]
  },
  {
   "cell_type": "markdown",
   "id": "51feb1f2",
   "metadata": {},
   "source": [
    "<h3>3.2 Quiz: Slicing List</h3>\n",
    "\n",
    "Select the three most recent dates from this list using slicing notation. Hing: negative indexes work in slices"
   ]
  },
  {
   "cell_type": "code",
   "execution_count": 29,
   "id": "e71ad1c2",
   "metadata": {},
   "outputs": [
    {
     "name": "stdout",
     "output_type": "stream",
     "text": [
      "['November 13, 2012', 'March 20, 2015', 'March 9, 2016']\n"
     ]
    }
   ],
   "source": [
    "eclipse_dates = ['June 21, 2001', 'December 4, 2002', 'November 23, 2003',\n",
    "                 'March 29, 2006', 'August 1, 2008', 'July 22, 2009',\n",
    "                 'July 11, 2010', 'November 13, 2012', 'March 20, 2015',\n",
    "                 'March 9, 2016']\n",
    "                 \n",
    "                 \n",
    "# TODO: Modify this line so it prints the last three elements of the list\n",
    "print(eclipse_dates[-3:])"
   ]
  },
  {
   "cell_type": "code",
   "execution_count": null,
   "id": "cb1bae03",
   "metadata": {},
   "outputs": [],
   "source": []
  }
 ],
 "metadata": {
  "kernelspec": {
   "display_name": "Python 3 (ipykernel)",
   "language": "python",
   "name": "python3"
  },
  "language_info": {
   "codemirror_mode": {
    "name": "ipython",
    "version": 3
   },
   "file_extension": ".py",
   "mimetype": "text/x-python",
   "name": "python",
   "nbconvert_exporter": "python",
   "pygments_lexer": "ipython3",
   "version": "3.11.5"
  }
 },
 "nbformat": 4,
 "nbformat_minor": 5
}
