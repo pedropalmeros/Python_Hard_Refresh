{
 "cells": [
  {
   "cell_type": "markdown",
   "id": "cc0aeacb",
   "metadata": {},
   "source": [
    "# Storing Data\n",
    "\n",
    "## 1. Introduction\n",
    "\n",
    "Many of your programs will ask users to input certain kinds of information. You might allow users to store preferences ina game or provide data for visualization. Whatever the focus of your program is, you'll store the information useres provide in data structures such as lists and dictionaries. When users close a program, you'll almost always want to save the information they entered. A simple way to do this involves storing your data using the `json` module.\n",
    "\n",
    "The `json` moduleallows you to dump simple Python data structures into a file and load the data from that file the next time the program runs. You can also use `json` to share data between different Python programs. Even better, the JSONdata format is not specific to Python, so you can share data you store in the JSON format with people who work in many other programming languages. It's useful and portable format.\n",
    "\n",
    "**NOTE: The JSON(JavaScript Object Notation) format was originally developed for JavaScript. However, it has since become a common format used by many languages, including Python**"
   ]
  },
  {
   "cell_type": "markdown",
   "id": "51a0ebc4",
   "metadata": {},
   "source": [
    "## 2. Using `json.dump()` and `json.load()`\n",
    "\n",
    "To better understand the functions, two program are going to be created. The irst program will use `json.dump()` to store the set of numbers, and the second program will use `json.dload()`.\n",
    "\n",
    "The `json.dump()` function takes two arguments: a piece of data to store and a file object it can use to store the data"
   ]
  },
  {
   "cell_type": "code",
   "execution_count": 2,
   "id": "38800c73",
   "metadata": {},
   "outputs": [],
   "source": [
    "import json\n",
    "\n",
    "numbers = [2, 3, 5, 7, 11, 13]\n",
    "\n",
    "filename = 'numbers.json'\n",
    "\n",
    "with open(filename, 'w') as f:\n",
    "    json.dump(numbers, f)"
   ]
  },
  {
   "cell_type": "markdown",
   "id": "56718322",
   "metadata": {},
   "source": [
    "In the previous cell, we first import the `json` module and then create a list of numbers to work with. Then a filename is chosen to store the list of numbers. It's customary to use the file extension `.json` to indicate that the data in the file is stored in the JSON format. then we open the file in write mode, which allows `json` to write the data to the file. Then we use the `json.dump()` function to store the list `numbers` in the file *numbers.json*"
   ]
  },
  {
   "cell_type": "code",
   "execution_count": 4,
   "id": "6a4eeb32",
   "metadata": {},
   "outputs": [
    {
     "name": "stdout",
     "output_type": "stream",
     "text": [
      "[2, 3, 5, 7, 11, 13]\n"
     ]
    }
   ],
   "source": [
    "import json\n",
    "\n",
    "filename = 'numbers.json'\n",
    "with open(filename) as f:\n",
    "    numbers = json.load(f)\n",
    "print(numbers)"
   ]
  },
  {
   "cell_type": "markdown",
   "id": "ba2de7e8",
   "metadata": {},
   "source": [
    "First of all we mhave to be sure to read from the same file we wrote to in previous cells. This time when we open the file, we open it in read mode because Python only needs to read from the file. Then w use the `json.load()` function to load the information sotred in *numbers.json*, and we assign it to the variable `numbers`."
   ]
  },
  {
   "cell_type": "code",
   "execution_count": null,
   "id": "b664a966",
   "metadata": {},
   "outputs": [],
   "source": []
  }
 ],
 "metadata": {
  "kernelspec": {
   "display_name": "Python 3 (ipykernel)",
   "language": "python",
   "name": "python3"
  },
  "language_info": {
   "codemirror_mode": {
    "name": "ipython",
    "version": 3
   },
   "file_extension": ".py",
   "mimetype": "text/x-python",
   "name": "python",
   "nbconvert_exporter": "python",
   "pygments_lexer": "ipython3",
   "version": "3.11.5"
  }
 },
 "nbformat": 4,
 "nbformat_minor": 5
}
