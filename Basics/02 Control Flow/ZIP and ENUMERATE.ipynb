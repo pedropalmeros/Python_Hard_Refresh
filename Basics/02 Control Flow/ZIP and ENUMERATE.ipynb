{
 "cells": [
  {
   "cell_type": "markdown",
   "id": "c2aabbc8",
   "metadata": {},
   "source": [
    "<h1> ZIP  and ENUMERATE</h1>\n",
    "\n",
    "<h2> ZIP </h2>"
   ]
  },
  {
   "cell_type": "code",
   "execution_count": 1,
   "id": "5850317b",
   "metadata": {},
   "outputs": [],
   "source": [
    "items = ['bananas','mattresses','dog kennels','machine','chesses']\n",
    "weights = [15, 34, 42, 120, 5]"
   ]
  },
  {
   "cell_type": "code",
   "execution_count": 2,
   "id": "8df45310",
   "metadata": {},
   "outputs": [
    {
     "name": "stdout",
     "output_type": "stream",
     "text": [
      "[('bananas', 15), ('mattresses', 34), ('dog kennels', 42), ('machine', 120), ('chesses', 5)]\n"
     ]
    }
   ],
   "source": [
    "myZip = zip(items, weights)\n",
    "myZippedList = list(myZip)\n",
    "\n",
    "print(myZippedList)"
   ]
  },
  {
   "cell_type": "markdown",
   "id": "701f5821",
   "metadata": {},
   "source": [
    "- Inline `zip` helps to merge two list in tuples \n",
    "- `list(myZip)` is used to transform the zip into a list in which each entry is a tuple containing the pairs `(item(i), weights(i))` \n",
    "\n",
    "**ZIP** RETURNS AN ITERATOR THAT COMBINES MULTIPLE ITERABLES INTO ONE SEQUENCE OF TUPLES. EACH TUPLE CONTAINS THE ELEMENTS IN THAT POSITION FROM ALL ITERABLES <br/>\n",
    "\n",
    "**NOTE** `zip(list_1, list_2, ... , list_n)` this build in function can accept a lot of list or iterables as arguments. The zip build in function will merge intuples but only untill the size of the list are coincident\n",
    "\n",
    "```\n",
    "list1 = [A, B,  C,  D,  E,  F]\n",
    "list2 = [1, 2,  4,  4]\n",
    "\n",
    "list(zip(list1, list2))\n",
    "[(A, 1), (B, 2), (C, 4), (D,4)]\n",
    "```\n",
    "         "
   ]
  },
  {
   "cell_type": "code",
   "execution_count": 3,
   "id": "f19b16d5",
   "metadata": {},
   "outputs": [
    {
     "name": "stdout",
     "output_type": "stream",
     "text": [
      "[('A', 1), ('B', 2), ('C', 3), ('D', 4), ('E', 4)]\n"
     ]
    }
   ],
   "source": [
    "list_1 = ['A','B','C','D','E','F']\n",
    "list_2 = [1,2,3,4,4]\n",
    "\n",
    "print(list(zip(list_1, list_2)))\n"
   ]
  },
  {
   "cell_type": "markdown",
   "id": "036d8c10",
   "metadata": {},
   "source": [
    "<h3>Using ZIP in LOOPS</h3>"
   ]
  },
  {
   "cell_type": "code",
   "execution_count": 4,
   "id": "5e105480",
   "metadata": {},
   "outputs": [
    {
     "name": "stdout",
     "output_type": "stream",
     "text": [
      "item: bananas, weight: 15\n",
      "item: mattresses, weight: 34\n",
      "item: dog kennels, weight: 42\n",
      "item: machine, weight: 120\n",
      "item: chesses, weight: 5\n"
     ]
    }
   ],
   "source": [
    "items = ['bananas','mattresses','dog kennels','machine','chesses']\n",
    "weights = [15, 34, 42, 120, 5]\n",
    "\n",
    "for item, weight in zip(items, weights):\n",
    "    print(f\"item: {item}, weight: {weight}\")"
   ]
  },
  {
   "cell_type": "markdown",
   "id": "89f7753c",
   "metadata": {},
   "source": [
    "<h2>Enumerate</h2>\n",
    "\n",
    "Is a built in function that returns an iterator of tuples containing indices and values of a list. You'll often use this when want the index along with each element of iterable in a loop\n"
   ]
  },
  {
   "cell_type": "code",
   "execution_count": 7,
   "id": "0a8f9fa5",
   "metadata": {},
   "outputs": [
    {
     "name": "stdout",
     "output_type": "stream",
     "text": [
      "0 a\n",
      "1 b\n",
      "2 c\n",
      "3 d\n",
      "4 e\n"
     ]
    }
   ],
   "source": [
    "letters = ['a', 'b', 'c', 'd', 'e']\n",
    "for i, letter in enumerate(letters):\n",
    "    print(i, letter)"
   ]
  },
  {
   "cell_type": "markdown",
   "id": "b49f59d4",
   "metadata": {},
   "source": [
    "<h2> Quiz </h2>\n",
    "\n",
    "<h3> Quiz 01 </h3>\n",
    "Use `zip` to write a `for` loop that creates a string specifying the label and coordinates of each point and appends it to the list `points`. Each string should be formatted as `label: x, y, z` for example, the string for the first coordinate should be `F: 23, 677, 4`"
   ]
  },
  {
   "cell_type": "code",
   "execution_count": 8,
   "id": "54348add",
   "metadata": {},
   "outputs": [
    {
     "name": "stdout",
     "output_type": "stream",
     "text": [
      "F: 23, 677, 4\n",
      "J: 53, 233, 16\n",
      "A: 2, 405, -6\n",
      "Q: -12, 433, -42\n",
      "Y: 95, 905, 3\n",
      "B: 103, 376, -6\n",
      "W: 14, 432, 23\n",
      "X: -5, 445, -1\n"
     ]
    }
   ],
   "source": [
    "x_coord = [23, 53, 2, -12, 95, 103, 14, -5]\n",
    "y_coord = [677, 233, 405, 433, 905, 376, 432, 445]\n",
    "z_coord = [4, 16, -6, -42, 3, -6, 23, -1]\n",
    "labels = [\"F\", \"J\", \"A\", \"Q\", \"Y\", \"B\", \"W\", \"X\"]\n",
    "\n",
    "\n",
    "\n",
    "points = []\n",
    "for point in zip(labels, x_coord, y_coord, z_coord):\n",
    "    points.append(\"{}: {}, {}, {}\".format(*point))\n",
    "\n",
    "for point in points:\n",
    "    print(point)"
   ]
  },
  {
   "cell_type": "markdown",
   "id": "b80d8c9b",
   "metadata": {},
   "source": [
    "<h3>Quiz 02</h3>\n",
    "\n",
    "Use `zip` to create a dictionary `cast` that uses `names` as keys and `heights` as values"
   ]
  },
  {
   "cell_type": "code",
   "execution_count": 11,
   "id": "fcd3d01a",
   "metadata": {
    "scrolled": true
   },
   "outputs": [
    {
     "name": "stdout",
     "output_type": "stream",
     "text": [
      "{'Barney': 72, 'Robin': 68, 'Ted': 72, 'Lily': 66, 'Marshall': 76}\n"
     ]
    }
   ],
   "source": [
    "cast_names = [\"Barney\", \"Robin\", \"Ted\", \"Lily\", \"Marshall\"]\n",
    "cast_heights = [72, 68, 72, 66, 76]\n",
    "\n",
    "cast = dict(zip(cast_names, cast_heights))\n",
    "print(cast)"
   ]
  },
  {
   "cell_type": "markdown",
   "id": "5a432b53",
   "metadata": {},
   "source": [
    "<h3> Quiz 03</h3>\n",
    "\n",
    "Unzip the `cast` tuple into two `names` and `heights` tuple"
   ]
  },
  {
   "cell_type": "code",
   "execution_count": 13,
   "id": "fd40802a",
   "metadata": {},
   "outputs": [
    {
     "name": "stdout",
     "output_type": "stream",
     "text": [
      "('Barney', 'Robin', 'Ted', 'Lily', 'Marshall')\n",
      "(72, 68, 72, 66, 76)\n"
     ]
    }
   ],
   "source": [
    "cast = ((\"Barney\", 72), (\"Robin\", 68), (\"Ted\", 72), (\"Lily\", 66), (\"Marshall\", 76))\n",
    "\n",
    "# define names and heights here\n",
    "names, heights = zip(*cast)\n",
    "\n",
    "print(names)\n",
    "print(heights)"
   ]
  },
  {
   "cell_type": "markdown",
   "id": "0c3773d1",
   "metadata": {},
   "source": [
    "<h3> Quiz 04</h3>\n",
    "\n",
    "Use `zip` to transpose `data` froma 4-by-3 matrxi to a 3-by-4 matrix. There's actually a cool trick for this"
   ]
  },
  {
   "cell_type": "code",
   "execution_count": 22,
   "id": "42b1169c",
   "metadata": {},
   "outputs": [
    {
     "name": "stdout",
     "output_type": "stream",
     "text": [
      "(0, 1, 2)\n",
      "(3, 4, 5)\n",
      "(6, 7, 8)\n",
      "(9, 10, 11)\n",
      "(0, 3, 6, 9)\n",
      "(1, 4, 7, 10)\n",
      "(2, 5, 8, 11)\n"
     ]
    }
   ],
   "source": [
    "data = ((0, 1, 2), (3, 4, 5), (6, 7, 8), (9, 10, 11))\n",
    "\n",
    "for row in data:\n",
    "    print(row)\n",
    "    \n",
    "data_transpose = tuple(zip(data[0],data[1],data[2],data[3]))\n",
    "for row in data_transpose:\n",
    "    print(row)\n",
    "\n"
   ]
  },
  {
   "cell_type": "code",
   "execution_count": 23,
   "id": "6f5da0ce",
   "metadata": {},
   "outputs": [
    {
     "name": "stdout",
     "output_type": "stream",
     "text": [
      "((0, 3, 6, 9), (1, 4, 7, 10), (2, 5, 8, 11))\n"
     ]
    }
   ],
   "source": [
    "data = ((0, 1, 2), (3, 4, 5), (6, 7, 8), (9, 10, 11))\n",
    "\n",
    "data_transpose = tuple(zip(*data))\n",
    "print(data_transpose)"
   ]
  },
  {
   "cell_type": "markdown",
   "id": "2ee25df8",
   "metadata": {},
   "source": [
    "<h3>Quiz 05 - Enumerate</h3>\n",
    "\n",
    "\n",
    "Use `enumerate` to modify the `cast` lsit so that each element contains the name followed by the character's corresponding height. For example, the first element of `cast` should change from `\"Barney Stinson\"` to `\"Barney Stinson 72\"`"
   ]
  },
  {
   "cell_type": "code",
   "execution_count": 24,
   "id": "143c47fb",
   "metadata": {},
   "outputs": [],
   "source": [
    "cast = [\"Barney Stinson\", \"Robin Scherbatsky\", \"Ted Mosby\", \"Lily Aldrin\", \"Marshall Eriksen\"]\n",
    "heights = [72, 68, 72, 66, 76]"
   ]
  },
  {
   "cell_type": "code",
   "execution_count": 26,
   "id": "b68a0240",
   "metadata": {},
   "outputs": [],
   "source": [
    "for index, name in enumerate(cast):\n",
    "    cast[index] = f\"{name} {heights[index]}\""
   ]
  },
  {
   "cell_type": "code",
   "execution_count": 27,
   "id": "4abb5810",
   "metadata": {},
   "outputs": [
    {
     "name": "stdout",
     "output_type": "stream",
     "text": [
      "['Barney Stinson 72', 'Robin Scherbatsky 68', 'Ted Mosby 72', 'Lily Aldrin 66', 'Marshall Eriksen 76']\n"
     ]
    }
   ],
   "source": [
    "print(cast)"
   ]
  },
  {
   "cell_type": "code",
   "execution_count": null,
   "id": "953bcb73",
   "metadata": {},
   "outputs": [],
   "source": []
  }
 ],
 "metadata": {
  "kernelspec": {
   "display_name": "Python 3 (ipykernel)",
   "language": "python",
   "name": "python3"
  },
  "language_info": {
   "codemirror_mode": {
    "name": "ipython",
    "version": 3
   },
   "file_extension": ".py",
   "mimetype": "text/x-python",
   "name": "python",
   "nbconvert_exporter": "python",
   "pygments_lexer": "ipython3",
   "version": "3.11.5"
  }
 },
 "nbformat": 4,
 "nbformat_minor": 5
}
