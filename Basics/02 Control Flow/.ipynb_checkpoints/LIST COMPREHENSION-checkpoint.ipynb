{
 "cells": [
  {
   "cell_type": "markdown",
   "id": "6a3beefc",
   "metadata": {},
   "source": [
    "<h1> List Comprehensions</h1>\n",
    "\n",
    "In Python, you can create lists really quickly and concisely with list comprehensions. Consider the next cells\n"
   ]
  },
  {
   "cell_type": "code",
   "execution_count": 1,
   "id": "9ef0b84a",
   "metadata": {},
   "outputs": [],
   "source": [
    "cities = [\"new yor city\", \"mountain view\", \"chicago\", \"los angeles\"]\n"
   ]
  },
  {
   "cell_type": "markdown",
   "id": "4725c6f2",
   "metadata": {},
   "source": [
    "Imagine that you want to make all the cities name to capitalize, the first approach is to use a foor loop as it is shwon in the next cells"
   ]
  },
  {
   "cell_type": "code",
   "execution_count": 3,
   "id": "3c4719dd",
   "metadata": {},
   "outputs": [
    {
     "name": "stdout",
     "output_type": "stream",
     "text": [
      "['New Yor City', 'Mountain View', 'Chicago', 'Los Angeles']\n"
     ]
    }
   ],
   "source": [
    "capitalized_cities = [] \n",
    "\n",
    "for city in cities:\n",
    "    capitalized_cities.append(city.title())\n",
    "    \n",
    "print(capitalized_cities)"
   ]
  },
  {
   "cell_type": "markdown",
   "id": "aa0546f5",
   "metadata": {},
   "source": [
    "The previous cell can be reduced to:"
   ]
  },
  {
   "cell_type": "code",
   "execution_count": 5,
   "id": "684c9cc0",
   "metadata": {},
   "outputs": [
    {
     "name": "stdout",
     "output_type": "stream",
     "text": [
      "['New Yor City', 'Mountain View', 'Chicago', 'Los Angeles']\n"
     ]
    }
   ],
   "source": [
    "capitalized_cities = [] \n",
    "\n",
    "capitalized_cities = [city.title() for city in cities]\n",
    "print(capitalized_cities)"
   ]
  },
  {
   "cell_type": "markdown",
   "id": "a64e3330",
   "metadata": {},
   "source": [
    "List comprehensions allow us to create list using a `for` loop in one step. </br></br>\n",
    "You create a list comprehension with brackets `[]`, including an expression to evaluate for each element in an iterable. This comprehension above calls `city.title()` for each element in `city` in `cities`, to create each element in the new list, `capitalized_cities`.</br></br>\n"
   ]
  },
  {
   "cell_type": "code",
   "execution_count": null,
   "id": "4b9b847a",
   "metadata": {},
   "outputs": [],
   "source": []
  }
 ],
 "metadata": {
  "kernelspec": {
   "display_name": "Python 3 (ipykernel)",
   "language": "python",
   "name": "python3"
  },
  "language_info": {
   "codemirror_mode": {
    "name": "ipython",
    "version": 3
   },
   "file_extension": ".py",
   "mimetype": "text/x-python",
   "name": "python",
   "nbconvert_exporter": "python",
   "pygments_lexer": "ipython3",
   "version": "3.11.5"
  }
 },
 "nbformat": 4,
 "nbformat_minor": 5
}
