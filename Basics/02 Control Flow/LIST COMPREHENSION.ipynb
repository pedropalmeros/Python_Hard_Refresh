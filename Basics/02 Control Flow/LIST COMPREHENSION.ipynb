{
 "cells": [
  {
   "cell_type": "markdown",
   "id": "81f9a32d",
   "metadata": {},
   "source": [
    "<h1> List Comprehensions</h1>\n",
    "\n",
    "<h2>Introduction</h2>\n",
    "\n",
    "In Python, you can create lists really quickly and concisely with list comprehensions. Consider the next cells\n"
   ]
  },
  {
   "cell_type": "code",
   "execution_count": 6,
   "id": "d9beecb7",
   "metadata": {},
   "outputs": [],
   "source": [
    "cities = [\"new yor city\", \"mountain view\", \"chicago\", \"los angeles\"]\n"
   ]
  },
  {
   "cell_type": "markdown",
   "id": "e53d76ad",
   "metadata": {},
   "source": [
    "Imagine that you want to make all the cities name to capitalize, the first approach is to use a foor loop as it is shwon in the next cells"
   ]
  },
  {
   "cell_type": "code",
   "execution_count": 7,
   "id": "abb018dc",
   "metadata": {},
   "outputs": [
    {
     "name": "stdout",
     "output_type": "stream",
     "text": [
      "['New Yor City', 'Mountain View', 'Chicago', 'Los Angeles']\n"
     ]
    }
   ],
   "source": [
    "capitalized_cities = [] \n",
    "\n",
    "for city in cities:\n",
    "    capitalized_cities.append(city.title())\n",
    "    \n",
    "print(capitalized_cities)"
   ]
  },
  {
   "cell_type": "markdown",
   "id": "31b9d9e0",
   "metadata": {},
   "source": [
    "The previous cell can be reduced to:"
   ]
  },
  {
   "cell_type": "code",
   "execution_count": 8,
   "id": "9df89bb8",
   "metadata": {},
   "outputs": [
    {
     "name": "stdout",
     "output_type": "stream",
     "text": [
      "['New Yor City', 'Mountain View', 'Chicago', 'Los Angeles']\n"
     ]
    }
   ],
   "source": [
    "capitalized_cities = [] \n",
    "\n",
    "capitalized_cities = [city.title() for city in cities]\n",
    "print(capitalized_cities)"
   ]
  },
  {
   "cell_type": "markdown",
   "id": "e55495bb",
   "metadata": {},
   "source": [
    "List comprehensions allow us to create list using a `for` loop in one step. </br></br>\n",
    "You create a list comprehension with brackets `[]`, including an expression to evaluate for each element in an iterable. This comprehension above calls `city.title()` for each element in `city` in `cities`, to create each element in the new list, `capitalized_cities`.</br></br>\n",
    "\n",
    "<h2>Conditionals in List Comprehensions</h2>\n",
    "\n",
    "You can also add conditionals to list comprehensions (listcomps). After the iterable, you can use the `if` keyword to check a condition in each iteration\n"
   ]
  },
  {
   "cell_type": "code",
   "execution_count": 10,
   "id": "04e00ab2",
   "metadata": {},
   "outputs": [
    {
     "name": "stdout",
     "output_type": "stream",
     "text": [
      "[0, 4, 16, 36, 64]\n"
     ]
    }
   ],
   "source": [
    "squares = [x**2 for x in range(9) if x % 2 == 0]\n",
    "print(squares)"
   ]
  },
  {
   "cell_type": "markdown",
   "id": "c3f0ab75",
   "metadata": {},
   "source": [
    "The code above sets `squares` equal to the list `[0, 4, 16, 36, 64]`, as `x` to the power of 2 is only evaluated if `x` is even. If you want to add an `else`, you sill get a syntax error doing this\n",
    "\n",
    "```\n",
    "squares = [x**2 for x in range(9) if x % 2 == 0 else x + 3]\n",
    "```\n",
    "\n",
    "if you would like to add `else`, you have to move the conditionals to the beginning of the listcomp, right after the expression like this\n"
   ]
  },
  {
   "cell_type": "code",
   "execution_count": 11,
   "id": "fe0104d8",
   "metadata": {},
   "outputs": [
    {
     "name": "stdout",
     "output_type": "stream",
     "text": [
      "[0, 4, 4, 6, 16, 8, 36, 10, 64]\n"
     ]
    }
   ],
   "source": [
    "squares = [x**2 if x%2 == 0 else x + 3 for x in range(9)]\n",
    "print(squares)"
   ]
  },
  {
   "cell_type": "markdown",
   "id": "6821c8c7",
   "metadata": {},
   "source": [
    "<h2>Quizz Section</h2>\n",
    "    \n",
    "<h3>Quiz - List Comprehensions</h3>\n",
    "\n",
    "Use list comprehensions to create a new list `first_names` containing just the first names in `names` in lowercase"
   ]
  },
  {
   "cell_type": "code",
   "execution_count": 21,
   "id": "ef37da0b",
   "metadata": {},
   "outputs": [
    {
     "name": "stdout",
     "output_type": "stream",
     "text": [
      "['rick', 'morty', 'summer', 'jerry', 'beth']\n"
     ]
    }
   ],
   "source": [
    "names = [\"Rick Sanchez\", \"Morty Smith\", \"Summer Smith\", \"Jerry Smith\", \"Beth Smith\"]\n",
    "\n",
    "first_names = [name.split()[0].lower() for name in names]\n",
    "\n",
    "print(first_names)\n",
    "    \n",
    "\n"
   ]
  },
  {
   "cell_type": "markdown",
   "id": "d664f3f0",
   "metadata": {},
   "source": [
    "<h3>Quiz - Multiples of Three</h3>\n",
    "\n",
    "Use a list comprehension to create a list `multiples_3` containing the first 20 multiples of 3"
   ]
  },
  {
   "cell_type": "code",
   "execution_count": 24,
   "id": "bdd4cab8",
   "metadata": {},
   "outputs": [
    {
     "name": "stdout",
     "output_type": "stream",
     "text": [
      "[3, 6, 9, 12, 15, 18, 21, 24, 27, 30, 33, 36, 39, 42, 45, 48, 51, 54, 57, 60]\n"
     ]
    }
   ],
   "source": [
    "multiples_3 = [x*3 for x in range(1,21)]\n",
    "print(multiples_3)"
   ]
  },
  {
   "cell_type": "markdown",
   "id": "5900ba18",
   "metadata": {},
   "source": [
    "<h3>Quiz - Names by Scores</h3>\n",
    "\n",
    "Use a list comprehension to create a lsit of names `passed` that only include those scored at least 65\n"
   ]
  },
  {
   "cell_type": "code",
   "execution_count": 30,
   "id": "e1fd608b",
   "metadata": {},
   "outputs": [
    {
     "name": "stdout",
     "output_type": "stream",
     "text": [
      "Rick Sanchez, 70\n",
      "Morty Smith, 35\n",
      "Summer Smith, 82\n",
      "Jerry Smith, 23\n",
      "Beth Smith, 98\n",
      "['Rick Sanchez', 'Summer Smith', 'Beth Smith']\n"
     ]
    }
   ],
   "source": [
    "scores = {\n",
    "             \"Rick Sanchez\": 70,\n",
    "             \"Morty Smith\": 35,\n",
    "             \"Summer Smith\": 82,\n",
    "             \"Jerry Smith\": 23,\n",
    "             \"Beth Smith\": 98\n",
    "          }\n",
    "for key, value in scores.items():\n",
    "    print(f\"{key}, {value}\")\n",
    "\n",
    "passed = [name for name,score in scores.items() if score >= 65]\n",
    "print(passed)\n"
   ]
  },
  {
   "cell_type": "code",
   "execution_count": null,
   "id": "34b1e388",
   "metadata": {},
   "outputs": [],
   "source": []
  }
 ],
 "metadata": {
  "kernelspec": {
   "display_name": "Python 3 (ipykernel)",
   "language": "python",
   "name": "python3"
  },
  "language_info": {
   "codemirror_mode": {
    "name": "ipython",
    "version": 3
   },
   "file_extension": ".py",
   "mimetype": "text/x-python",
   "name": "python",
   "nbconvert_exporter": "python",
   "pygments_lexer": "ipython3",
   "version": "3.11.5"
  }
 },
 "nbformat": 4,
 "nbformat_minor": 5
}
