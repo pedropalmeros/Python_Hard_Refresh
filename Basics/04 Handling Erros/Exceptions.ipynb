{
 "cells": [
  {
   "cell_type": "markdown",
   "id": "7b8addd4",
   "metadata": {},
   "source": [
    "<h1> Erros and Exceptions </h1>\n",
    "\n",
    "<h2>1. Introduction </h2></hr>\n",
    "\n",
    "- **Syntax errors** occur when Python can't interpret our code, since we didn't follow the correct syntax for Python. These are errors you're likely to get when you make a type, or you're first starting to learn Python.</br>\n",
    "- **Exceptions** occur when unexpected things happen during execution of a program, even if the code is syntactically correct. There are different types of built-in exceptions in Python, and you can see which exception is throuwn in the error message"
   ]
  },
  {
   "cell_type": "markdown",
   "id": "43829326",
   "metadata": {},
   "source": [
    "<h2>2. Buit-in Exception</h2>\n",
    "\n",
    "- **ValueError** An object of the correct type but inappropriate value is passed as input to a built-in operation or function </br>\n",
    "- **AssertionError** An assert statement fails<br>\n",
    "- **IndexError** A sequence subscript is out of range. \n",
    "- **KeyError** A key can't be found in a dictionary\n",
    "- **TypeError** An object of an unsupported type is passed as input to an operation or function "
   ]
  },
  {
   "cell_type": "markdown",
   "id": "778a991e",
   "metadata": {},
   "source": [
    "<h3>3. Handling Errors</h3>\n",
    "\n",
    "We can use `try` statements to handle exceptions. There are four clauses you can use</br>\n",
    "- `try`: this is only mandatory clause in a `try` statement. The code in this block the first thing that Python runs in a `try` statement. </br>\n",
    "- `except` if Python runs into an exception while running the `try` block, it will jump to the `except` block that handles that exception.</br>\n",
    "- `else` If Python runs into no exceptions while running the `try` block, it will run in this block after running the `try` block.</br>\n",
    "- `finally` Before Python leaves this `try` statement, it will run the code in this `finally` block under any conditions, even if it's ending the program. E.g., if Python ran into an error while running code in the `except` or `else` block, this `finally` block will still be executed before stopping the program \n"
   ]
  },
  {
   "cell_type": "code",
   "execution_count": 2,
   "id": "e8c48c8e",
   "metadata": {},
   "outputs": [
    {
     "name": "stdout",
     "output_type": "stream",
     "text": [
      "Enter a number: i\n",
      "That's not a valid number!\n",
      "\n",
      "Attempted Input\n",
      "\n",
      "Enter a number: 5\n",
      "\n",
      "Attempted Input\n",
      "\n"
     ]
    }
   ],
   "source": [
    "while True:\n",
    "    try:\n",
    "        x = int(input('Enter a number: '))\n",
    "        break\n",
    "    except:\n",
    "        print('That\\'s not a valid number!')\n",
    "    finally:\n",
    "        print('\\nAttempted Input\\n')"
   ]
  },
  {
   "cell_type": "code",
   "execution_count": 4,
   "id": "6a88b07b",
   "metadata": {},
   "outputs": [
    {
     "name": "stdout",
     "output_type": "stream",
     "text": [
      "Enter a number: o\n",
      "That's not a valid number!\n",
      "\n",
      "Attempted Input\n",
      "\n",
      "Enter a number: t\n",
      "That's not a valid number!\n",
      "\n",
      "Attempted Input\n",
      "\n",
      "Enter a number: r\n",
      "That's not a valid number!\n",
      "\n",
      "Attempted Input\n",
      "\n",
      "Enter a number: 6\n",
      "\n",
      "Attempted Input\n",
      "\n"
     ]
    }
   ],
   "source": [
    "while True:\n",
    "    try:\n",
    "        x = int(input('Enter a number: '))\n",
    "        break\n",
    "    except ValueError:\n",
    "        print('That\\'s not a valid number!')\n",
    "    finally:\n",
    "        print('\\nAttempted Input\\n')"
   ]
  },
  {
   "cell_type": "code",
   "execution_count": 7,
   "id": "fb7a618b",
   "metadata": {},
   "outputs": [
    {
     "name": "stdout",
     "output_type": "stream",
     "text": [
      "\n",
      "No input taken\n",
      "\n",
      "Attempted Input\n",
      "\n"
     ]
    }
   ],
   "source": [
    "while True:\n",
    "    try:\n",
    "        x = int(input('Enter a number: '))\n",
    "        break\n",
    "    except ValueError:\n",
    "        print('That\\'s not a valid number!')\n",
    "    except KeyboardInterrupt:\n",
    "        print('\\nNo input taken')\n",
    "        break\n",
    "    finally:\n",
    "        print('\\nAttempted Input\\n')"
   ]
  },
  {
   "cell_type": "markdown",
   "id": "a81aae86",
   "metadata": {},
   "source": [
    "<h3> 4. Practice -  Handling Input Errors </h3>\n",
    "\n",
    "The `party_planner` function below takes as input a number of party people and cookies and figures out how many cookies each person gets at the party, assuming equitable distribution of cookies. Then, it returns that number along with how many cookies will be left over.</br>\n",
    "\n",
    "Right now, calling the function with an input of 0 people will cause an error, because it creates a ZeroDivisionError exception. Edit the `party_planner` function to handle this invalid input. If it runs into this exception, it should print a warning message to the user and request they input a different number of people.</br>\n",
    "\n",
    "After you've edited the function, try running the file again and make sure it does what you intended. Try it whith several different input values, including 0 and other values for the number o people.\n",
    "\n"
   ]
  },
  {
   "cell_type": "code",
   "execution_count": 11,
   "id": "e4bc92ad",
   "metadata": {},
   "outputs": [
    {
     "name": "stdout",
     "output_type": "stream",
     "text": [
      "How many cookies are you baking? 50\n",
      "How many people are attending? 0\n",
      "Error, people must be different than zero\n",
      "\n",
      "Would you like to party more? (y or n) n\n"
     ]
    }
   ],
   "source": [
    "def party_planner(cookies, people):\n",
    "    leftovers = None\n",
    "    num_each = None\n",
    "    # TODO: Add a try-except block here to\n",
    "    #       make sure no ZeroDivisionError occurs.\n",
    "    try:\n",
    "        num_each = cookies // people\n",
    "        leftovers = cookies % people\n",
    "        return(num_each, leftovers)\n",
    "    except ZeroDivisionError:\n",
    "        print(\"Error, people must be different than zero\");\n",
    "        return(None, None)\n",
    "   \n",
    "\n",
    "# The main code block is below; do not edit this\n",
    "lets_party = 'y'\n",
    "while lets_party == 'y':\n",
    "\n",
    "    cookies = int(input(\"How many cookies are you baking? \"))\n",
    "    people = int(input(\"How many people are attending? \"))\n",
    "\n",
    "    cookies_each, leftovers = party_planner(cookies, people)\n",
    "\n",
    "    if cookies_each:  # if cookies_each is not None\n",
    "        message = \"\\nLet's party! We'll have {} people attending, they'll each get to eat {} cookies, and we'll have {} left over.\"\n",
    "        print(message.format(people, cookies_each, leftovers))\n",
    "\n",
    "    lets_party = input(\"\\nWould you like to party more? (y or n) \")"
   ]
  },
  {
   "cell_type": "markdown",
   "id": "c3cf82fd",
   "metadata": {},
   "source": [
    "<h2> 5. Accessing Error Messages</h2>\n",
    "\n",
    "When you handle an exception, you can still access its error message like this\n",
    "\n",
    "```\n",
    "try: \n",
    "    # some code\n",
    "except ZeroDivisionError as e:\n",
    "    print(\"ZeroDivisionError ocurred: {}\".format(e))\n",
    "```\n",
    "This woiuld print something like this\n",
    "\n",
    "`ZeroDivisionError ocurred: integer division or modulo by zero`\n",
    "\n",
    "So you can still access error messages, even if you handle them to keep your program from crashing!</br>\n",
    "\n",
    "If you don't have a specific error you're handling, you can still access the message like this\n",
    "\n",
    "```\n",
    "try:\n",
    "    # some code\n",
    "except Exception as e:\n",
    "    # some code\n",
    "    print(\"Exception ocurred: {}\".format(e))\n",
    "```\n",
    "\n",
    "`Exception` is just the base class for all built-in exceptions."
   ]
  },
  {
   "cell_type": "code",
   "execution_count": null,
   "id": "1dce31b2",
   "metadata": {},
   "outputs": [],
   "source": []
  }
 ],
 "metadata": {
  "kernelspec": {
   "display_name": "Python 3 (ipykernel)",
   "language": "python",
   "name": "python3"
  },
  "language_info": {
   "codemirror_mode": {
    "name": "ipython",
    "version": 3
   },
   "file_extension": ".py",
   "mimetype": "text/x-python",
   "name": "python",
   "nbconvert_exporter": "python",
   "pygments_lexer": "ipython3",
   "version": "3.11.5"
  }
 },
 "nbformat": 4,
 "nbformat_minor": 5
}
