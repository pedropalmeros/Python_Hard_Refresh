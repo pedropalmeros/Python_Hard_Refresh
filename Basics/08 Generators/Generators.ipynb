{
 "cells": [
  {
   "cell_type": "markdown",
   "id": "46de1445",
   "metadata": {},
   "source": [
    "# Iterables\n",
    "\n",
    "## 1. Introduction\n",
    "\n",
    "**Iterables** are objects that can return one of its elements at a time. *Lists* is one of the most common iterables you have used. \n",
    "\n",
    "**Iterator** an object that represents a stream of data\n",
    "\n",
    "Iterator is different than a list, because list is an Iterable but not an Iterator, since it is not a stream of data\n",
    "\n",
    "A **Generator** is used to create **Iterator**\n",
    "\n",
    "**Generator** is a simple way to create iterators using functions, however, it's not the only way to create iterators"
   ]
  },
  {
   "cell_type": "code",
   "execution_count": 1,
   "id": "682b268e",
   "metadata": {},
   "outputs": [],
   "source": [
    "def my_range(x):\n",
    "    i = 0\n",
    "    while i < x: \n",
    "        yield i\n",
    "        i += 1"
   ]
  },
  {
   "cell_type": "markdown",
   "id": "51fb99bc",
   "metadata": {},
   "source": [
    "In the previous cell, is generator function called `my_range` that produces a stream of numbers from `0` to `x-1`. Notice that instead of using the `return` keyword, this uses `yield`\n",
    "\n",
    "`yield` allows the function to return values one at a time and start where it left off each time it's called.\n",
    "\n",
    "This `yield` keyword is what differentiates a generator from a typical function.\n",
    "\n",
    "In the next cell is a `for` loop that is showing how to use `my_range` observe that is like the `range()` built-in function"
   ]
  },
  {
   "cell_type": "code",
   "execution_count": null,
   "id": "b2289486",
   "metadata": {},
   "outputs": [],
   "source": [
    "for n in my_range(4):\n",
    "    print(n)"
   ]
  },
  {
   "cell_type": "markdown",
   "id": "069a823b",
   "metadata": {},
   "source": [
    "# 2. Quiz - Iterators and Generators\n",
    "\n",
    "## 2.1 Quiz - Implement `my_enumerate`\n",
    "\n",
    "Write you own generator function that works like the built-in function `enumerate`\n",
    "\n",
    "Calling the function like this:\n",
    "\n",
    "```\n",
    "lessons = [\"Why Python Programming\", \"Data Types and Operators\", \"Control Flow\", \"Functions\", \"Scripting\"]\n",
    "\n",
    "for i, lesson in my_enumerate(lessons, 1):\n",
    "    print(\"Lesson {}: {}\".format(i, lesson))\n",
    "```\n",
    "the output should be something like:\n",
    "\n",
    "```\n",
    "Lesson 1: Why Python Programming\n",
    "Lesson 2: Data Types and Operators\n",
    "Lesson 3: Control Flow\n",
    "Lesson 4: Functions\n",
    "Lesson 5: Scripting\n",
    "```"
   ]
  },
  {
   "cell_type": "code",
   "execution_count": 2,
   "id": "46a433e4",
   "metadata": {},
   "outputs": [
    {
     "name": "stdout",
     "output_type": "stream",
     "text": [
      "Lesson 1: Why Python Programming\n",
      "Lesson 2: Data Types and Operators\n",
      "Lesson 3: Control Flow\n",
      "Lesson 4: Functions\n",
      "Lesson 5: Scripting\n"
     ]
    }
   ],
   "source": [
    "lessons = [\"Why Python Programming\", \"Data Types and Operators\", \"Control Flow\", \"Functions\", \"Scripting\"]\n",
    "\n",
    "def my_enumerate(iterable, start=0):\n",
    "    # Implement your generator function here\n",
    "    count = start\n",
    "    for item in iterable:\n",
    "        yield count, item\n",
    "        count += 1\n",
    "\n",
    "\n",
    "for i, lesson in my_enumerate(lessons, 1):\n",
    "    print(\"Lesson {}: {}\".format(i, lesson))"
   ]
  },
  {
   "cell_type": "markdown",
   "id": "fa8070da",
   "metadata": {},
   "source": [
    "## 2.2 Quiz - Chunker\n",
    "\n",
    "If you have an iterable that is too large to fit in memoryin full (e.g., when dealing with large files), being able to take and use chunks of it at a time can be very valuable. \n",
    "\n",
    "Implement a generator function `chunker`, that takes in an iterable and yields a chunk of a specified size at a time. \n",
    "\n",
    "Calling the function like this\n",
    "```\n",
    "for chunk in chunker(range(25), 4):\n",
    "    print(list(chunk))\n",
    "```\n",
    "should output\n",
    "\n",
    "```\n",
    "[0, 1, 2, 3]\n",
    "[4, 5, 6, 7]\n",
    "[8, 9, 10, 11]\n",
    "[12, 13, 14, 15]\n",
    "[16, 17, 18, 19]\n",
    "[20, 21, 22, 23]\n",
    "[24]\n",
    "```\n",
    "\n"
   ]
  },
  {
   "cell_type": "code",
   "execution_count": 19,
   "id": "2c2c5a7f",
   "metadata": {},
   "outputs": [
    {
     "name": "stdout",
     "output_type": "stream",
     "text": [
      "[0, 1, 2, 3]\n",
      "[4, 5, 6, 7]\n",
      "[8, 9, 10, 11]\n",
      "[12, 13, 14, 15]\n",
      "[16, 17, 18, 19]\n",
      "[20, 21, 22, 23]\n",
      "[24]\n"
     ]
    }
   ],
   "source": [
    "def chunker(iterable, size):\n",
    "    # Implement function here\n",
    "    init_index = 0\n",
    "    end_index = size\n",
    "    while(init_index < len(iterable)):\n",
    "        yield iterable[init_index:end_index]\n",
    "        init_index = end_index\n",
    "        end_index = end_index + size\n",
    "\n",
    "\n",
    "for chunk in chunker(range(25), 4):\n",
    "    print(list(chunk))"
   ]
  },
  {
   "cell_type": "code",
   "execution_count": 20,
   "id": "4225862a",
   "metadata": {},
   "outputs": [
    {
     "name": "stdout",
     "output_type": "stream",
     "text": [
      "[0, 1, 2, 3]\n",
      "[4, 5, 6, 7]\n",
      "[8, 9, 10, 11]\n",
      "[12, 13, 14, 15]\n",
      "[16, 17, 18, 19]\n",
      "[20, 21, 22, 23]\n",
      "[24]\n"
     ]
    }
   ],
   "source": [
    "def chunker(iterable, size):\n",
    "    # Implement function here\n",
    "    for i in range (0, len(iterable),size):\n",
    "        yield iterable[i:i +size]\n",
    "\n",
    "\n",
    "for chunk in chunker(range(25), 4):\n",
    "    print(list(chunk))"
   ]
  },
  {
   "cell_type": "markdown",
   "id": "63a4f1da",
   "metadata": {},
   "source": [
    "## Generator Expressions\n",
    "Here's a cool concept that combines generators and list comprehensions! you can actually create a generator in the same way you'd normally write a list comprehension, except with parenthesis instead of square brackets\n",
    "\n",
    "```\n",
    "sq_list = [x**2 for x in range(10)]  # this produces a list of squares\n",
    "\n",
    "sq_iterator = (x**2 for x in range(10))  # this produces an iterator of squares\n",
    "```\n",
    "This can help you save time and create efficient code!"
   ]
  },
  {
   "cell_type": "code",
   "execution_count": null,
   "id": "23460fbe",
   "metadata": {},
   "outputs": [],
   "source": []
  }
 ],
 "metadata": {
  "kernelspec": {
   "display_name": "Python 3 (ipykernel)",
   "language": "python",
   "name": "python3"
  },
  "language_info": {
   "codemirror_mode": {
    "name": "ipython",
    "version": 3
   },
   "file_extension": ".py",
   "mimetype": "text/x-python",
   "name": "python",
   "nbconvert_exporter": "python",
   "pygments_lexer": "ipython3",
   "version": "3.11.5"
  }
 },
 "nbformat": 4,
 "nbformat_minor": 5
}
