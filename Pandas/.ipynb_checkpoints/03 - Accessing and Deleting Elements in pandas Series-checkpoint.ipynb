{
 "cells": [
  {
   "cell_type": "markdown",
   "id": "587913de",
   "metadata": {},
   "source": [
    "Now let's look at how we can acess or modify elements in Pandas Series. One great advange on Pndas Series is that i allow us to access data in many different ways. Elements can be accessed using dindex labels or numerical indices inside square brackets, `[]`, similar to how we access elemenets in NumPy ndarrays. Since we can use numerical indices, we can use both positive and gegative integers to access data from the beginning or from the end of the Series, respectively. Since se can access elements in various ways, in order to remove any ambiguity to whether we are referring to an index label or numercial index, Pandas Series have two attributes, `.loc` and `.iloc` to explicity state what we mean. The attribute `.loc` stands for *location* and it is used to explicitly state that we are using a labeled index. Similarly, the attribute `.iloc` stands for *integer location* and it is used to explicitly state that we are using a numercial index. Let's see some examples: \n",
    "\n",
    "#### Example 1. Access elements using index labels"
   ]
  },
  {
   "cell_type": "code",
   "execution_count": 12,
   "id": "18b06048",
   "metadata": {},
   "outputs": [
    {
     "data": {
      "text/plain": [
       "eggs       30\n",
       "apples      6\n",
       "milk      Yes\n",
       "bread      No\n",
       "dtype: object"
      ]
     },
     "execution_count": 12,
     "metadata": {},
     "output_type": "execute_result"
    }
   ],
   "source": [
    "# import Pandas as pd into Python \n",
    "import pandas as pd\n",
    "\n",
    "# create a Pandas Series that stores a crocery list\n",
    "groceries = pd.Series(data=[30,6,'Yes','No'], index=['eggs','apples','milk','bread'])\n",
    "\n",
    "# display the Groceries Pandas Series\n",
    "groceries"
   ]
  },
  {
   "cell_type": "code",
   "execution_count": 4,
   "id": "89495913",
   "metadata": {},
   "outputs": [
    {
     "name": "stdout",
     "output_type": "stream",
     "text": [
      "How many eggs do we need tu buy:  30\n",
      "\n",
      "Do we need milk and bread: \n",
      " milk     Yes\n",
      "bread     No\n",
      "dtype: object\n",
      "\n",
      "How many eggs and apples do we need to buy: \n",
      " eggs      30\n",
      "apples     6\n",
      "dtype: object\n",
      "\n"
     ]
    }
   ],
   "source": [
    "# use a single index label\\\n",
    "print('How many eggs do we need tu buy: ', groceries['eggs'])\n",
    "print()\n",
    "\n",
    "# access multiple index labels\n",
    "print('Do we need milk and bread: \\n',groceries[['milk','bread']])\n",
    "print()\n",
    "\n",
    "print('How many eggs and apples do we need to buy: \\n',groceries[['eggs','apples']])\n",
    "print()"
   ]
  },
  {
   "cell_type": "code",
   "execution_count": 5,
   "id": "970fbe42",
   "metadata": {},
   "outputs": [
    {
     "name": "stdout",
     "output_type": "stream",
     "text": [
      "How many eggs and apples do we need to buy: \n",
      " eggs      30\n",
      "apples     6\n",
      "dtype: object\n",
      "\n",
      "Do we need bread: \n",
      " bread    No\n",
      "dtype: object\n",
      "\n",
      "How many eggs do we need to buy:  30\n",
      "\n",
      "Do we need milk and bread: \n",
      " milk     Yes\n",
      "bread     No\n",
      "dtype: object\n"
     ]
    }
   ],
   "source": [
    "# ACCESS ELEMENTS IN GROCERIES USING NUMERICAL INDICES\n",
    "\n",
    "# use multiple numerical indices\n",
    "print('How many eggs and apples do we need to buy: \\n', groceries[[0,1]])\n",
    "print()\n",
    "\n",
    "# use a negative numerical index\n",
    "print('Do we need bread: \\n', groceries[[-1]])\n",
    "print()\n",
    "\n",
    "# use a single numercial index\n",
    "print('How many eggs do we need to buy: ', groceries[0])\n",
    "print()\n",
    "\n",
    "#use iloc to access multiple numercial indices\n",
    "print('Do we need milk and bread: \\n', groceries.iloc[[2,3]])"
   ]
  },
  {
   "cell_type": "markdown",
   "id": "65bbe743",
   "metadata": {},
   "source": [
    "Pandas Series are also mutabl like NumPy ndarays, which means we can chanage the elements of a Pandas Series after it has been created. For example, let's change the number of eggs we need to buy from our grocery list\n",
    "\n",
    "#### Example 2. Mutate elements using index labels\n"
   ]
  },
  {
   "cell_type": "code",
   "execution_count": 6,
   "id": "b9fdc633",
   "metadata": {},
   "outputs": [
    {
     "name": "stdout",
     "output_type": "stream",
     "text": [
      "Original Grocery List: \n",
      " eggs       30\n",
      "apples      6\n",
      "milk      Yes\n",
      "bread      No\n",
      "dtype: object\n",
      "\n",
      "Modified Grocery List: \n",
      " eggs        2\n",
      "apples      6\n",
      "milk      Yes\n",
      "bread      No\n",
      "dtype: object\n"
     ]
    }
   ],
   "source": [
    "# display the original grocery list\n",
    "print('Original Grocery List: \\n', groceries)\n",
    "\n",
    "# change the number of eggs to 2\n",
    "groceries['eggs'] = 2\n",
    "\n",
    "# display the changed grocery list\n",
    "print()\n",
    "print('Modified Grocery List: \\n', groceries)"
   ]
  },
  {
   "cell_type": "markdown",
   "id": "899fea05",
   "metadata": {},
   "source": [
    "We can also delete items from a Pandas Series by using the `.drop()` method. The `Series.drop(label)` method removes the given `label` from the `Series`. We should note that the `Series.drop(label)` method drops elements from the Series out-of-place, meaning that it doesn't change the origial Series being modified. Let's see how this works: \n",
    "\n",
    "#### Example 3. Delete elements out-of-place using `drop()`"
   ]
  },
  {
   "cell_type": "code",
   "execution_count": 13,
   "id": "97df8623",
   "metadata": {},
   "outputs": [
    {
     "name": "stdout",
     "output_type": "stream",
     "text": [
      "Original Grocery List: \n",
      " eggs       30\n",
      "apples      6\n",
      "milk      Yes\n",
      "bread      No\n",
      "dtype: object\n",
      "\n",
      "Grocery List after removing apples in place: \n",
      " eggs      30\n",
      "milk     Yes\n",
      "bread     No\n",
      "dtype: object\n"
     ]
    }
   ],
   "source": [
    "# display te origial grocery list\n",
    "\n",
    "# create a Pandas Series that stores a crocery list\n",
    "groceries = pd.Series(data=[30,6,'Yes','No'], index=['eggs','apples','milk','bread'])\n",
    "\n",
    "# display the Groceries Pandas Series\n",
    "print('Original Grocery List: \\n', groceries)\n",
    "\n",
    "groceries_02 = groceries\n",
    "\n",
    "# remove apples from our grocefy list in place byu setting the inplace keyword to True\n",
    "groceries_02= groceries.drop('apples',inplace=False)\n",
    "\n",
    "# when we remove elements in place the original Series its modified. To see this we display\n",
    "# our grocery list again\n",
    "print()\n",
    "print('Grocery List after removing apples in place: \\n', groceries)"
   ]
  },
  {
   "cell_type": "code",
   "execution_count": null,
   "id": "9ce465f0",
   "metadata": {},
   "outputs": [],
   "source": []
  },
  {
   "cell_type": "code",
   "execution_count": null,
   "id": "436c2426",
   "metadata": {},
   "outputs": [],
   "source": []
  }
 ],
 "metadata": {
  "kernelspec": {
   "display_name": "Python 3 (ipykernel)",
   "language": "python",
   "name": "python3"
  },
  "language_info": {
   "codemirror_mode": {
    "name": "ipython",
    "version": 3
   },
   "file_extension": ".py",
   "mimetype": "text/x-python",
   "name": "python",
   "nbconvert_exporter": "python",
   "pygments_lexer": "ipython3",
   "version": "3.11.5"
  }
 },
 "nbformat": 4,
 "nbformat_minor": 5
}
