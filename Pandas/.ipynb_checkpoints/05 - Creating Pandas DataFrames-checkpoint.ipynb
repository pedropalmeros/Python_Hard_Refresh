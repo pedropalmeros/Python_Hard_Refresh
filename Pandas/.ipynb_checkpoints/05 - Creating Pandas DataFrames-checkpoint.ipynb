{
 "cells": [
  {
   "cell_type": "markdown",
   "id": "8cb708e4",
   "metadata": {},
   "source": [
    "# Introduction\n",
    "\n",
    "Pandas DataFrames are two-dimensional data structures with labeled rows and columns, that can hold many data types. If you are familiiar with Excel, you can think of Pandas DataFrames as being similar to a spreadsheet. We can create Pandas DataFrames manually o by loading data from a file. In this lesson, we will start by learning how to create Pandas DataFrames manually from dictionaries, and later we will see how we can load data into a DataFrame from a data file. \n",
    "\n",
    "## Create a DataFrame manually\n",
    "\n",
    "We will start by creating a DataFrame manually from a directory of Pandas Series. It is a two-step process:\n",
    "\n",
    "1. The first step is to create the dictionay of Pandas Series.\n",
    "2. After the dictionary is created we can pass the dictionary to the `pd.DataFrame()` function.\n",
    "\n",
    "We will create a dictionary that contains items purchased by two people, Alice and Bob, o an online store. The Pandas Series will use the price of the items purchased as *data*, and the purchased items will be used as the *index* labels to the Pandas Series. Let's see how this is done in code"
   ]
  },
  {
   "cell_type": "code",
   "execution_count": 2,
   "id": "971c403d",
   "metadata": {},
   "outputs": [
    {
     "name": "stdout",
     "output_type": "stream",
     "text": [
      "<class 'dict'>\n"
     ]
    }
   ],
   "source": [
    "# import Pandas as pd into Pyhton\n",
    "import pandas as pd\n",
    "\n",
    "# create a dictionary of Pandas Series\n",
    "items = {'Bob':pd.Series(index=['bike','pants','watch'], data=[25,25,55]), \n",
    "         'Alice':pd.Series(index=['book','glasses','bike','pants'], data=[40,110,500,45])}\n",
    "\n",
    "# print the type of items to see that it is a dictionary\n",
    "print(type(items))"
   ]
  },
  {
   "cell_type": "markdown",
   "id": "63d42a62",
   "metadata": {},
   "source": [
    "Now that we have a dictionary, we are ready to create a DataFrame by passing it to the `pd.DataFrame()` function. We will create DataFrame that could represent the shopping carts of various users, in this case we have only two users, Alice and Bob. \n",
    "\n",
    "#### Example1. Create DataFrame using a dictionary of Series"
   ]
  },
  {
   "cell_type": "code",
   "execution_count": 4,
   "id": "cad82254",
   "metadata": {},
   "outputs": [
    {
     "data": {
      "text/html": [
       "<div>\n",
       "<style scoped>\n",
       "    .dataframe tbody tr th:only-of-type {\n",
       "        vertical-align: middle;\n",
       "    }\n",
       "\n",
       "    .dataframe tbody tr th {\n",
       "        vertical-align: top;\n",
       "    }\n",
       "\n",
       "    .dataframe thead th {\n",
       "        text-align: right;\n",
       "    }\n",
       "</style>\n",
       "<table border=\"1\" class=\"dataframe\">\n",
       "  <thead>\n",
       "    <tr style=\"text-align: right;\">\n",
       "      <th></th>\n",
       "      <th>Bob</th>\n",
       "      <th>Alice</th>\n",
       "    </tr>\n",
       "  </thead>\n",
       "  <tbody>\n",
       "    <tr>\n",
       "      <th>bike</th>\n",
       "      <td>25.0</td>\n",
       "      <td>500.0</td>\n",
       "    </tr>\n",
       "    <tr>\n",
       "      <th>book</th>\n",
       "      <td>NaN</td>\n",
       "      <td>40.0</td>\n",
       "    </tr>\n",
       "    <tr>\n",
       "      <th>glasses</th>\n",
       "      <td>NaN</td>\n",
       "      <td>110.0</td>\n",
       "    </tr>\n",
       "    <tr>\n",
       "      <th>pants</th>\n",
       "      <td>25.0</td>\n",
       "      <td>45.0</td>\n",
       "    </tr>\n",
       "    <tr>\n",
       "      <th>watch</th>\n",
       "      <td>55.0</td>\n",
       "      <td>NaN</td>\n",
       "    </tr>\n",
       "  </tbody>\n",
       "</table>\n",
       "</div>"
      ],
      "text/plain": [
       "          Bob  Alice\n",
       "bike     25.0  500.0\n",
       "book      NaN   40.0\n",
       "glasses   NaN  110.0\n",
       "pants    25.0   45.0\n",
       "watch    55.0    NaN"
      ]
     },
     "execution_count": 4,
     "metadata": {},
     "output_type": "execute_result"
    }
   ],
   "source": [
    "# Create a Pandas DataFrame by passing it a dictionary of Pandas Series\n",
    "shopping_carts = pd.DataFrame(items)\n",
    "\n",
    "# Display the DataFrame\n",
    "shopping_carts"
   ]
  },
  {
   "cell_type": "markdown",
   "id": "260cea42",
   "metadata": {},
   "source": [
    "There are several things to notice here, as explained below:\n",
    "1. We see that DataFrames are displayed in tabular form, much like an Excel spreadsheet, with the lables of rows and columns in **bold**.\n",
    "2. Also, notice that the row labels fo the DataFrame are built from the union of the index labels of the two Pandas Series we used to construct the dictionary. And the column labels of the DataFrame are taken from the *keys* of the dictionary.\n",
    "3. Another thinkg to notice is that the columns are arranged alphabetically and not in the order given in the dictionary. We will see later that this won't happen when we load data into a DataFrame from a data file. \n",
    "4. The last thing we want to point is that we see some `NaN` values appear in the DataFrame. `NaN` stands for *Not a Number*, and is Pandas way of indicating that it doesn't have a value for that particular row and column index. For example, if we look a the column of Aliice, we see that it has `NaN` in the watch index. you can see why this is the case by looking aht the dictionary we created at the beginning. We clearly see that the dictionary has no item for Alice labeled watches. So whenever a DataFrame is created, if a particular column doesn't have values of a particular row index, Pandas will put a `NaN` value there. \n",
    "5. If we were to feed this data into a machine learning algorith we will have to remove these `NaN` values first. In a later lesson, we will learn how to deal with `NaN` values and clea our data. For now, we will leave these values in our DataFrame.\n",
    "\n",
    "In the exmple above, we created a Pandas DataFrame from a dictionary of Pandas Series that had clearly defined indexes. If we don't provide index labels to the Pandas Series, Pandas will use numerical row indexes when it creates the DataFrame. Letsee an example\n",
    "\n",
    "#### Example 2. DataFrame assigns the numerical row indexes by default"
   ]
  },
  {
   "cell_type": "code",
   "execution_count": 5,
   "id": "18a0afbe",
   "metadata": {},
   "outputs": [
    {
     "data": {
      "text/html": [
       "<div>\n",
       "<style scoped>\n",
       "    .dataframe tbody tr th:only-of-type {\n",
       "        vertical-align: middle;\n",
       "    }\n",
       "\n",
       "    .dataframe tbody tr th {\n",
       "        vertical-align: top;\n",
       "    }\n",
       "\n",
       "    .dataframe thead th {\n",
       "        text-align: right;\n",
       "    }\n",
       "</style>\n",
       "<table border=\"1\" class=\"dataframe\">\n",
       "  <thead>\n",
       "    <tr style=\"text-align: right;\">\n",
       "      <th></th>\n",
       "      <th>Bob</th>\n",
       "      <th>Alice</th>\n",
       "    </tr>\n",
       "  </thead>\n",
       "  <tbody>\n",
       "    <tr>\n",
       "      <th>0</th>\n",
       "      <td>245.0</td>\n",
       "      <td>40</td>\n",
       "    </tr>\n",
       "    <tr>\n",
       "      <th>1</th>\n",
       "      <td>25.0</td>\n",
       "      <td>110</td>\n",
       "    </tr>\n",
       "    <tr>\n",
       "      <th>2</th>\n",
       "      <td>55.0</td>\n",
       "      <td>500</td>\n",
       "    </tr>\n",
       "    <tr>\n",
       "      <th>3</th>\n",
       "      <td>NaN</td>\n",
       "      <td>45</td>\n",
       "    </tr>\n",
       "  </tbody>\n",
       "</table>\n",
       "</div>"
      ],
      "text/plain": [
       "     Bob  Alice\n",
       "0  245.0     40\n",
       "1   25.0    110\n",
       "2   55.0    500\n",
       "3    NaN     45"
      ]
     },
     "execution_count": 5,
     "metadata": {},
     "output_type": "execute_result"
    }
   ],
   "source": [
    "# create a dictionary of Pandas Series without indexes\n",
    "data = {'Bob': pd.Series([245,25,55]),\n",
    "        'Alice': pd.Series([40,110, 500,45])}\n",
    "\n",
    "# create a DataFrame\n",
    "df = pd.DataFrame(data)\n",
    "\n",
    "# display the DataFrame\n",
    "df"
   ]
  },
  {
   "cell_type": "markdown",
   "id": "916df685",
   "metadata": {},
   "source": [
    "We can see that pandas indexes the rows of the DataFrame starting from 0, just like NumPy indexes ndarrays. \n",
    "\n",
    "Now, just like with Pandas Series we can also extract information from DataFrames using attributes. Let's print some information from our `shopping_carts` DataFrame\n",
    "\n",
    "#### Example 3. Demonstrate a few attributes of DataFrame"
   ]
  },
  {
   "cell_type": "code",
   "execution_count": 6,
   "id": "9b381c72",
   "metadata": {},
   "outputs": [
    {
     "name": "stdout",
     "output_type": "stream",
     "text": [
      "shopping_carts has shape:  (5, 2)\n",
      "shopping_carts has dimension:  2\n",
      "shopping_cars has a totoal of:  10  elements\n",
      "\n",
      "The data in the shopping_carts is: \n",
      " [[ 25. 500.]\n",
      " [ nan  40.]\n",
      " [ nan 110.]\n",
      " [ 25.  45.]\n",
      " [ 55.  nan]]\n",
      "\n",
      "The row index in shopping_carts is : \n",
      " Index(['bike', 'book', 'glasses', 'pants', 'watch'], dtype='object')\n",
      "\n",
      "The column index in shopping_carts is : \n",
      " Index(['Bob', 'Alice'], dtype='object')\n"
     ]
    }
   ],
   "source": [
    "# print some information about shopping_carts\n",
    "print('shopping_carts has shape: ', shopping_carts.shape)\n",
    "print('shopping_carts has dimension: ', shopping_carts.ndim)\n",
    "print('shopping_cars has a totoal of: ', shopping_carts.size, ' elements')\n",
    "print()\n",
    "print('The data in the shopping_carts is: \\n', shopping_carts.values)\n",
    "print()\n",
    "print('The row index in shopping_carts is : \\n', shopping_carts.index)\n",
    "print()\n",
    "print('The column index in shopping_carts is : \\n', shopping_carts.columns)"
   ]
  },
  {
   "cell_type": "markdown",
   "id": "0887d661",
   "metadata": {},
   "source": [
    "When creating the `shopping_carts` DataFrame we passed the entire dictionary to the `pd.DataFrame()` function. However, there might be cases when you are only interested in a subset of the data. Pandas allows us to select which data we want to put into our DataFrame by means of the keywords `columns` and `index`. Let's see some examples"
   ]
  },
  {
   "cell_type": "code",
   "execution_count": 7,
   "id": "2b79b9c0",
   "metadata": {},
   "outputs": [
    {
     "ename": "NameError",
     "evalue": "name 'bob_shopping_cart' is not defined",
     "output_type": "error",
     "traceback": [
      "\u001b[1;31m---------------------------------------------------------------------------\u001b[0m",
      "\u001b[1;31mNameError\u001b[0m                                 Traceback (most recent call last)",
      "Cell \u001b[1;32mIn[7], line 5\u001b[0m\n\u001b[0;32m      2\u001b[0m bob_shipping_cart \u001b[38;5;241m=\u001b[39m pd\u001b[38;5;241m.\u001b[39mDataFrame(items,columns\u001b[38;5;241m=\u001b[39m[\u001b[38;5;124m'\u001b[39m\u001b[38;5;124mBob\u001b[39m\u001b[38;5;124m'\u001b[39m])\n\u001b[0;32m      4\u001b[0m \u001b[38;5;66;03m# display bob_shopping_cart\u001b[39;00m\n\u001b[1;32m----> 5\u001b[0m bob_shopping_cart\n",
      "\u001b[1;31mNameError\u001b[0m: name 'bob_shopping_cart' is not defined"
     ]
    }
   ],
   "source": [
    "# create a DataFrame that only has Bob's data\n",
    "bob_shipping_cart = pd.DataFrame(items,columns=['Bob'])\n",
    "\n",
    "# display bob_shopping_cart\n",
    "bob_shipping_cart"
   ]
  },
  {
   "cell_type": "code",
   "execution_count": null,
   "id": "c3949c13",
   "metadata": {},
   "outputs": [],
   "source": []
  }
 ],
 "metadata": {
  "kernelspec": {
   "display_name": "Python 3 (ipykernel)",
   "language": "python",
   "name": "python3"
  },
  "language_info": {
   "codemirror_mode": {
    "name": "ipython",
    "version": 3
   },
   "file_extension": ".py",
   "mimetype": "text/x-python",
   "name": "python",
   "nbconvert_exporter": "python",
   "pygments_lexer": "ipython3",
   "version": "3.11.5"
  }
 },
 "nbformat": 4,
 "nbformat_minor": 5
}
