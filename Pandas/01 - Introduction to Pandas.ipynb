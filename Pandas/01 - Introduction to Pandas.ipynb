{
 "cells": [
  {
   "cell_type": "markdown",
   "id": "29498159",
   "metadata": {},
   "source": [
    "## Introduction to Pandas\n",
    "\n",
    "**Pandas** is a package for data manipulation and analysis in Python. the name Pandas is dervied from the econometrics term *Panel Data*. Pandas incorporates two additional data structures into Python, namely **Pandas Series** and **Pandas DataFrame**. These data structures allow us to work with *labeled* and *relational* data in an easy and intuitive manner. These lessons are intende3d as a basic overview of Pandas and introduces some of its most important features.\n",
    "\n",
    "In the following lessons you will learn:\n",
    "- How to import Pandas.\n",
    "- How to create Pandas Series and DataFames using varius methods.\n",
    "- How to access and change elements in Series and DataFrames. \n",
    "- How to perform aritmetic operations on Series.\n",
    "- How to load data into a DataFrame.\n",
    "- How to deal with not a Number (NaN) values. \n",
    "\n",
    "## Why Use Pandas?\n",
    "\n",
    "The recent success of machine learning algorithms is partly due tot he huge amounts of data that we have available to train our algorithms on. However, when it comes to data quantitiy is not the only thing that matters, the quality of your data is just as important. it often happens that large datasets don't come ready to be fed into you learning algorithms. More often than not, large datasets will often have missing values, outliers, incorrect values, etc... Having data with a lot of missing values or bad values, for example, is not goingo to allow you machine learning algorithms to perfrom well. Therefore, one very important step in machine learning is to look at your data first and make sure it is well suited for your training algorithm by doing sobe basic data analysis. This is where Pandas come in. Pandas Series and DataFrames are designed for fast data analysis and manipulation, as well as being flexible and easy to use. Below are just a few features that makes Pandas an excellent package for data analysis:\n",
    "\n",
    "- Allow the use of labes for rows and columns.\n",
    "- Can calculate rolling statistics on time series data.\n",
    "- Easy handling of NaN values.\n",
    "- Is able to load data of different formats into DataFrames.\n",
    "- Can join and merge different datasets together.\n",
    "- Integrates with NumPy and Matplotlib\n",
    "\n",
    "For those reasons, pandas DataFrames have become on the most commonly used Pandas object for data analysis in Python.\n"
   ]
  },
  {
   "cell_type": "code",
   "execution_count": null,
   "id": "ebc7fd38",
   "metadata": {},
   "outputs": [],
   "source": []
  }
 ],
 "metadata": {
  "kernelspec": {
   "display_name": "Python 3 (ipykernel)",
   "language": "python",
   "name": "python3"
  },
  "language_info": {
   "codemirror_mode": {
    "name": "ipython",
    "version": 3
   },
   "file_extension": ".py",
   "mimetype": "text/x-python",
   "name": "python",
   "nbconvert_exporter": "python",
   "pygments_lexer": "ipython3",
   "version": "3.11.5"
  }
 },
 "nbformat": 4,
 "nbformat_minor": 5
}
