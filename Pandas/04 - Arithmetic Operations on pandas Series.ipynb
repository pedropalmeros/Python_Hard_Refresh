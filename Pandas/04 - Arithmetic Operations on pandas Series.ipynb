{
 "cells": [
  {
   "cell_type": "markdown",
   "id": "a42eb27f",
   "metadata": {},
   "source": [
    "Just like NumPy ndarrays, we can perfrom element-wise arithmetic operations on Pandas Series. In this lesson we will look at arithmetic operations between Pandas Series and single numbers. Let's create a new Pandas Series that will hold a grocery list of just fruits. \n"
   ]
  },
  {
   "cell_type": "code",
   "execution_count": 2,
   "id": "5f04b34d",
   "metadata": {},
   "outputs": [
    {
     "data": {
      "text/plain": [
       "apples     10\n",
       "oranges     6\n",
       "bananas     3\n",
       "dtype: int64"
      ]
     },
     "execution_count": 2,
     "metadata": {},
     "output_type": "execute_result"
    }
   ],
   "source": [
    "import pandas as pd\n",
    "\n",
    "# Creste a Pandas Series that stores a grocery list of just fruits\n",
    "fruits = pd.Series(data=[10,6,3], index=['apples','oranges','bananas'])\n",
    "\n",
    "# display the fruits Pandas Series\n",
    "fruits"
   ]
  },
  {
   "cell_type": "markdown",
   "id": "f8fb0abd",
   "metadata": {},
   "source": [
    "we can nos modify the data in fruits by performing basic arithmetic operations. Let's see some examples. \n",
    "\n",
    "#### 1. Element-wise basic arithmetic operations"
   ]
  },
  {
   "cell_type": "code",
   "execution_count": 3,
   "id": "b17e3c40",
   "metadata": {},
   "outputs": [
    {
     "name": "stdout",
     "output_type": "stream",
     "text": [
      "Original grocery list of fruits: \n",
      "  apples     10\n",
      "oranges     6\n",
      "bananas     3\n",
      "dtype: int64\n",
      "\n",
      "fruits + 2: \n",
      " apples     12\n",
      "oranges     8\n",
      "bananas     5\n",
      "dtype: int64\n",
      "\n",
      "fruits - 2: \n",
      " apples     8\n",
      "oranges    4\n",
      "bananas    1\n",
      "dtype: int64\n",
      "\n",
      "fruits * 2: \n",
      " apples     20\n",
      "oranges    12\n",
      "bananas     6\n",
      "dtype: int64\n",
      "\n",
      "fruits / 2: \n",
      " apples     5.0\n",
      "oranges    3.0\n",
      "bananas    1.5\n",
      "dtype: float64\n",
      "\n"
     ]
    }
   ],
   "source": [
    "# print fruits for reference\n",
    "print('Original grocery list of fruits: \\n ',fruits)\n",
    "\n",
    "# perfrom basic element-wise operations using arithmetic symbols\n",
    "print()\n",
    "print('fruits + 2: \\n', fruits + 2) # we add 2 to each item in fruits\n",
    "print()\n",
    "print('fruits - 2: \\n', fruits - 2) # we subtract 2 to each item in fruits\n",
    "print()\n",
    "print('fruits * 2: \\n', fruits * 2) # we multiply each item in fruits by 2\n",
    "print()\n",
    "print('fruits / 2: \\n', fruits / 2) # we divide each item in fruits by 2\n",
    "print()"
   ]
  },
  {
   "cell_type": "markdown",
   "id": "0789029a",
   "metadata": {},
   "source": [
    "You can also apply mathematical functions to NumPy, such as `sqrt(x)`, to all elements of a Pandas Series.\n",
    "\n",
    "#### Example 2. Use mathematical functions from NumPy to operate on Series."
   ]
  },
  {
   "cell_type": "code",
   "execution_count": 5,
   "id": "95f1e7e6",
   "metadata": {},
   "outputs": [
    {
     "name": "stdout",
     "output_type": "stream",
     "text": [
      "\n",
      "EXP(X) = \n",
      "  apples     22026.465795\n",
      "oranges      403.428793\n",
      "bananas       20.085537\n",
      "dtype: float64\n",
      "SQRT(X) = \n",
      " apples     3.162278\n",
      "oranges    2.449490\n",
      "bananas    1.732051\n",
      "dtype: float64\n",
      "POW(X) = \n",
      " apples     100\n",
      "oranges     36\n",
      "bananas      9\n",
      "dtype: int64\n"
     ]
    }
   ],
   "source": [
    "import pandas as pd\n",
    "import numpy as np\n",
    "\n",
    "# Creste a Pandas Series that stores a grocery list of just fruits\n",
    "fruits = pd.Series(data=[10,6,3], index=['apples','oranges','bananas'])\n",
    "\n",
    "# display the fruits Pandas Series\n",
    "fruits\n",
    "\n",
    "# Apply different mathematical functions to all elements of fruits\n",
    "print()\n",
    "print('EXP(X) = \\n ', np.exp(fruits))\n",
    "print('SQRT(X) = \\n', np.sqrt(fruits))\n",
    "print('POW(X) = \\n', np.power(fruits,2)) "
   ]
  },
  {
   "cell_type": "markdown",
   "id": "0719f193",
   "metadata": {},
   "source": [
    "Pandas also allows us to only apply arithmetic operations on selected items in our fruits grocery list. Let's see some examples\n",
    "\n",
    "#### Example 3. Perform arithmetic operations on selected elements."
   ]
  },
  {
   "cell_type": "code",
   "execution_count": 7,
   "id": "461d4396",
   "metadata": {},
   "outputs": [
    {
     "name": "stdout",
     "output_type": "stream",
     "text": [
      "Amount of bananas + 2 =  5\n",
      "\n",
      "Amount of apples - 2 =  8\n",
      "\n",
      "We double the amount of apples and oranges: \n",
      " apples     20\n",
      "oranges    12\n",
      "dtype: int64\n",
      "\n",
      "We half the amount of appels and oragnes: \n",
      " apples     5.0\n",
      "oranges    3.0\n",
      "dtype: float64\n"
     ]
    }
   ],
   "source": [
    "import pandas as pd\n",
    "import numpy as np\n",
    "\n",
    "# Creste a Pandas Series that stores a grocery list of just fruits\n",
    "fruits = pd.Series(data=[10,6,3], index=['apples','oranges','bananas'])\n",
    "\n",
    "# display the fruits Pandas Series\n",
    "fruits\n",
    "\n",
    "# add 2 only to the bananas\n",
    "print('Amount of bananas + 2 = ', fruits['bananas']+ 2)\n",
    "print()\n",
    "\n",
    "# subtract 2 from apples\n",
    "print('Amount of apples - 2 = ', fruits.iloc[0] - 2)\n",
    "print()\n",
    "\n",
    "# multiply 2 apples and oranges by 2\n",
    "print('We double the amount of apples and oranges: \\n', fruits[['apples','oranges']]*2)\n",
    "print()\n",
    "\n",
    "# divide 2 apples and oranges by 2\n",
    "print('We half the amount of appels and oragnes: \\n', fruits.loc[['apples','oranges']]/2)"
   ]
  },
  {
   "cell_type": "markdown",
   "id": "20de0d1a",
   "metadata": {},
   "source": [
    "You can also apply arithmetic operations on Pandas Series of mixed data type provided that the arithmetic operation is defined for *all* data types Series, otherwise, you will get an error. Let's see what happens when we multiply our grocery list by 2"
   ]
  },
  {
   "cell_type": "code",
   "execution_count": 8,
   "id": "b02c05e8",
   "metadata": {},
   "outputs": [
    {
     "data": {
      "text/plain": [
       "eggs          60\n",
       "apples        12\n",
       "milk      YesYes\n",
       "bread       NoNo\n",
       "dtype: object"
      ]
     },
     "execution_count": 8,
     "metadata": {},
     "output_type": "execute_result"
    }
   ],
   "source": [
    "# import Pandas as pd into Python \n",
    "import pandas as pd\n",
    "\n",
    "# create a Pandas Series that stores a crocery list\n",
    "groceries = pd.Series(data=[30,6,'Yes','No'], index=['eggs','apples','milk','bread'])\n",
    "\n",
    "# display the Groceries Pandas Series\n",
    "groceries\n",
    "\n",
    "groceries*2"
   ]
  },
  {
   "cell_type": "markdown",
   "id": "85de1465",
   "metadata": {},
   "source": [
    "As we can see, in this case, since we multiplied by 2, Pandas doubles the data of each item including the strings. pandas can do this vecause the multiplication operation `*` is defined both for numbers and strings. If you were to apply an operation that was valid for numbers but not strings, say for instance `/` you will get an error. "
   ]
  }
 ],
 "metadata": {
  "kernelspec": {
   "display_name": "Python 3 (ipykernel)",
   "language": "python",
   "name": "python3"
  },
  "language_info": {
   "codemirror_mode": {
    "name": "ipython",
    "version": 3
   },
   "file_extension": ".py",
   "mimetype": "text/x-python",
   "name": "python",
   "nbconvert_exporter": "python",
   "pygments_lexer": "ipython3",
   "version": "3.11.5"
  }
 },
 "nbformat": 4,
 "nbformat_minor": 5
}
