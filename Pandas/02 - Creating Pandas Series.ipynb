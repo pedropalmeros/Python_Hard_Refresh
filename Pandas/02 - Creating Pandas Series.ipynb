{
 "cells": [
  {
   "cell_type": "markdown",
   "id": "977ccad5",
   "metadata": {},
   "source": [
    "# Pandas Series - Introduction\n",
    "A Pandas series is *one-dimensional* array-like object that can hold many data types, such as numbers or strings, and has an option to provide axis lebels. \n",
    "\n",
    "## Difference between Numpy ndarrays and Pandas Series\n",
    "1. One of the main differences betweeen Pandas Series and NumPy ndarrays is that you can assign an index label to each element in the Pandas Series. In other words, you can name the indices of your Pandas Series anything you want\n",
    "\n",
    "2. Another big difference between Pandas Series and NumPy ndarrays is that Pandas Series can hold data of different data types. \n",
    "\n",
    "Let's start by importing Pandas into Python. It has become a convetnion to import Pandas as `pd`, therefore, you can import Pandas by typing the following command in your Jupyter notebook;\n"
   ]
  },
  {
   "cell_type": "code",
   "execution_count": 1,
   "id": "945041af",
   "metadata": {},
   "outputs": [],
   "source": [
    "import pandas as pd"
   ]
  },
  {
   "cell_type": "markdown",
   "id": "9f5d0ea0",
   "metadata": {},
   "source": [
    "Let's begin by creating a Pandas Series. You can create Pandas Series by using the command `pd.Series(data, index)`, where `index` is a list of index labels. Let's use a Pandas Series to store a grocery list. We will use the food items as index labels and the quantity we need to buy of each item as our data. \n",
    "\n",
    "#### Example - Create a Series\n"
   ]
  },
  {
   "cell_type": "code",
   "execution_count": 2,
   "id": "dd746dfa",
   "metadata": {},
   "outputs": [
    {
     "data": {
      "text/plain": [
       "eggs       30\n",
       "apples      6\n",
       "milk      Yes\n",
       "bread      No\n",
       "dtype: object"
      ]
     },
     "execution_count": 2,
     "metadata": {},
     "output_type": "execute_result"
    }
   ],
   "source": [
    "# import Pandas as pd into Python \n",
    "import pandas as pd\n",
    "\n",
    "# create a Pandas Series that stores a crocery list\n",
    "groceries = pd.Series(data=[30,6,'Yes','No'], index=['eggs','apples','milk','bread'])\n",
    "\n",
    "# display the Groceries Pandas Series\n",
    "groceries"
   ]
  },
  {
   "cell_type": "markdown",
   "id": "41cea5a9",
   "metadata": {},
   "source": [
    "We see that Pandas Series are displayed with the indices in the frist column and the data in the second column. Notice that the data is not indexed 0 to 3 but rather i is indexed with the names of the food we put in, namely eggs, apples, etc... Also, notice that the data in our Pandas Series has both integers and strings. \n",
    "\n",
    "Jus tlike Numpy ndarrays, Pandas Series have attributes that allow us to get information from the series in an easy way. Let's see some of them\n",
    "\n",
    "#### Example 2. Print attributes - shape, ndim, and size\n"
   ]
  },
  {
   "cell_type": "code",
   "execution_count": 4,
   "id": "15bba722",
   "metadata": {},
   "outputs": [
    {
     "name": "stdout",
     "output_type": "stream",
     "text": [
      "Groceries has shape:  (4,)\n",
      "Groceries has dimension:  1\n",
      "Groceries has a total of:  4  elements.\n"
     ]
    }
   ],
   "source": [
    "# print some information about Groceries\n",
    "print('Groceries has shape: ', groceries.shape)\n",
    "print('Groceries has dimension: ', groceries.ndim)\n",
    "print('Groceries has a total of: ', groceries.size, ' elements.')"
   ]
  },
  {
   "cell_type": "markdown",
   "id": "7abefc47",
   "metadata": {},
   "source": [
    "we can also print the index labels and the data of the Pandas Series separately. This is useful if you don't happen to know tha the index labels of the Pandas Series are\n",
    "\n",
    "#### Example 3. Print attributes - values, and index"
   ]
  },
  {
   "cell_type": "code",
   "execution_count": 5,
   "id": "eea681e0",
   "metadata": {},
   "outputs": [
    {
     "name": "stdout",
     "output_type": "stream",
     "text": [
      "The data in Groceries is:  [30 6 'Yes' 'No']\n",
      "The index of Groceries is:  Index(['eggs', 'apples', 'milk', 'bread'], dtype='object')\n"
     ]
    }
   ],
   "source": [
    "# print the index and data of Groceries\n",
    "print('The data in Groceries is: ', groceries.values)\n",
    "print('The index of Groceries is: ', groceries.index)\n"
   ]
  },
  {
   "cell_type": "markdown",
   "id": "53ecb04c",
   "metadata": {},
   "source": [
    "If you are dealing with a very large Pandas Series and if you are not sure whether an index label exists, you can check by using the `in` command\n",
    "\n",
    "#### Example 4. Check if an index is available in the given Series\n"
   ]
  },
  {
   "cell_type": "code",
   "execution_count": 6,
   "id": "ca7f01ec",
   "metadata": {},
   "outputs": [
    {
     "name": "stdout",
     "output_type": "stream",
     "text": [
      "Is bananas an index label in groceries?:  False\n",
      "is bread an index label in Groceries?:  True\n"
     ]
    }
   ],
   "source": [
    "# we check whether bananas is a food item (an index) in Groceries\n",
    "x = 'bananas' in groceries\n",
    "\n",
    "# we check whether bread is a food iten (an index) in Groceries\n",
    "y = 'bread' in groceries\n",
    "\n",
    "# print the results\n",
    "print('Is bananas an index label in groceries?: ', x)\n",
    "print('is bread an index label in Groceries?: ', y)"
   ]
  },
  {
   "cell_type": "code",
   "execution_count": null,
   "id": "226abea7",
   "metadata": {},
   "outputs": [],
   "source": []
  }
 ],
 "metadata": {
  "kernelspec": {
   "display_name": "Python 3 (ipykernel)",
   "language": "python",
   "name": "python3"
  },
  "language_info": {
   "codemirror_mode": {
    "name": "ipython",
    "version": 3
   },
   "file_extension": ".py",
   "mimetype": "text/x-python",
   "name": "python",
   "nbconvert_exporter": "python",
   "pygments_lexer": "ipython3",
   "version": "3.11.5"
  }
 },
 "nbformat": 4,
 "nbformat_minor": 5
}
