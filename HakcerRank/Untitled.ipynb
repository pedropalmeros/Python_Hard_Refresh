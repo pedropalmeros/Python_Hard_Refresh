{
 "cells": [
  {
   "cell_type": "markdown",
   "id": "6e3620c1",
   "metadata": {},
   "source": [
    "Consider a list (`list = []`). You can perform the following commands: \n",
    "1. `insert i e`: Insert integer `e` at position `i`.\n",
    "2. `print`: Print the list.\n",
    "3. `remove e`: Delete the first occurrence of integer `e`\n",
    "4. `append e`: Insert integer `e` at the end of the list.\n",
    "5. `sort`: sort the list\n",
    "6. `pop`: Pop the last element from the list.\n",
    "7. `reverse`: Reverse the list.\n",
    "\n",
    "Initialize ryou list and read in the value of *n* followed by *n* lines of commands where each command will be of the **7** types listed above. Iterate through each command in order and perfrom the corresponding operation on your list"
   ]
  },
  {
   "cell_type": "code",
   "execution_count": 3,
   "id": "a1575613",
   "metadata": {},
   "outputs": [],
   "source": [
    "instructions = ['append 1',\n",
    "'append 6',\n",
    "'append 10',\n",
    "'append 8',\n",
    "'append 9',\n",
    "'append 2',\n",
    "'append 12',\n",
    "'append 7',\n",
    "'append 3',\n",
    "'append 5',\n",
    "'insert 8 66',\n",
    "'insert 1 30',\n",
    "'insert 6 75',\n",
    "'insert 4 44',\n",
    "'insert 9 67',\n",
    "'insert 2 44',\n",
    "'insert 9 21',\n",
    "'insert 8 87',\n",
    "'insert 1 75',\n",
    "'insert 1 48',\n",
    "'print',\n",
    "'reverse',\n",
    "'print',\n",
    "'sort',\n",
    "'print',\n",
    "'append 2',\n",
    "'append 5',\n",
    "'remove 2',\n",
    "'print']\n",
    "N = 29"
   ]
  },
  {
   "cell_type": "code",
   "execution_count": null,
   "id": "64131756",
   "metadata": {},
   "outputs": [],
   "source": []
  },
  {
   "cell_type": "code",
   "execution_count": 4,
   "id": "15a905b1",
   "metadata": {},
   "outputs": [
    {
     "name": "stdout",
     "output_type": "stream",
     "text": [
      "[1, 48, 75, 30, 44, 6, 10, 44, 8, 9, 87, 75, 21, 2, 67, 12, 7, 66, 3, 5]\n",
      "[5, 3, 66, 7, 12, 67, 2, 21, 75, 87, 9, 8, 44, 10, 6, 44, 30, 75, 48, 1]\n",
      "[1, 2, 3, 5, 6, 7, 8, 9, 10, 12, 21, 30, 44, 44, 48, 66, 67, 75, 75, 87]\n",
      "[1, 3, 5, 6, 7, 8, 9, 10, 12, 21, 30, 44, 44, 48, 66, 67, 75, 75, 87, 2, 5]\n"
     ]
    }
   ],
   "source": [
    "           \n",
    "res_list = []\n",
    "for row in instructions:\n",
    "    row = row.split()\n",
    "    if row[0]==\"append\":\n",
    "        res_list.append(int(row[1]))\n",
    "    if row[0]==\"remove\":\n",
    "        del res_list[res_list.index(int(row[1]))]\n",
    "    if row[0]==\"insert\":\n",
    "        res_list.insert(int(row[1]),int(row[2]))\n",
    "    if row[0]==\"sort\":\n",
    "        res_list.sort()\n",
    "    if row[0]==\"pop\":\n",
    "        res_list.pop()\n",
    "    if row[0]==\"reverse\":\n",
    "        res_list.reverse()\n",
    "    if row[0]==\"print\":\n",
    "        print(res_list)"
   ]
  },
  {
   "cell_type": "code",
   "execution_count": null,
   "id": "758e16d5",
   "metadata": {},
   "outputs": [],
   "source": []
  },
  {
   "cell_type": "code",
   "execution_count": null,
   "id": "bb978277",
   "metadata": {},
   "outputs": [],
   "source": []
  }
 ],
 "metadata": {
  "kernelspec": {
   "display_name": "Python 3 (ipykernel)",
   "language": "python",
   "name": "python3"
  },
  "language_info": {
   "codemirror_mode": {
    "name": "ipython",
    "version": 3
   },
   "file_extension": ".py",
   "mimetype": "text/x-python",
   "name": "python",
   "nbconvert_exporter": "python",
   "pygments_lexer": "ipython3",
   "version": "3.11.5"
  }
 },
 "nbformat": 4,
 "nbformat_minor": 5
}
