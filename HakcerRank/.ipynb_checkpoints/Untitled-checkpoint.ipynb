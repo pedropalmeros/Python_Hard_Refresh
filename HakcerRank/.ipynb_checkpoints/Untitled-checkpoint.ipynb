{
 "cells": [
  {
   "cell_type": "code",
   "execution_count": 3,
   "id": "57614e62",
   "metadata": {},
   "outputs": [],
   "source": [
    "instructions = ['append 1',\n",
    "'append 6',\n",
    "'append 10',\n",
    "'append 8',\n",
    "'append 9',\n",
    "'append 2',\n",
    "'append 12',\n",
    "'append 7',\n",
    "'append 3',\n",
    "'append 5',\n",
    "'insert 8 66',\n",
    "'insert 1 30',\n",
    "'insert 6 75',\n",
    "'insert 4 44',\n",
    "'insert 9 67',\n",
    "'insert 2 44',\n",
    "'insert 9 21',\n",
    "'insert 8 87',\n",
    "'insert 1 75',\n",
    "'insert 1 48',\n",
    "'print',\n",
    "'reverse',\n",
    "'print',\n",
    "'sort',\n",
    "'print',\n",
    "'append 2',\n",
    "'append 5',\n",
    "'remove 2',\n",
    "'print']\n",
    "N = 29"
   ]
  },
  {
   "cell_type": "code",
   "execution_count": 2,
   "id": "5926831f",
   "metadata": {},
   "outputs": [
    {
     "ename": "IndentationError",
     "evalue": "expected an indented block after 'for' statement on line 3 (2399800832.py, line 4)",
     "output_type": "error",
     "traceback": [
      "\u001b[1;36m  Cell \u001b[1;32mIn[2], line 4\u001b[1;36m\u001b[0m\n\u001b[1;33m    instructions.append(input())\u001b[0m\n\u001b[1;37m    ^\u001b[0m\n\u001b[1;31mIndentationError\u001b[0m\u001b[1;31m:\u001b[0m expected an indented block after 'for' statement on line 3\n"
     ]
    }
   ],
   "source": [
    "           \n",
    "res_list = []\n",
    "for row in instructions:\n",
    "    row = row.split()\n",
    "    if row[0]==\"append\":\n",
    "        res_list.append(int(row[1]))\n",
    "    if row[0]==\"remove\":\n",
    "        del res_list[res_list.index(int(row[1]))]\n",
    "    if row[0]==\"insert\":\n",
    "        res_list.insert(int(row[1]),int(row[2]))\n",
    "    if row[0]==\"sort\":\n",
    "        res_list.sort()\n",
    "    if row[0]==\"pop\":\n",
    "        res_list.pop()\n",
    "    if row[0]==\"reverse\":\n",
    "        res_list.reverse()\n",
    "    if row[0]==\"print\":\n",
    "        print(res_list)"
   ]
  },
  {
   "cell_type": "code",
   "execution_count": null,
   "id": "0d7eaea1",
   "metadata": {},
   "outputs": [],
   "source": []
  }
 ],
 "metadata": {
  "kernelspec": {
   "display_name": "Python 3 (ipykernel)",
   "language": "python",
   "name": "python3"
  },
  "language_info": {
   "codemirror_mode": {
    "name": "ipython",
    "version": 3
   },
   "file_extension": ".py",
   "mimetype": "text/x-python",
   "name": "python",
   "nbconvert_exporter": "python",
   "pygments_lexer": "ipython3",
   "version": "3.11.5"
  }
 },
 "nbformat": 4,
 "nbformat_minor": 5
}
