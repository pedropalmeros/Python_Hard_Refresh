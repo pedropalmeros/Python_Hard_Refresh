{
 "cells": [
  {
   "cell_type": "markdown",
   "id": "6459728e",
   "metadata": {},
   "source": [
    "Given the names and grades for each student in a class of N students, store them in a nested list and print the name(s) of any student(s) having the second lowest grade.\n",
    "\n",
    "**Note:** If there are multiple students with the second lowest grade, order their names alphabetically and print each name on a new line\n",
    "\n",
    "**Example**\n",
    "```\n",
    "records = [[\"chi\",20.0], [\"beta\",50.0],[\"alpha\",50.0]\n",
    "```\n",
    "The ordered list of scores is `[20.0, 50.0]`, so the second lowest score is `50.0`. There are two students with that score: `[\"beta\",\"alpha\"]`. Ordered alphabetically, the names are printed as: \n",
    "```\n",
    "alpha\n",
    "beta\n",
    "```"
   ]
  },
  {
   "cell_type": "code",
   "execution_count": 19,
   "id": "42fa8bc4",
   "metadata": {},
   "outputs": [],
   "source": [
    "data = [[\"Harry\",20.21],[\"Berry\",20.21],[\"Tina\",37.2],[\"Akriti\",37.2],[\"Harash\",39]]"
   ]
  },
  {
   "cell_type": "code",
   "execution_count": 21,
   "id": "2e74e2a4",
   "metadata": {},
   "outputs": [
    {
     "name": "stdout",
     "output_type": "stream",
     "text": [
      "Akriti\n",
      "Tina\n"
     ]
    }
   ],
   "source": [
    "lower_students = []\n",
    "first_min = 100\n",
    "second_min = 100\n",
    "for [student, current_score] in data:\n",
    "    if current_score < first_min:\n",
    "        lower_students.clear()\n",
    "        first_min = current_score\n",
    "    elif current_score > first_min and current_score < second_min:\n",
    "        lower_students.clear()\n",
    "        second_min = current_score\n",
    "        lower_students.append(student)\n",
    "    elif current_score > first_min and current_score == second_min:\n",
    "        lower_students.append(student)\n",
    "    \n",
    "lower_students = sorted(lower_students)\n",
    "\n",
    "for student in lower_students:\n",
    "    print(student)"
   ]
  },
  {
   "cell_type": "code",
   "execution_count": null,
   "id": "eeec94e8",
   "metadata": {},
   "outputs": [],
   "source": []
  }
 ],
 "metadata": {
  "kernelspec": {
   "display_name": "Python 3 (ipykernel)",
   "language": "python",
   "name": "python3"
  },
  "language_info": {
   "codemirror_mode": {
    "name": "ipython",
    "version": 3
   },
   "file_extension": ".py",
   "mimetype": "text/x-python",
   "name": "python",
   "nbconvert_exporter": "python",
   "pygments_lexer": "ipython3",
   "version": "3.11.5"
  }
 },
 "nbformat": 4,
 "nbformat_minor": 5
}
