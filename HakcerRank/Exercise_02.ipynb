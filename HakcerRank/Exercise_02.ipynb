{
 "cells": [
  {
   "cell_type": "markdown",
   "id": "ddd72530",
   "metadata": {},
   "source": [
    "The provided code stube will read in a dictionary containing key/value pairs of name:[marks] for a list of students. Print in the average of the marks array for the student name provided, showing 2 places after the decimal.\n",
    "\n",
    "**Example**\n",
    "marks key: value pairs are \n",
    "`alpha`:[20, 30, 40]\n",
    "`beta`:[30,50,70]\n",
    "query_name = `beta`\n",
    "\n",
    "The **query_name** is `beta`. `beta`s average score is $\\frac{30+50+70}{30}$.\n"
   ]
  },
  {
   "cell_type": "code",
   "execution_count": 9,
   "id": "2a4b8882",
   "metadata": {},
   "outputs": [],
   "source": [
    "student_marks = {'Krishna':[67.0, 68.0, 69.0], 'Arjun':[70.0, 98.0, 63.0], 'Malika':[52.0, 56.0, 60.0]}\n",
    "query_name = \"Malika\""
   ]
  },
  {
   "cell_type": "code",
   "execution_count": 11,
   "id": "0c733a79",
   "metadata": {},
   "outputs": [
    {
     "name": "stdout",
     "output_type": "stream",
     "text": [
      "56.00\n"
     ]
    }
   ],
   "source": [
    "Notes = student_marks.get(query_name,[0])\n",
    "average = sum(Notes)/len(Notes)\n",
    "print(\"{:.2f}\".format(average))"
   ]
  },
  {
   "cell_type": "code",
   "execution_count": null,
   "id": "c02cab49",
   "metadata": {},
   "outputs": [],
   "source": []
  }
 ],
 "metadata": {
  "kernelspec": {
   "display_name": "Python 3 (ipykernel)",
   "language": "python",
   "name": "python3"
  },
  "language_info": {
   "codemirror_mode": {
    "name": "ipython",
    "version": 3
   },
   "file_extension": ".py",
   "mimetype": "text/x-python",
   "name": "python",
   "nbconvert_exporter": "python",
   "pygments_lexer": "ipython3",
   "version": "3.11.5"
  }
 },
 "nbformat": 4,
 "nbformat_minor": 5
}
