{
 "cells": [
  {
   "cell_type": "markdown",
   "id": "3d4e528e",
   "metadata": {},
   "source": [
    "Given the names and grades for each student in a class of N students, store them in a nested list and print the name(s) of any student(s) having the second lowest grade.\n",
    "\n",
    "**Note:** If there are multiple students with the second lowest grade, order their names alphabetically and print each name on a new line\n",
    "\n",
    "**Example**\n",
    "```\n",
    "records = [[\"chi\",20.0], [\"beta\",50.0],[\"alpha\",50.0]\n",
    "```\n",
    "The ordered list of scores is `[20.0, 50.0]`, so the second lowest score is `50.0`. There are two students with that score: `[\"beta\",\"alpha\"]`. Ordered alphabetically, the names are printed as: \n",
    "```\n",
    "alpha\n",
    "beta\n",
    "```"
   ]
  },
  {
   "cell_type": "code",
   "execution_count": 32,
   "id": "755eeca7",
   "metadata": {},
   "outputs": [
    {
     "name": "stdout",
     "output_type": "stream",
     "text": [
      "37.21\n"
     ]
    }
   ],
   "source": [
    "data = [[\"Harry\",37.21],[\"Berry\",37.21],[\"Tina\",37.2],[\"Akriti\",41],[\"Harash\",39]]\n",
    "scores = [score for [student,score] in data]\n",
    "scores = sorted(scores, reverse = False)\n",
    "second_min =0\n",
    "for score in scores:\n",
    "    if score > scores[0]:\n",
    "        second_min = score\n",
    "        break\n",
    "lower_students = []\n",
    "for [name,score] in data:\n",
    "    if score == second_min:\n",
    "        lower_students.append(name)\n",
    "lower_students = sorted(lower_students)\n",
    "for student in lower_students:\n",
    "    print(student)       "
   ]
  },
  {
   "cell_type": "code",
   "execution_count": 34,
   "id": "9c144ce6",
   "metadata": {},
   "outputs": [
    {
     "name": "stdout",
     "output_type": "stream",
     "text": [
      "Berry\n",
      "Harry\n"
     ]
    }
   ],
   "source": [
    "lower_students = []\n",
    "for [name,score] in data:\n",
    "    if score == second_min:\n",
    "        lower_students.append(name)\n",
    "lower_students = sorted(lower_students)\n",
    "for student in lower_students:\n",
    "    print(student)"
   ]
  },
  {
   "cell_type": "code",
   "execution_count": null,
   "id": "0b19d98b",
   "metadata": {},
   "outputs": [],
   "source": []
  },
  {
   "cell_type": "code",
   "execution_count": null,
   "id": "2303adfc",
   "metadata": {},
   "outputs": [],
   "source": []
  }
 ],
 "metadata": {
  "kernelspec": {
   "display_name": "Python 3 (ipykernel)",
   "language": "python",
   "name": "python3"
  },
  "language_info": {
   "codemirror_mode": {
    "name": "ipython",
    "version": 3
   },
   "file_extension": ".py",
   "mimetype": "text/x-python",
   "name": "python",
   "nbconvert_exporter": "python",
   "pygments_lexer": "ipython3",
   "version": "3.11.5"
  }
 },
 "nbformat": 4,
 "nbformat_minor": 5
}
