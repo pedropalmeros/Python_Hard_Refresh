{
 "cells": [
  {
   "cell_type": "markdown",
   "id": "11c7df28",
   "metadata": {},
   "source": [
    "# Numpy - Creating and saving NumPy `ndarrays`\n",
    "\n",
    "## 1. Introduction\n",
    "At the core of Numpy is the **ndarray**, where *nd* stands for *n-dimensional*. An `ndarray`is a multidimentional array of elements all of the same type. In other words, an ndarray is a grid that can take on many shapes and can hold eighter numbers or srings. In many Machine Learning problems you will often find yourself using ndarrays in many different ways. For instance, you might use an ndarray to hold the pixel values of an image that will be fed into a Neural Netwrok for image classificaion.\n",
    "\n",
    "But before we can dive in and strart using NumPy to create ndarrays we need o import it into Python. We can import packages into Python using the `import`command and it has become a convertion to import NumPy as `np`. Therefore, you can import Numpy as it is shown in the cell below."
   ]
  },
  {
   "cell_type": "code",
   "execution_count": 1,
   "id": "0ce599c3",
   "metadata": {},
   "outputs": [],
   "source": [
    "import numpy as np \n",
    "\n"
   ]
  },
  {
   "cell_type": "markdown",
   "id": "ec151c5c",
   "metadata": {},
   "source": [
    "## 2. Creating NumPy ndarrays\n",
    "\n",
    "There are several ways to create ndarrays in NumPy. In the following lessons we will se two ways o creat ndarrays:\n",
    "\n",
    "1. Using regular Python lists.\n",
    "2. Using built-in NumPy functions.\n",
    "\n",
    "In this section, is explained the creation of ndarrays by providing Python lists to the NumPy `np.array()` function. This can create some confusion for beginners, but it is important to remember that `np.array()` **is NOT A CLASS**, it is just a function that returns an ndarray. We should noe that for the purposes of clarity, the examples throughout these lessons will use small and simple ndarrays. Let's start by creating 1-Dimensional (1D) ndarrays."
   ]
  },
  {
   "cell_type": "code",
   "execution_count": null,
   "id": "62db5c72",
   "metadata": {},
   "outputs": [],
   "source": [
    "x = np.array([1,2,3,4,5])"
   ]
  },
  {
   "cell_type": "code",
   "execution_count": 2,
   "id": "7077f486",
   "metadata": {},
   "outputs": [
    {
     "name": "stdout",
     "output_type": "stream",
     "text": [
      "[1 2 3 4 5]\n",
      "<class 'numpy.ndarray'>\n"
     ]
    }
   ],
   "source": [
    "print(x)\n",
    "print(type(x))"
   ]
  },
  {
   "cell_type": "markdown",
   "id": "6677afeb",
   "metadata": {},
   "source": [
    "## 3. Rank of an Array(numpy.ndarray.ndim)\n",
    "\n",
    "Syntax:\n",
    "```\n",
    "ndarry.ndim\n",
    "```\n",
    "\n",
    "It returns the number of arrays dimensions, but not the dimensions (number of elements stored in the array), but the meaning has the mathematical approach. We refer to 1D arrays as *rank 1* arrays. In general N-Dimensional arrays have rank *N*. Therefore, we refer to a 2D array as rank 2 array. "
   ]
  },
  {
   "cell_type": "code",
   "execution_count": 24,
   "id": "99fc4f0a",
   "metadata": {},
   "outputs": [
    {
     "data": {
      "text/plain": [
       "2"
      ]
     },
     "execution_count": 24,
     "metadata": {},
     "output_type": "execute_result"
    }
   ],
   "source": [
    "## 1-D array\n",
    "x = np.array([1,2,3])\n",
    "x.ndim\n",
    "\n",
    "## 2-D array\n",
    "y = np.array([[1,2,3,],[4,5,6],[7,8,9],[10,11,12]])\n",
    "y.ndim\n"
   ]
  },
  {
   "cell_type": "markdown",
   "id": "0ae3f126",
   "metadata": {},
   "source": [
    "Here the `zeros()` is an inbuilt function that it will be explained in detail in the next section. In `y = np.zeros((2,3,4))` represents the shape of the ndarray\n"
   ]
  },
  {
   "cell_type": "code",
   "execution_count": 25,
   "id": "a9478569",
   "metadata": {},
   "outputs": [
    {
     "name": "stdout",
     "output_type": "stream",
     "text": [
      "[[[0. 0. 0. 0.]\n",
      "  [0. 0. 0. 0.]\n",
      "  [0. 0. 0. 0.]]\n",
      "\n",
      " [[0. 0. 0. 0.]\n",
      "  [0. 0. 0. 0.]\n",
      "  [0. 0. 0. 0.]]]\n"
     ]
    },
    {
     "data": {
      "text/plain": [
       "3"
      ]
     },
     "execution_count": 25,
     "metadata": {},
     "output_type": "execute_result"
    }
   ],
   "source": [
    "y = np.zeros((2,3,4))\n",
    "print(y)\n",
    "y.ndim"
   ]
  },
  {
   "cell_type": "markdown",
   "id": "824b3a4b",
   "metadata": {},
   "source": [
    "## 4. numpy.ndarray.shape\n",
    "\n",
    "Syntax:\n",
    "```\n",
    "ndarray.shape\n",
    "```\n",
    "It returns a tuple representng the array dimensions.\n",
    "\n",
    "Another important property of arrays is their shape. The shape of an array is the size along each of tis dimensions. For example, the sape of a rank 2 array sill correspond to the number of *rows* and *columns* of the array. As you will see, NumPy ndarrays have *attributes* that allows us to get information about them in a very intuitive way. For example, the sape of an ndarray can be obtained using `.shape` attribute. The shape attribute return a tuple of N positive integers that specify the sizes of each dimension. \n",
    "\n",
    "\n",
    "## 5. numpy.dtype\n",
    "The **type** tell us the data-type of the elements. Remember, a NumPy array is homogeneous, meaning all elements will have the same data-type. In the example below a 1-rank array is declarad and its attributes are shown. "
   ]
  },
  {
   "cell_type": "code",
   "execution_count": 26,
   "id": "6aa39814",
   "metadata": {},
   "outputs": [
    {
     "name": "stdout",
     "output_type": "stream",
     "text": [
      "x =  [1 2 3 4 5]\n",
      "x has dimensions:  (5,)\n",
      "x is an object of type:  <class 'numpy.ndarray'>\n",
      "The elements in x are of type:  int32\n"
     ]
    }
   ],
   "source": [
    "x = np.array([1,2,3,4,5])\n",
    "\n",
    "print('x = ', x)\n",
    "print('x has dimensions: ', x.shape)\n",
    "print('x is an object of type: ', type(x))\n",
    "print('The elements in x are of type: ', x.dtype)"
   ]
  },
  {
   "cell_type": "markdown",
   "id": "d01d37c3",
   "metadata": {},
   "source": [
    "It cam be seen that the shape attribute returns the tuple `(5,)` telling us that `x` is of rank 1 (i.e `x` only has 1 dimension) and it has 5 elements. The `type()` function tells us that `x` is indeed a NumPy ndarray. Finally, the `.dtype` attribute tells us that the elements of `x` are instored in memory as *signed 32-bit integers*. Another great advantage of NumPy is that i can handle more data-types than Python lists.\n",
    "\n",
    "AS mentioned earlier, ndarrays can also hold strings,"
   ]
  },
  {
   "cell_type": "code",
   "execution_count": 3,
   "id": "ec8de47f",
   "metadata": {},
   "outputs": [
    {
     "data": {
      "text/plain": [
       "dtype('int32')"
      ]
     },
     "execution_count": 3,
     "metadata": {},
     "output_type": "execute_result"
    }
   ],
   "source": [
    "x.dtype"
   ]
  },
  {
   "cell_type": "code",
   "execution_count": 5,
   "id": "dded20d5",
   "metadata": {},
   "outputs": [
    {
     "data": {
      "text/plain": [
       "(5,)"
      ]
     },
     "execution_count": 5,
     "metadata": {},
     "output_type": "execute_result"
    }
   ],
   "source": [
    "x.shape"
   ]
  },
  {
   "cell_type": "code",
   "execution_count": 10,
   "id": "6881e054",
   "metadata": {},
   "outputs": [
    {
     "name": "stdout",
     "output_type": "stream",
     "text": [
      "[[ 1  2  3]\n",
      " [ 4  5  6]\n",
      " [ 7  8  9]\n",
      " [10 11 12]]\n"
     ]
    }
   ],
   "source": [
    "y = np.array([[1,2,3],[4,5,6],[7,8,9],[10,11,12]])\n",
    "print(y)"
   ]
  },
  {
   "cell_type": "code",
   "execution_count": 11,
   "id": "3402c82a",
   "metadata": {},
   "outputs": [
    {
     "data": {
      "text/plain": [
       "(4, 3)"
      ]
     },
     "execution_count": 11,
     "metadata": {},
     "output_type": "execute_result"
    }
   ],
   "source": [
    "y.shape"
   ]
  },
  {
   "cell_type": "code",
   "execution_count": 12,
   "id": "9cd84776",
   "metadata": {},
   "outputs": [
    {
     "data": {
      "text/plain": [
       "12"
      ]
     },
     "execution_count": 12,
     "metadata": {},
     "output_type": "execute_result"
    }
   ],
   "source": [
    "y.size"
   ]
  },
  {
   "cell_type": "code",
   "execution_count": 13,
   "id": "8791eb1c",
   "metadata": {},
   "outputs": [
    {
     "name": "stdout",
     "output_type": "stream",
     "text": [
      "['Hello' 'World']\n"
     ]
    }
   ],
   "source": [
    "x = np.array(['Hello','World'])\n",
    "print(x)"
   ]
  },
  {
   "cell_type": "code",
   "execution_count": 14,
   "id": "6454a3ea",
   "metadata": {},
   "outputs": [
    {
     "name": "stdout",
     "output_type": "stream",
     "text": [
      "shape:  (2,)\n",
      "type:  <class 'numpy.ndarray'>\n",
      "dtyp:  <U5\n"
     ]
    }
   ],
   "source": [
    "print('shape: ', x.shape)\n",
    "print('type: ', type(x))\n",
    "print('dtyp: ', x.dtype)"
   ]
  },
  {
   "cell_type": "code",
   "execution_count": 15,
   "id": "e884d764",
   "metadata": {},
   "outputs": [
    {
     "name": "stdout",
     "output_type": "stream",
     "text": [
      "['1' '2' 'World']\n",
      "shape:  (3,)\n",
      "type:  <class 'numpy.ndarray'>\n",
      "dtyp:  <U11\n"
     ]
    }
   ],
   "source": [
    "x = np.array([1,2,'World'])\n",
    "print(x)\n",
    "print('shape: ', x.shape)\n",
    "print('type: ', type(x))\n",
    "print('dtyp: ', x.dtype)\n",
    "\n",
    "#NOTE NP ARRAYS MUST CONTAIN ELEMENTS OF THE SAME TYPE"
   ]
  },
  {
   "cell_type": "code",
   "execution_count": 17,
   "id": "a3b6e829",
   "metadata": {},
   "outputs": [
    {
     "name": "stdout",
     "output_type": "stream",
     "text": [
      "[1.  2.5 4. ] float64\n"
     ]
    }
   ],
   "source": [
    "x = np.array([1, 2.5, 4])\n",
    "print(x, x.dtype)\n",
    "#Although there are integers in the array they are going to be treated as floats, this is upcasting"
   ]
  },
  {
   "cell_type": "code",
   "execution_count": 18,
   "id": "17566e2a",
   "metadata": {},
   "outputs": [
    {
     "name": "stdout",
     "output_type": "stream",
     "text": [
      "[1.5 2.2 3.7]\n",
      "dtype:  float64\n"
     ]
    }
   ],
   "source": [
    "x = np.array([1.5, 2.2, 3.7])\n",
    "print(x)\n",
    "print('dtype: ', x.dtype)"
   ]
  },
  {
   "cell_type": "code",
   "execution_count": 19,
   "id": "2c9da2d1",
   "metadata": {},
   "outputs": [],
   "source": [
    "x = np.array([1,2,3,4,5])\n",
    "np.save('my_array',x)"
   ]
  },
  {
   "cell_type": "code",
   "execution_count": 20,
   "id": "841ffadb",
   "metadata": {},
   "outputs": [
    {
     "name": "stdout",
     "output_type": "stream",
     "text": [
      "[1 2 3 4 5]\n"
     ]
    }
   ],
   "source": [
    "y = np.load('my_array.npy')\n",
    "print(y)"
   ]
  },
  {
   "cell_type": "code",
   "execution_count": null,
   "id": "534698d9",
   "metadata": {},
   "outputs": [],
   "source": []
  }
 ],
 "metadata": {
  "kernelspec": {
   "display_name": "Python 3 (ipykernel)",
   "language": "python",
   "name": "python3"
  },
  "language_info": {
   "codemirror_mode": {
    "name": "ipython",
    "version": 3
   },
   "file_extension": ".py",
   "mimetype": "text/x-python",
   "name": "python",
   "nbconvert_exporter": "python",
   "pygments_lexer": "ipython3",
   "version": "3.11.5"
  }
 },
 "nbformat": 4,
 "nbformat_minor": 5
}
