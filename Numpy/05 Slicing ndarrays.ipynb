{
 "cells": [
  {
   "cell_type": "markdown",
   "id": "c787d1b6",
   "metadata": {},
   "source": [
    "# Slicing arrays\n",
    "\n",
    "It has been meninonted, that we can access to individual elements one at a time, NumPy provides a way to access subsets of ndarrays. This is known as *slicing*. Slicing is performed by comibining indices with the colo `:` symbol inside the square brackets. In general you ill come across three types of slicing\n",
    "\n",
    "1. `ndarray[start:end]`\n",
    "2. `ndarray[start:]`\n",
    "3. `ndarray[:end]`\n",
    "\n",
    "The first method is used to select elements between the `start` and `end` indices.  The secondone is used to select all elements from the `start` index till the *last* index. The third method is used to select all elements from the *frist* index till the `end` index. We should note that in methods one and three, the end index is excluded. We should also note that since ndarrays canb e multidmensional, when doing slicing you ususally have to specify a slice for each dimension of the array. \n",
    "\n",
    "We will see some examples of how to use the above methods to select different subsets of rank 2 ndarray\n",
    "\n",
    "#### Example 1. Slicing a 2-D ndarray"
   ]
  },
  {
   "cell_type": "code",
   "execution_count": 3,
   "id": "f8969367",
   "metadata": {},
   "outputs": [
    {
     "name": "stdout",
     "output_type": "stream",
     "text": [
      "\n",
      "X = \n",
      " [[ 0  1  2  3  4]\n",
      " [ 5  6  7  8  9]\n",
      " [10 11 12 13 14]\n",
      " [15 16 17 18 19]]\n",
      "\n",
      "z = \n",
      " [[ 7  8  9]\n",
      " [12 13 14]\n",
      " [17 18 19]]\n",
      "\n",
      "w = \n",
      " [[ 7  8  9]\n",
      " [12 13 14]\n",
      " [17 18 19]]\n",
      "\n",
      "Y = \n",
      " [[ 2  3  4]\n",
      " [ 7  8  9]\n",
      " [12 13 14]]\n",
      "\n",
      "v = \n",
      " [10 11 12 13 14]\n",
      "\n",
      "q = \n",
      " [ 2  7 12 17]\n",
      "\n",
      "r = \n",
      " [[ 2]\n",
      " [ 7]\n",
      " [12]\n",
      " [17]]\n"
     ]
    }
   ],
   "source": [
    "import numpy as np\n",
    "\n",
    "# we create a 4 x 5 ndarray that contains integers from 0 to 19\n",
    "x = np.arange(20).reshape(4,5)\n",
    "\n",
    "# we print x\n",
    "print()\n",
    "print('X = \\n', x)\n",
    "print()\n",
    "\n",
    "# we select all the elements that are in the 2nd through 4th rows and in the 3re to 5th columns\n",
    "# (The 1st being index 0)\n",
    "z = x[1:4,2:5]\n",
    "\n",
    "# we print z \n",
    "print('z = \\n', z)\n",
    "\n",
    "\n",
    "# we can select the same elements as above using method 2\n",
    "w = x[1:,2:5]\n",
    "\n",
    "# we print w\n",
    "print()\n",
    "print('w = \\n', w)\n",
    "\n",
    "# we select all the elements that are in the 1st through 3rd rows and in the 3rd to 4th columns\n",
    "y = x[:3,2:5]\n",
    "\n",
    "# we print y\n",
    "print()\n",
    "print(f\"Y = \\n {y}\")\n",
    "\n",
    "# we select all the elements in the 3rd row\n",
    "v = x[2,:]\n",
    "\n",
    "# we print v\n",
    "print()\n",
    "print(f\"v = \\n {v}\")\n",
    "\n",
    "# we select all the elements in the 3rd column\n",
    "q = x[:,2]\n",
    "\n",
    "# we print q\n",
    "print()\n",
    "print(f\"q = \\n {q}\")\n",
    "\n",
    "# we select all the elements in the 3rd column but return a rank 2 array\n",
    "R = x[:,2:3]\n",
    "\n",
    "# we print r\n",
    "print()\n",
    "print(f\"r = \\n {R}\")\n",
    "\n"
   ]
  },
  {
   "cell_type": "markdown",
   "id": "b98abbd9",
   "metadata": {},
   "source": [
    "Notice that when we selected all the elements in the 3rd column, variable `q` above, the slice returned a rank 1 ndarray instead of a rank 2 ndarray. However, slicing `x` in a slightly different way, variable `R` above, we can actually get a rank 2 ndarray instead. \n",
    "\n",
    "It is important to note that when we perform slices on ndarrays and save them into new variables, as we did above, the data is not copied into the new variable. This is one feature that often causes confusion for beginners. Therefore, we will look at this in bit more detail.\n",
    "\n",
    "In the above examples, when we make assignments, such as: \n",
    "```\n",
    "z = x[1:4,2:5]\n",
    "```\n",
    "the slice of the original array `x` is not copied in the variable `z`. Rather, `x` and `z` are now just two different names for the same ndarray. We say that slicing only creates a *view* of the original array. this means that if you make changes in `z` you will be in effect changing the elements in `x` as well. Let's see this with an example:\n",
    "\n",
    "#### Example 2. Slicing and editing elements in a 2-D ndarray"
   ]
  },
  {
   "cell_type": "code",
   "execution_count": 4,
   "id": "b3763a9b",
   "metadata": {},
   "outputs": [
    {
     "name": "stdout",
     "output_type": "stream",
     "text": [
      "\n",
      "x = \n",
      " [[ 0  1  2  3  4]\n",
      " [ 5  6  7  8  9]\n",
      " [10 11 12 13 14]\n",
      " [15 16 17 18 19]]\n",
      "\n",
      "z = \n",
      " [[ 7  8  9]\n",
      " [12 13 14]\n",
      " [17 18 19]]\n",
      "\n",
      "x = \n",
      " [[  0   1   2   3   4]\n",
      " [  5   6   7   8   9]\n",
      " [ 10  11  12  13  14]\n",
      " [ 15  16  17  18 555]]\n"
     ]
    }
   ],
   "source": [
    "# we create a 4 x 5 ndarray that contains integers from 0 to 19\n",
    "x = np.arange(20).reshape(4,5)\n",
    "\n",
    "# we print x\n",
    "print()\n",
    "print(f'x = \\n {x}')\n",
    "\n",
    "# we select all the elements that are inthe 2nd through 4th rows and in the 3rd to 4th columns\n",
    "z = x[1:4,2:5]\n",
    "\n",
    "# we print z\n",
    "print()\n",
    "print(f'z = \\n {z}')\n",
    "\n",
    "# we change the last element in z to 555\n",
    "z[2,2]=555\n",
    "\n",
    "# we print x\n",
    "print()\n",
    "print(f'x = \\n {x}')\n"
   ]
  },
  {
   "cell_type": "markdown",
   "id": "8162caa4",
   "metadata": {},
   "source": [
    "we can clearly see in the above example that if we make changes to `z`, `x` changes as well.\n",
    "\n",
    "## numpy.ndarray.copy\n",
    "\n",
    "Syntax:\n",
    "```\n",
    "ndarray.copy(order='C')\n",
    "```\n",
    "It return a copy of the array.\n",
    "\n",
    "However, if we want to create a new ndarray that contains a copy of the values in the slice we need to use the `np.copy()` function. The `np.copy(ndarray)` function creates a copy of the given `ndarray`. This function can also be sued as a method, in the same way as we did before with the reshape function. Let's do the same example we did before but now with copies of the arrays. We'll use `copy` both as a function and as a method. \n",
    "\n",
    "#### Example 3. Demonstrate the `copy()` function"
   ]
  },
  {
   "cell_type": "code",
   "execution_count": 5,
   "id": "3ec0f82a",
   "metadata": {},
   "outputs": [
    {
     "name": "stdout",
     "output_type": "stream",
     "text": [
      "\n",
      "x: \n",
      " [[ 0  1  2  3  4]\n",
      " [ 5  6  7  8  9]\n",
      " [10 11 12 13 14]\n",
      " [15 16 17 18 19]] \n",
      "\n",
      "\n",
      "x: \n",
      " [[ 0  1  2  3  4]\n",
      " [ 5  6  7  8  9]\n",
      " [10 11 12 13 14]\n",
      " [15 16 17 18 19]] \n",
      "\n",
      "\n",
      "z: \n",
      " [[  7   8   9]\n",
      " [ 12  13  14]\n",
      " [ 17  18 555]] \n",
      "\n",
      "\n",
      "w: \n",
      " [[  7   8   9]\n",
      " [ 12  13  14]\n",
      " [ 17  18 444]] \n",
      "\n"
     ]
    }
   ],
   "source": [
    "# we create a 4 x 5 ndarray that contains integers from 0 to 19\n",
    "x = np.arange(20).reshape(4,5)\n",
    "\n",
    "# print x\n",
    "print()\n",
    "print(f\"x: \\n {x} \")\n",
    "print()\n",
    "\n",
    "# create a copy of the slice using the np.copy() function\n",
    "z = np.copy(x[1:4,2:5])\n",
    "\n",
    "# create a copy of the slice using copy as a method\n",
    "w = x[1:4,2:5].copy()\n",
    "\n",
    "# change the las elementin z to 555\n",
    "z[2,2] = 555\n",
    "\n",
    "# change the last element in w to 444\n",
    "w[2,2]=444\n",
    "\n",
    "# print x\n",
    "print()\n",
    "print(f\"x: \\n {x} \")\n",
    "print()\n",
    "\n",
    "# print z\n",
    "print()\n",
    "print(f\"z: \\n {z} \")\n",
    "print()\n",
    "\n",
    "# print w\n",
    "print()\n",
    "print(f\"w: \\n {w} \")\n",
    "print()\n"
   ]
  },
  {
   "cell_type": "markdown",
   "id": "1d12ac1e",
   "metadata": {},
   "source": [
    "We can clearly see that by using the `copy` command, we are creating new ndarrays that are completely independent of each other. \n",
    "\n",
    "It is often useful to use one ndarray to make slices, select, or change elements in another ndarray. Let's see some examples:\n",
    "\n",
    "#### Example 4a. use an array as indices to either make slices, select, or change elements"
   ]
  },
  {
   "cell_type": "code",
   "execution_count": 6,
   "id": "33117bf3",
   "metadata": {},
   "outputs": [
    {
     "name": "stdout",
     "output_type": "stream",
     "text": [
      "\n",
      "x: \n",
      " [[ 0  1  2  3  4]\n",
      " [ 5  6  7  8  9]\n",
      " [10 11 12 13 14]\n",
      " [15 16 17 18 19]] \n",
      "\n",
      "indices =  [1 3]\n",
      "\n",
      "\n",
      "y: \n",
      " [[ 5  6  7  8  9]\n",
      " [15 16 17 18 19]] \n",
      "\n",
      "z: \n",
      " [[ 1  3]\n",
      " [ 6  8]\n",
      " [11 13]\n",
      " [16 18]] \n"
     ]
    }
   ],
   "source": [
    "# we create a 4x5 ndarray that contains integers from 0 to 19\n",
    "x = np.arange(20).reshape(4,5)\n",
    "\n",
    "# create a rank 1 ndarray that will serve as indices to select elements from x\n",
    "indices = np.array([1,3])\n",
    "\n",
    "# print x\n",
    "print()\n",
    "print(f\"x: \\n {x} \")\n",
    "print()\n",
    "\n",
    "# print indices\n",
    "print('indices = ', indices)\n",
    "print()\n",
    "\n",
    "# use the indices ndarray to select the 2nd and 4th row of x\n",
    "y = x[indices,:]\n",
    "\n",
    "# use the indices ndarray to select the 2nd and 4th column of x\n",
    "z = x[:,indices]\n",
    "\n",
    "# print y\n",
    "print()\n",
    "print(f\"y: \\n {y} \")\n",
    "\n",
    "# print x\n",
    "print()\n",
    "print(f\"z: \\n {z} \")"
   ]
  },
  {
   "cell_type": "markdown",
   "id": "3b8f9dcf",
   "metadata": {},
   "source": [
    "#### Example 4b Use an array as indices to extract specific rows from a rank 2 ndarray"
   ]
  },
  {
   "cell_type": "code",
   "execution_count": 9,
   "id": "1f8ece4a",
   "metadata": {},
   "outputs": [
    {
     "name": "stdout",
     "output_type": "stream",
     "text": [
      "Shape of x is: (50, 5)\n",
      "[[17  2  5  1 15]\n",
      " [12 13  8 17 16]\n",
      " [17  2 14 11 15]\n",
      " [19  5  5 12 18]\n",
      " [19  9  6 16  5]\n",
      " [ 3 15  8 13 10]\n",
      " [ 9 13 16 18 17]\n",
      " [11  4  5 13 19]\n",
      " [10  8 12  8 14]\n",
      " [ 2 15  4  5  9]\n",
      " [14  8  6  1 12]\n",
      " [ 6 11 18  4  2]\n",
      " [ 5  2  5 13 10]\n",
      " [ 2  3  9  1 12]\n",
      " [ 8 14  7  3  7]\n",
      " [ 3  8  3  5  7]\n",
      " [ 3  4  7 13  8]\n",
      " [19  4 18  6  6]\n",
      " [ 3  7  5  7  4]\n",
      " [ 5 11  3 11 11]\n",
      " [19 14  9 17  7]\n",
      " [ 6  8  3  5 18]\n",
      " [ 3  4  9 13 11]\n",
      " [ 6  9  7 14  2]\n",
      " [13  6 17  8 10]\n",
      " [16 17  1 18 19]\n",
      " [ 5  5  8  1 17]\n",
      " [14  8 19 10 18]\n",
      " [ 7  5 19  3  1]\n",
      " [ 3  1  1  1  8]\n",
      " [18 11 17 17 15]\n",
      " [15 14 16 14 17]\n",
      " [11 16  5  6  5]\n",
      " [17 16  6  4 11]\n",
      " [19  6 11 17  2]\n",
      " [ 9 13 11 13 10]\n",
      " [13  6 14  1  3]\n",
      " [ 3 14 11 10  9]\n",
      " [ 3  5 18 18 19]\n",
      " [11 12 18 14  9]\n",
      " [11 19  8  5  5]\n",
      " [12 13 17 18 13]\n",
      " [10 18  5 11 14]\n",
      " [14  8 11 16 13]\n",
      " [15 13  2 12  8]\n",
      " [ 1  9 10  6 12]\n",
      " [ 4  4 12  8  2]\n",
      " [ 4 18 17  2  6]\n",
      " [ 9  5  3 11 17]\n",
      " [10  3  6 17 17]]\n"
     ]
    }
   ],
   "source": [
    "import numpy as np \n",
    "\n",
    "x = np.random.randint(1,20,size=(50,5))\n",
    "\n",
    "print(f\"Shape of x is: {x.shape}\")\n",
    "print(x)"
   ]
  },
  {
   "cell_type": "code",
   "execution_count": 10,
   "id": "31e823cd",
   "metadata": {},
   "outputs": [
    {
     "name": "stdout",
     "output_type": "stream",
     "text": [
      "Random 10 indices are:  [13  1 32 22 44  9 31  4 33 25]\n"
     ]
    }
   ],
   "source": [
    "# Create a rank 1 ndarray that contains a randomly 10 values between 0 to len(x) (50 )\n",
    "# The row_indices would represent the indices of rows of x\n",
    "row_indices = np.random.randint(0,50,size=10)\n",
    "print(f\"Random 10 indices are: \", row_indices)"
   ]
  },
  {
   "cell_type": "code",
   "execution_count": 11,
   "id": "6c510fa3",
   "metadata": {},
   "outputs": [
    {
     "name": "stdout",
     "output_type": "stream",
     "text": [
      "[[ 2  3  9  1 12]\n",
      " [12 13  8 17 16]\n",
      " [11 16  5  6  5]\n",
      " [ 3  4  9 13 11]\n",
      " [15 13  2 12  8]\n",
      " [ 2 15  4  5  9]\n",
      " [15 14 16 14 17]\n",
      " [19  9  6 16  5]\n",
      " [17 16  6  4 11]\n",
      " [16 17  1 18 19]]\n",
      "[[15 13  2 12  8]\n",
      " [ 2 15  4  5  9]\n",
      " [15 14 16 14 17]\n",
      " [19  9  6 16  5]]\n"
     ]
    }
   ],
   "source": [
    "# TODO 1 - Print those rows of x whose indices are represented by entire row_indices ndarray\n",
    "# Hint - use the row_indices ndarray to select specified rows of x\n",
    "x_subset = x[row_indices,:]\n",
    "print(x_subset)\n",
    "\n",
    "# TODO 2- print those rows of x whose indeces are present in row_indices[4:8]\n",
    "x_subset = x[row_indices[4:8],:]\n",
    "print(x_subset)"
   ]
  },
  {
   "cell_type": "markdown",
   "id": "93350ae1",
   "metadata": {},
   "source": [
    "## numpy.diag\n",
    "\n",
    "Syntax:\n",
    "\n",
    "```\n",
    "numpy.diag(array, k=0)\n",
    "```\n",
    "It extracts or constructs the diagonal elements. \n",
    "\n",
    "NumPy also offers built-in functions to select specific elements within ndarrays. for example., the `np.diag(ndarray, k=N)` function extracts the elements along the `diagonal` devined by `N`. As default is `k=0`, which referes tot the main diagonal. Values of `k > 0` are used to select elements in diagonals above the main diagonal, and values of `k < 0` are used to select elements in diagonals below the main diagonal. Let's see an example:\n",
    "\n",
    "#### Example 5. Demonstrate the `diag()` function\n"
   ]
  },
  {
   "cell_type": "code",
   "execution_count": 12,
   "id": "c831997a",
   "metadata": {},
   "outputs": [
    {
     "name": "stdout",
     "output_type": "stream",
     "text": [
      "\n",
      "x = \n",
      "[[ 0  1  2  3  4]\n",
      " [ 5  6  7  8  9]\n",
      " [10 11 12 13 14]\n",
      " [15 16 17 18 19]\n",
      " [20 21 22 23 24]]\n",
      "\n",
      "z = \n",
      " [ 0  6 12 18 24]\n",
      "\n",
      "y = \n",
      " [ 1  7 13 19]\n",
      "\n",
      "w =  [ 5 11 17 23]\n"
     ]
    }
   ],
   "source": [
    "# Create  a 5x5 ndarray that contains integers from 0 to 24\n",
    "x = np.arange(25).reshape(5,5)\n",
    "\n",
    "# print x \n",
    "print()\n",
    "print(f\"x = \\n{x}\")\n",
    "print()\n",
    "\n",
    "# print the elements in the main diagonal of x\n",
    "print(f\"z = \\n {np.diag(x)}\")\n",
    "print()\n",
    "\n",
    "# print the elements above the main diagonal of x \n",
    "print(f\"y = \\n {np.diag(x, k=1)}\")\n",
    "print()\n",
    "\n",
    "#print the elements velow the main diagonal of x\n",
    "print(f\"w = \", np.diag(x, k=-1))"
   ]
  },
  {
   "cell_type": "markdown",
   "id": "d53b65c1",
   "metadata": {},
   "source": [
    "## Nunpy.unique\n",
    "\n",
    "Syntax:\n",
    "```\n",
    "numpy.unique(array, return_index=False, return_inverse=False, return_counts = False, axis = None)\n",
    "```\n",
    "\n",
    "It returns the sorted unique elements of an array.\n",
    "\n",
    "It is often useful to extract only the unique elements in a n ndarray. We can find the unique elements in an ndarray by using the `np.unique()` function. The `np.unique(ndarray)` function returns the `unique` elements in the given `ndarray`, as in the example below\n",
    "\n",
    "#### Example 6. Demonstrate the `unique()` function\n",
    "\n"
   ]
  },
  {
   "cell_type": "code",
   "execution_count": 13,
   "id": "09a7e4b3",
   "metadata": {},
   "outputs": [
    {
     "name": "stdout",
     "output_type": "stream",
     "text": [
      "\n",
      "x = \n",
      " [[1 2 3]\n",
      " [5 2 8]\n",
      " [1 2 3]]\n",
      "\n",
      "The unique elements in x are:  [1 2 3 5 8]\n"
     ]
    }
   ],
   "source": [
    "# create a 3x3 ndarray with repeated values\n",
    "x = np.array([[1,2,3],[5,2,8],[1,2,3]])\n",
    "\n",
    "# print x\n",
    "print()\n",
    "print('x = \\n',x)\n",
    "print()\n",
    "\n",
    "\n",
    "# print the unique elements in the x are\n",
    "print('The unique elements in x are: ', np.unique(x))\n"
   ]
  },
  {
   "cell_type": "code",
   "execution_count": null,
   "id": "1a4b6be8",
   "metadata": {},
   "outputs": [],
   "source": []
  }
 ],
 "metadata": {
  "kernelspec": {
   "display_name": "Python 3 (ipykernel)",
   "language": "python",
   "name": "python3"
  },
  "language_info": {
   "codemirror_mode": {
    "name": "ipython",
    "version": 3
   },
   "file_extension": ".py",
   "mimetype": "text/x-python",
   "name": "python",
   "nbconvert_exporter": "python",
   "pygments_lexer": "ipython3",
   "version": "3.11.5"
  }
 },
 "nbformat": 4,
 "nbformat_minor": 5
}
