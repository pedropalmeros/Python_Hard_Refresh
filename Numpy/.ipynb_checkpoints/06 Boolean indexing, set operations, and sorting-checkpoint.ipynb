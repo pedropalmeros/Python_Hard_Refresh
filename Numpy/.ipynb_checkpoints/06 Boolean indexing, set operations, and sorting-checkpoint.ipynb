{
 "cells": [
  {
   "cell_type": "markdown",
   "id": "8ff752d2",
   "metadata": {},
   "source": [
    "# Introduction\n",
    "\n",
    "Up oto now we have seen how to make slices and select elements of an ndarray sing indices. This is useful when we know the exact indices of the elements we sant to select. hosever, there are many situations in which we don't know the indices of the elements we weant to select. For example, suppose we have a 10000 x 10000 ndarray of random integers ranging from 1 to 15000 and we only want to select those integers that are less than 20.Boolean indexig can help us in these cases, by allowing us select elements unsing logical arguments instead of explicit indices. Let's see some examples. \n",
    "\n",
    "#### Example 1. Boolean indexig\n"
   ]
  },
  {
   "cell_type": "code",
   "execution_count": 2,
   "id": "0df1abfd",
   "metadata": {},
   "outputs": [
    {
     "name": "stdout",
     "output_type": "stream",
     "text": [
      "\n",
      "Original x = \n",
      " [[ 0  1  2  3  4]\n",
      " [ 5  6  7  8  9]\n",
      " [10 11 12 13 14]\n",
      " [15 16 17 18 19]\n",
      " [20 21 22 23 24]]\n",
      "\n",
      "The elements in x that are greater than 10: [11 12 13 14 15 16 17 18 19 20 21 22 23 24]\n",
      "The elements in x that are less than or equal to 7:  [0 1 2 3 4 5 6 7]\n",
      "The elements in x that are between 10 and 17:  [11 12 13 14 15 16]\n",
      "\n",
      "x = \n",
      " [[ 0  1  2  3  4]\n",
      " [ 5  6  7  8  9]\n",
      " [10 -1 -1 -1 -1]\n",
      " [-1 -1 17 18 19]\n",
      " [20 21 22 23 24]]\n",
      "\n"
     ]
    }
   ],
   "source": [
    "import numpy as np\n",
    "\n",
    "# we create a 5x5 ndarray that contains integers from 0 to 24\n",
    "x = np.arange(25).reshape(5,5)\n",
    "\n",
    "# we print x\n",
    "print()\n",
    "print('Original x = \\n',x)\n",
    "print()\n",
    "\n",
    "print('The elements in x that are greater than 10:', x[x > 10])\n",
    "print('The elements in x that are less than or equal to 7: ',x[x <= 7])\n",
    "print('The elements in x that are between 10 and 17: ', x[(x > 10) & (x < 17)])\n",
    "\n",
    "# we use boolean indexing to assign the elements that are between 10 and 17 the value of -1\n",
    "x[(x > 10 ) & (x < 17)] = -1\n",
    "\n",
    "# print x\n",
    "print()\n",
    "print('x = \\n', x)\n",
    "print()\n",
    "\n"
   ]
  },
  {
   "cell_type": "markdown",
   "id": "c2975a70",
   "metadata": {},
   "source": [
    "IN addition to Boolean indexing NumPy also allows for set operations. This is useful when comparing ndarrays, for example, to find common elements between two ndarrays. Let's see some examples\n",
    "\n",
    "#### Example 2. Set operations\n"
   ]
  },
  {
   "cell_type": "code",
   "execution_count": 4,
   "id": "29f6568c",
   "metadata": {},
   "outputs": [
    {
     "name": "stdout",
     "output_type": "stream",
     "text": [
      "\n",
      "x = \n",
      " [1 2 3 4 5]\n",
      "\n",
      "y = \n",
      " [6 7 2 8 4]\n",
      "\n",
      "The elements that are both in x and y: [2 4]\n",
      "The elements that are in x that are not in y [1 3 5]\n",
      "All elements of x and y:  [1 2 3 4 5 6 7 8]\n"
     ]
    }
   ],
   "source": [
    "# create a rank 1 ndarray\n",
    "x = np.array([1,2,3,4,5])\n",
    "\n",
    "# create a rank 1 ndarray\n",
    "y = np.array([6,7,2,8,4])\n",
    "\n",
    "\n",
    "# print x \n",
    "print()\n",
    "print('x = \\n', x)\n",
    "\n",
    "# print y \n",
    "print()\n",
    "print('y = \\n', y)\n",
    "\n",
    "# use set operations to compare x and y\n",
    "print()\n",
    "print('The elements that are both in x and y:', np.intersect1d(x,y))\n",
    "print('The elements that are in x that are not in y', np.setdiff1d(x,y))\n",
    "print('All elements of x and y: ', np.union1d(x,y))"
   ]
  },
  {
   "cell_type": "markdown",
   "id": "6ceccea8",
   "metadata": {},
   "source": [
    "## Numpy.ndarray.sort method\n",
    "\n",
    "Syntax:\n",
    "```\n",
    "ndarray.sort(axis=-1, kind=None, order=None)\n",
    "```\n",
    "The method above srots an array in-place\n",
    "\n",
    "Like with other functions we saw before, the `sort` can be used as a method as well as a function. The difference lies in how the data is stored in memory in this case. \n",
    "- When `numpy.sort()` is used a function, it sorts the ndarrays out of place, meaning, that it doesn't change the original ndarray being sorted.\n",
    "- On the other hand, when you use `numpy.ndarray.sort()` as a method, `ndarray.sort()` sorts the ndarray in place, meaning that the original array will be changed to the sorted one. \n",
    "\n",
    "Let's see some examples:\n",
    "#### Example 3. Sort arrays using sort() function"
   ]
  },
  {
   "cell_type": "code",
   "execution_count": 5,
   "id": "258965b6",
   "metadata": {},
   "outputs": [
    {
     "name": "stdout",
     "output_type": "stream",
     "text": [
      "\n",
      "Original x=  [ 9 10  7 10  9  8  9 10  1  1]\n",
      "\n",
      "Sorted x (out of place):  [ 1  1  7  8  9  9  9 10 10 10]\n",
      "\n",
      "x after sorting:  [ 9 10  7 10  9  8  9 10  1  1]\n"
     ]
    }
   ],
   "source": [
    "# create an unsorted rank 1 ndarray\n",
    "x = np.random.randint(1,11, size=(10,))\n",
    "\n",
    "#print x\n",
    "print()\n",
    "print('Original x= ', x)\n",
    "\n",
    "# sort x and print the sorted array using sort as a function\n",
    "print()\n",
    "print('Sorted x (out of place): ',np.sort(x))\n",
    "\n",
    "# when we sort out of place the original array remains intact. To see this print x again.\n",
    "print()\n",
    "print('x after sorting: ',x)"
   ]
  },
  {
   "cell_type": "markdown",
   "id": "a367240d",
   "metadata": {},
   "source": [
    "Notice that `np.sort()` sorts the array but, if the ndarray being sorted has repeated values, `np.sort()` leaves those values in the sorted array. However, if desired, we can use the `unique()` function. Let's see how we can sort the unique elements of `x` above:\n"
   ]
  },
  {
   "cell_type": "code",
   "execution_count": 6,
   "id": "d5fceecb",
   "metadata": {},
   "outputs": [
    {
     "name": "stdout",
     "output_type": "stream",
     "text": [
      "[ 1  7  8  9 10]\n"
     ]
    }
   ],
   "source": [
    "print(np.unique(x))"
   ]
  },
  {
   "cell_type": "markdown",
   "id": "9c61a781",
   "metadata": {},
   "source": [
    "Finally, let's see how we can sort ndarrays in place, by using sort as a method.\n",
    "\n",
    "#### Example 4. Sort rank-1 arrays using `sort()` method"
   ]
  },
  {
   "cell_type": "code",
   "execution_count": 7,
   "id": "66c860d3",
   "metadata": {},
   "outputs": [
    {
     "name": "stdout",
     "output_type": "stream",
     "text": [
      "\n",
      "Original x=  [1 2 6 1 6 7 6 4 5 3]\n",
      "\n",
      "x after sorting: [1 1 2 3 4 5 6 6 6 7]\n"
     ]
    }
   ],
   "source": [
    "# create an unsorted rank 1 ndarray\n",
    "x = np.random.randint(1,11,size=(10,))\n",
    "\n",
    "# print x\n",
    "print()\n",
    "print('Original x= ',x )\n",
    "\n",
    "# sort x and print the sorted array using sort as a method\n",
    "x.sort()\n",
    "\n",
    "# when we sort in place the original array is changed to the sorted array. To see this we print x again\n",
    "print()\n",
    "print('x after sorting:', x)\n"
   ]
  },
  {
   "cell_type": "markdown",
   "id": "84dc410f",
   "metadata": {},
   "source": [
    "## numpy.sort function\n",
    "Syntax:\n",
    "\n",
    "```\n",
    "numpy.sort(array, axis=-1, kind=None, order=None)\n",
    "```\n",
    "It returns a sorted copy of an array. The `axis` denotes the axis along which to sort. It can take values in the range `-1` to `(ndim-1)`. Axis can take the following possible values for a given 2-D ndarray:\n",
    "- If nothing is specified, the default value is `axis=-1`, which sorts along the **last** axis. In the case of a given 2-D ndarray, the las axis value is `1`.\n",
    "- If explicitly `axis=None` is specified, the array is flattened before sorting. It will return a 1-D array.\n",
    "- If `axis=0` is specified for a given 2-D array - For oone colume at a time, the function will sort all rows, without distrubing other elements. In the final output, *you will see that each column has been sorted individually\n",
    "- The output of `axis=1` for a given 2-D array is vice-versa for `axis=0`. In the final output, *you will se that each row has been sorted individually\n",
    "\n",
    "\n",
    "***Tip** you can read the `axis=0` as **down** and `axis=1` as **across** the given 2-D array, to have a correct usage in you methods/functions*\n",
    "\n",
    "When sorting rank 2 ndarrays, we need to specify to the `np.sort()` function whether we are sorting by rows or columns. This is done by using the `axis` keyword. \n",
    "\n",
    "#### Example 5. Sort rank-2 arrays by specific axis."
   ]
  },
  {
   "cell_type": "code",
   "execution_count": 9,
   "id": "1f2ba6ff",
   "metadata": {},
   "outputs": [
    {
     "ename": "SyntaxError",
     "evalue": "positional argument follows keyword argument (3783967411.py, line 2)",
     "output_type": "error",
     "traceback": [
      "\u001b[1;36m  Cell \u001b[1;32mIn[9], line 2\u001b[1;36m\u001b[0m\n\u001b[1;33m    x = np.random.randint(1,11,size=5,5)\u001b[0m\n\u001b[1;37m                                       ^\u001b[0m\n\u001b[1;31mSyntaxError\u001b[0m\u001b[1;31m:\u001b[0m positional argument follows keyword argument\n"
     ]
    }
   ],
   "source": [
    "# create an unsorted rank 2 ndarray\n",
    "x = np.random.randint(1,11,size=(5,5))\n",
    "\n",
    "# print x\n",
    "print()\n",
    "print('Original x = \\n', x)\n",
    "print()\n",
    "\n",
    "# sort the columns of x and print the sorted array\n",
    "print()\n",
    "print('x with sorted columns: \\n', np.sort(x, axis=0))\n",
    "\n",
    "# sort the rows ofxx and print the sorted array\n",
    "print()\n",
    "print('X with sorted rows: \\n', np.sort(x , axis =1 ))"
   ]
  },
  {
   "cell_type": "code",
   "execution_count": null,
   "id": "40764f31",
   "metadata": {},
   "outputs": [],
   "source": []
  }
 ],
 "metadata": {
  "kernelspec": {
   "display_name": "Python 3 (ipykernel)",
   "language": "python",
   "name": "python3"
  },
  "language_info": {
   "codemirror_mode": {
    "name": "ipython",
    "version": 3
   },
   "file_extension": ".py",
   "mimetype": "text/x-python",
   "name": "python",
   "nbconvert_exporter": "python",
   "pygments_lexer": "ipython3",
   "version": "3.11.5"
  }
 },
 "nbformat": 4,
 "nbformat_minor": 5
}
