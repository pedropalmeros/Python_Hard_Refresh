{
 "cells": [
  {
   "cell_type": "markdown",
   "id": "27c7bc78",
   "metadata": {},
   "source": [
    "# Accesing, Deleting and Inserting Elements Into ndarrays\n",
    "\n",
    "In previous sessions, the creation of ndarrays has been addressed, in this document, we will now see how NumPy allows us to effectively manipulate the data within the ndarrays. NumPy nd arrays are mutable, meaning that the elements in ndarrays can be changed after the ndarray has been created. Numpy ndarrys can also be sliced, which means that ndarrys can be split in many different ways. This allows us, for example, to retrieve any subset of the ndarry hat we want. Often in Machine Learning you will use slicing to separate data, as for example when dividing data set into training, cross validation and tesing sets. \n",
    "\n",
    "We will start by looking at how the elements of an ndarray can be accessed or modified by indexing. Elements can be accessed using indices inside square brackets `[]`. NumPy allows to use both posittive and negative indices to access elements in the ndarray. Positive indices are used to access elements from the beginning of the array, while negative indicees are used to access elements from the end of the array. "
   ]
  },
  {
   "cell_type": "code",
   "execution_count": 6,
   "id": "ce8eeb41",
   "metadata": {},
   "outputs": [
    {
     "name": "stdout",
     "output_type": "stream",
     "text": [
      "\n",
      "x=  [1 2 3 4 5]\n",
      "\n",
      "This is First Element in x:  1\n",
      "This is Second Element in x :  2\n",
      "This is Fifth (Last) Element in x:  5\n",
      "\n",
      "This is First Element in x:  1\n",
      "This is Second Element in x:  2\n",
      "This is Fifth (Last) Element in x:  5\n"
     ]
    }
   ],
   "source": [
    "import numpy as np\n",
    "\n",
    "# Creating a rank 1 ndarray that contains integer from 1 to 5\n",
    "x = np.arange(1,6)\n",
    "\n",
    "print()\n",
    "print('x= ', x)\n",
    "print()\n",
    "\n",
    "# Let's access some elements with positive indices\n",
    "print('This is First Element in x: ', x[0])\n",
    "print('This is Second Element in x : ', x[1])\n",
    "print('This is Fifth (Last) Element in x: ', x[4])\n",
    "print()\n",
    "\n",
    "# Let's access the same elements with negative indices\n",
    "print('This is First Element in x: ', x[-5])\n",
    "print('This is Second Element in x: ', x[-4])\n",
    "print('This is Fifth (Last) Element in x: ', x[-1])"
   ]
  },
  {
   "cell_type": "markdown",
   "id": "4784c82b",
   "metadata": {},
   "source": [
    "Notice that to access the frist element in the ndarray we have to use the index 0 not 1. Also notice, that the same element can be accessed using both positive and negative indices. As mentioned earlier, positive indices are sued to access elements from the beginning of the array, while negative indeces are used to access elemenets from the end of the array. \n",
    "\n",
    "## Modify an element of 1-D and 2-D array\n",
    "\n",
    "Now let's see how we can change the elements in rank 1 ndarrays. We do this by accessing the element we want to change and then using the `=` sign to assign the new value"
   ]
  },
  {
   "cell_type": "code",
   "execution_count": 9,
   "id": "e4f0c2bc",
   "metadata": {},
   "outputs": [
    {
     "name": "stdout",
     "output_type": "stream",
     "text": [
      "\n",
      "Original: \n",
      " x=  [1 2 3 4 5]\n",
      "\n",
      "Modified: \n",
      " x= [ 1  2  3 20  5]\n"
     ]
    }
   ],
   "source": [
    "x = np.arange(1,6)\n",
    "\n",
    "#We print the original x\n",
    "print()\n",
    "print('Original: \\n x= ', x)\n",
    "print()\n",
    "\n",
    "#we change the fourth element in x from 4 to 20\n",
    "x[3] = 20\n",
    "\n",
    "#we print x again\n",
    "print('Modified: \\n x=', x)"
   ]
  },
  {
   "cell_type": "markdown",
   "id": "d6813b50",
   "metadata": {},
   "source": [
    "Similarly, we can also access and modify specific elements of rank 2 ndarrays. To access elements in rank 2 ndarrays we need to provide 2 indices in the form `[row, column]`."
   ]
  },
  {
   "cell_type": "code",
   "execution_count": 11,
   "id": "ff8d6de6",
   "metadata": {},
   "outputs": [
    {
     "name": "stdout",
     "output_type": "stream",
     "text": [
      "\n",
      "x = \n",
      " [[1 2 3]\n",
      " [4 5 6]\n",
      " [7 8 9]]\n",
      "\n",
      "This is (0,0) Element in X: 1\n",
      "This is (0,1) Element in X: 2\n",
      "This is (2,2) Element in X: 9\n"
     ]
    }
   ],
   "source": [
    "#We create a 3x3 rank 2 ndarray that contains integers from 1 to 9\n",
    "x = np.arange(1,10).reshape((3,3)) #x=np.array([[1 2 3],[4 5 6],[7 8 9]])\n",
    "\n",
    "#We print x \n",
    "print()\n",
    "print('x = \\n', x)\n",
    "print()\n",
    "\n",
    "#Let's access some elements in x\n",
    "print(f'This is (0,0) Element in X: {x[0,0]}')\n",
    "print(f'This is (0,1) Element in X: {x[0,1]}')\n",
    "print(f'This is (2,2) Element in X: {x[2,2]}')"
   ]
  },
  {
   "cell_type": "markdown",
   "id": "c234b9bc",
   "metadata": {},
   "source": [
    "Remember that the index `[0,0]` refers to the element in the first row, first column.\n",
    "\n",
    "Elements in rank 2 ndarrays can be modified in the same way as with rank 1 ndarrays.\n"
   ]
  },
  {
   "cell_type": "code",
   "execution_count": 13,
   "id": "2dc60a6c",
   "metadata": {},
   "outputs": [
    {
     "name": "stdout",
     "output_type": "stream",
     "text": [
      "\n",
      "Original:\n",
      " X = \n",
      " [[1 2 3]\n",
      " [4 5 6]\n",
      " [7 8 9]]\n",
      "\n",
      "\n",
      "Modified:\n",
      " X = \n",
      " [[20  2  3]\n",
      " [ 4  5  6]\n",
      " [ 7  8  9]]\n",
      "\n"
     ]
    }
   ],
   "source": [
    "#We cerate a 3 x 3 rank 2 ndarray that contains integers from 1 to 9\n",
    "x = np.array([[1,2,3],[4,5,6],[7,8,9]])\n",
    "\n",
    "#we print the original x\n",
    "print()\n",
    "print('Original:\\n X = \\n', x)\n",
    "print()\n",
    "\n",
    "#we change the (0,0) element in x from 1 to 20\n",
    "x[0,0] = 20\n",
    "\n",
    "print()\n",
    "print('Modified:\\n X = \\n', x)\n",
    "print()"
   ]
  },
  {
   "cell_type": "markdown",
   "id": "a53c6522",
   "metadata": {},
   "source": [
    "## Delete elements\n",
    "\n",
    "Now let's take a look at how we can add and delete elements from ndarrays. We can delete elements using `np.delete(ndarray, elements, axis)` function. This function `deletes` the given list of `elements` from the given `ndarray` along the specified `axis`. For rank 1 ndarrays the `axis` keyword is not required. For rank 2 ndarrays, `axis=0` is used to select *rows*, and `axis=1` is used to select *columns*. Let's see some examples."
   ]
  },
  {
   "cell_type": "code",
   "execution_count": 16,
   "id": "8378a024",
   "metadata": {},
   "outputs": [
    {
     "name": "stdout",
     "output_type": "stream",
     "text": [
      "\n",
      "Original x =  [1 2 3 4 5]\n",
      "\n",
      "Modified x =  [2 3 4]\n",
      "\n",
      "Original Y = \n",
      " [[1 2 3]\n",
      " [4 5 6]\n",
      " [7 8 9]]\n",
      "\n",
      "w = \n",
      " [[4 5 6]\n",
      " [7 8 9]]\n",
      "\n",
      "v = \n",
      " [[2]\n",
      " [5]\n",
      " [8]]\n"
     ]
    }
   ],
   "source": [
    "#We create a rank 1 ndarray\n",
    "x = np.array([1,2,3,4,5])\n",
    "\n",
    "#We create a rank2 ndarray\n",
    "y = np.array([[1,2,3],[4,5,6],[7,8,9]])\n",
    "\n",
    "#we print x\n",
    "print()\n",
    "print('Original x = ', x)\n",
    "\n",
    "#we delete the first and last element of x\n",
    "x=np.delete(x,[0,4])\n",
    "\n",
    "#we print x with the first and last element deleted\n",
    "print()\n",
    "print('Modified x = ', x)\n",
    "\n",
    "#we print y\n",
    "print()\n",
    "print('Original Y = \\n', y)\n",
    "\n",
    "#we delete the frist row of y\n",
    "w = np.delete(y, 0, axis = 0)\n",
    "\n",
    "# we delete the frist and the last column of y\n",
    "v = np.delete(y, [0,2], axis = 1)\n",
    "\n",
    "# we print w\n",
    "print()\n",
    "print(\"w = \\n\", w)\n",
    "\n",
    "# we print v\n",
    "print()\n",
    "print(\"v = \\n\", v)\n",
    "\n"
   ]
  },
  {
   "cell_type": "markdown",
   "id": "ff249d04",
   "metadata": {},
   "source": [
    "## Numpy.append\n",
    "\n",
    "Syntax:\n",
    "```\n",
    "numpy.append(array, values, axis=None)\n",
    "```\n",
    "It appends values to the end of an array.\n",
    "\n",
    "Now. Let's see how we can append values to ndarrays. We can append values to ndarrays using the ` np.append(ndarray,elements,axis)` function. This function appends the given list of `elements` to `ndarray` along the specified axis. Let's see some examples.\n"
   ]
  },
  {
   "cell_type": "code",
   "execution_count": 19,
   "id": "7109d0da",
   "metadata": {},
   "outputs": [
    {
     "name": "stdout",
     "output_type": "stream",
     "text": [
      "\n",
      "Original x =  [1 2 3 4 5]\n",
      "\n",
      "Modified x =  [1 2 3 4 5 6]\n",
      "\n",
      "Modified x =  [1 2 3 4 5 6 7 8]\n",
      "\n",
      "Original y = \n",
      " [[1 2 3]\n",
      " [4 5 6]]\n",
      "\n",
      "v = \n",
      " [[1 2 3]\n",
      " [4 5 6]\n",
      " [7 8 9]]\n",
      "\n",
      "q = \n",
      " [[ 1  2  3  9]\n",
      " [ 4  5  6 10]]\n"
     ]
    }
   ],
   "source": [
    "# We create a rank 1 ndarray\n",
    "x = np.arange(1,6)\n",
    "\n",
    "# We create a rank 2 ndarray\n",
    "y = np.arange(1,7).reshape((2,3))\n",
    "\n",
    "# we print x\n",
    "print()\n",
    "print('Original x = ',x)\n",
    "\n",
    "# we append the integer 6 to x\n",
    "x = np.append(x,6)\n",
    "\n",
    "# we print x\n",
    "print()\n",
    "print('Modified x = ',x)\n",
    "\n",
    "# we append the integer 7 and 8 to x\n",
    "x = np.append(x,[7,8])\n",
    "\n",
    "# we print x\n",
    "print()\n",
    "print('Modified x = ',x)\n",
    "\n",
    "# we print y\n",
    "print()\n",
    "print('Original y = \\n', y)\n",
    "\n",
    "# we append a new row containing 7,8,9 to y\n",
    "v = np.append(y,[[7,8,9]], axis=0)\n",
    "\n",
    "# we append a new column containing 9 and 10 to y\n",
    "q = np.append(y,[[9],[10]], axis =1)\n",
    "\n",
    "# we print v\n",
    "print()\n",
    "print('v = \\n',v)\n",
    "\n",
    "# we print q\n",
    "print()\n",
    "print('q = \\n',q)"
   ]
  },
  {
   "cell_type": "markdown",
   "id": "edc07d60",
   "metadata": {},
   "source": [
    "Notice that when appending rows or columns to rank 2 ndarrays the rows or columns must have the correct shape, so as to match the shape of the rank 2 ndarray.\n",
    "\n",
    "## Insert values to ndarray\n",
    "\n",
    "Now let's see how we can insert values to ndarrays. We can insert values to ndarrays using the `np.insert(ndarray, index, elements, axis)` function. This function inserts the given list of `elements` to `ndarray` right before the given `index` along the specified `axis`. \n"
   ]
  },
  {
   "cell_type": "code",
   "execution_count": 24,
   "id": "f6841ae9",
   "metadata": {},
   "outputs": [
    {
     "name": "stdout",
     "output_type": "stream",
     "text": [
      "\n",
      "Original x =  [1 2 5 6 7]\n",
      "\n",
      "Modified x =  [1 2 3 4 5 6 7]\n",
      "\n",
      "Original y = \n",
      "  [[1 2 3]\n",
      " [7 8 9]]\n",
      "\n",
      "w = \n",
      " [[1 2 3]\n",
      " [4 5 6]\n",
      " [7 8 9]]\n",
      "\n",
      "v = \n",
      " [[1 5 2 3]\n",
      " [7 5 8 9]]\n"
     ]
    }
   ],
   "source": [
    "# we create a rank 1 ndarray\n",
    "x = np.array([1, 2, 5, 6, 7])\n",
    "\n",
    "# we create a rank 2 ndarray\n",
    "y = np.array([[1,2,3],[7,8,9]])\n",
    "\n",
    "# we print x\n",
    "print()\n",
    "print('Original x = ' , x)\n",
    "\n",
    "# we insert the integer 3 and 4 between 2 and 5 in x\n",
    "x = np.insert(x,2,[3,4])\n",
    "\n",
    "# we print x\n",
    "print()\n",
    "print('Modified x = ' , x)\n",
    "\n",
    "# we print y \n",
    "print()\n",
    "print('Original y = \\n ', y)\n",
    "\n",
    "# we insert a row between the first and last row of y\n",
    "w = np.insert(y,1,[4,5,6], axis = 0)\n",
    "\n",
    "# we insert a column of 5s between the first and the second column of y\n",
    "v = np.insert(y,1,5,axis = 1)\n",
    "\n",
    "# we print w\n",
    "print()\n",
    "print('w = \\n', w)\n",
    "\n",
    "# we print v\n",
    "print()\n",
    "print('v = \\n', v)\n",
    "\n"
   ]
  },
  {
   "cell_type": "markdown",
   "id": "ad3ad94a",
   "metadata": {},
   "source": [
    "## numpy.hstack and numpy.vstack\n",
    "\n",
    "Syntax:\n",
    "```\n",
    "numpy.hstack(sequence_of_ndarray)\n",
    "```\n",
    "It returns a stacked array formed by stacking the given arrays in sequence horizontally (column-wise). \n",
    "\n",
    "```\n",
    "numpy.vstack(sequence_of_ndarray)\n",
    "```\n",
    "It returns a stacked array formed by stacking the given arrays, will be at least 2-D, in sequence vertically (row-wise). \n",
    "\n",
    "Numpy also allows us to stack ndarrays on top of each other, or to stack them side by side. The stacking is done using either the `np.vstack()` function for vertical stacking, or the `np.hstack()` function for horizontal stacking. It is imporant to note that in order to stack ndarrays, the shsape of the ndarrays must match.\n",
    "\n"
   ]
  },
  {
   "cell_type": "code",
   "execution_count": 26,
   "id": "9a9d7f00",
   "metadata": {},
   "outputs": [
    {
     "name": "stdout",
     "output_type": "stream",
     "text": [
      "\n",
      "x =  [1 2]\n",
      "\n",
      "y = \n",
      " [[3 4]\n",
      " [5 6]]\n",
      "\n",
      "z = \n",
      " [[1 2]\n",
      " [3 4]\n",
      " [5 6]]\n",
      "\n",
      "w = \n",
      " [[3 4 1]\n",
      " [5 6 2]]\n"
     ]
    }
   ],
   "source": [
    "# we create a rank 1 ndarray\n",
    "x = np.array([1,2])\n",
    "\n",
    "# we create a rank 2 ndarray\n",
    "y = np.array([[3,4],[5,6]])\n",
    "\n",
    "# we print x \n",
    "print()\n",
    "print('x = ', x)\n",
    "\n",
    "# we print y\n",
    "print()\n",
    "print('y = \\n', y )\n",
    "\n",
    "# we stack x on top of y\n",
    "z = np.vstack((x,y))\n",
    "\n",
    "# we stack x on the right of y. We need to reshape x in order to stack it on the right of y\n",
    "w = np.hstack((y,x.reshape(2,1)))\n",
    "\n",
    "# we print z \n",
    "print()\n",
    "print('z = \\n', z)\n",
    "\n",
    "# we print w\n",
    "print()\n",
    "print('w = \\n', w)"
   ]
  },
  {
   "cell_type": "code",
   "execution_count": null,
   "id": "9941b321",
   "metadata": {},
   "outputs": [],
   "source": []
  }
 ],
 "metadata": {
  "kernelspec": {
   "display_name": "Python 3 (ipykernel)",
   "language": "python",
   "name": "python3"
  },
  "language_info": {
   "codemirror_mode": {
    "name": "ipython",
    "version": 3
   },
   "file_extension": ".py",
   "mimetype": "text/x-python",
   "name": "python",
   "nbconvert_exporter": "python",
   "pygments_lexer": "ipython3",
   "version": "3.11.5"
  }
 },
 "nbformat": 4,
 "nbformat_minor": 5
}
